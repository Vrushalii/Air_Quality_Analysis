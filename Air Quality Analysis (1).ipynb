{
 "cells": [
  {
   "cell_type": "markdown",
   "id": "947d6045",
   "metadata": {},
   "source": [
    "### Importing the libraries"
   ]
  },
  {
   "cell_type": "code",
   "execution_count": 477,
   "id": "2c9f8806",
   "metadata": {},
   "outputs": [],
   "source": [
    "import pandas as pd\n",
    "from datetime import datetime\n",
    "import matplotlib.pyplot as plt\n",
    "import seaborn as sns\n",
    "import numpy as np"
   ]
  },
  {
   "cell_type": "markdown",
   "id": "bbb2b949",
   "metadata": {},
   "source": [
    "### Vrushali & Shubham contribution"
   ]
  },
  {
   "cell_type": "markdown",
   "id": "4e92ebc0",
   "metadata": {},
   "source": [
    "##### Here we have a toal of 6 different datasets."
   ]
  },
  {
   "cell_type": "markdown",
   "id": "5c73357d",
   "metadata": {},
   "source": [
    "##### Loading the first dataset"
   ]
  },
  {
   "cell_type": "code",
   "execution_count": 478,
   "id": "3d77145d",
   "metadata": {},
   "outputs": [
    {
     "data": {
      "text/html": [
       "<div>\n",
       "<style scoped>\n",
       "    .dataframe tbody tr th:only-of-type {\n",
       "        vertical-align: middle;\n",
       "    }\n",
       "\n",
       "    .dataframe tbody tr th {\n",
       "        vertical-align: top;\n",
       "    }\n",
       "\n",
       "    .dataframe thead th {\n",
       "        text-align: right;\n",
       "    }\n",
       "</style>\n",
       "<table border=\"1\" class=\"dataframe\">\n",
       "  <thead>\n",
       "    <tr style=\"text-align: right;\">\n",
       "      <th></th>\n",
       "      <th>City</th>\n",
       "      <th>Date</th>\n",
       "      <th>PM2.5</th>\n",
       "      <th>PM10</th>\n",
       "      <th>NO</th>\n",
       "      <th>NO2</th>\n",
       "      <th>NOx</th>\n",
       "      <th>NH3</th>\n",
       "      <th>CO</th>\n",
       "      <th>SO2</th>\n",
       "      <th>O3</th>\n",
       "      <th>Benzene</th>\n",
       "      <th>Toluene</th>\n",
       "      <th>Xylene</th>\n",
       "      <th>AQI</th>\n",
       "      <th>AQI_Bucket</th>\n",
       "    </tr>\n",
       "  </thead>\n",
       "  <tbody>\n",
       "    <tr>\n",
       "      <th>0</th>\n",
       "      <td>Ahmedabad</td>\n",
       "      <td>2015-01-01</td>\n",
       "      <td>NaN</td>\n",
       "      <td>NaN</td>\n",
       "      <td>0.92</td>\n",
       "      <td>18.22</td>\n",
       "      <td>17.15</td>\n",
       "      <td>NaN</td>\n",
       "      <td>0.92</td>\n",
       "      <td>27.64</td>\n",
       "      <td>133.36</td>\n",
       "      <td>0.00</td>\n",
       "      <td>0.02</td>\n",
       "      <td>0.00</td>\n",
       "      <td>NaN</td>\n",
       "      <td>NaN</td>\n",
       "    </tr>\n",
       "    <tr>\n",
       "      <th>1</th>\n",
       "      <td>Ahmedabad</td>\n",
       "      <td>2015-01-02</td>\n",
       "      <td>NaN</td>\n",
       "      <td>NaN</td>\n",
       "      <td>0.97</td>\n",
       "      <td>15.69</td>\n",
       "      <td>16.46</td>\n",
       "      <td>NaN</td>\n",
       "      <td>0.97</td>\n",
       "      <td>24.55</td>\n",
       "      <td>34.06</td>\n",
       "      <td>3.68</td>\n",
       "      <td>5.50</td>\n",
       "      <td>3.77</td>\n",
       "      <td>NaN</td>\n",
       "      <td>NaN</td>\n",
       "    </tr>\n",
       "    <tr>\n",
       "      <th>2</th>\n",
       "      <td>Ahmedabad</td>\n",
       "      <td>2015-01-03</td>\n",
       "      <td>NaN</td>\n",
       "      <td>NaN</td>\n",
       "      <td>17.40</td>\n",
       "      <td>19.30</td>\n",
       "      <td>29.70</td>\n",
       "      <td>NaN</td>\n",
       "      <td>17.40</td>\n",
       "      <td>29.07</td>\n",
       "      <td>30.70</td>\n",
       "      <td>6.80</td>\n",
       "      <td>16.40</td>\n",
       "      <td>2.25</td>\n",
       "      <td>NaN</td>\n",
       "      <td>NaN</td>\n",
       "    </tr>\n",
       "    <tr>\n",
       "      <th>3</th>\n",
       "      <td>Ahmedabad</td>\n",
       "      <td>2015-01-04</td>\n",
       "      <td>NaN</td>\n",
       "      <td>NaN</td>\n",
       "      <td>1.70</td>\n",
       "      <td>18.48</td>\n",
       "      <td>17.97</td>\n",
       "      <td>NaN</td>\n",
       "      <td>1.70</td>\n",
       "      <td>18.59</td>\n",
       "      <td>36.08</td>\n",
       "      <td>4.43</td>\n",
       "      <td>10.14</td>\n",
       "      <td>1.00</td>\n",
       "      <td>NaN</td>\n",
       "      <td>NaN</td>\n",
       "    </tr>\n",
       "    <tr>\n",
       "      <th>4</th>\n",
       "      <td>Ahmedabad</td>\n",
       "      <td>2015-01-05</td>\n",
       "      <td>NaN</td>\n",
       "      <td>NaN</td>\n",
       "      <td>22.10</td>\n",
       "      <td>21.42</td>\n",
       "      <td>37.76</td>\n",
       "      <td>NaN</td>\n",
       "      <td>22.10</td>\n",
       "      <td>39.33</td>\n",
       "      <td>39.31</td>\n",
       "      <td>7.01</td>\n",
       "      <td>18.89</td>\n",
       "      <td>2.78</td>\n",
       "      <td>NaN</td>\n",
       "      <td>NaN</td>\n",
       "    </tr>\n",
       "  </tbody>\n",
       "</table>\n",
       "</div>"
      ],
      "text/plain": [
       "        City        Date  PM2.5  PM10     NO    NO2    NOx  NH3     CO    SO2  \\\n",
       "0  Ahmedabad  2015-01-01    NaN   NaN   0.92  18.22  17.15  NaN   0.92  27.64   \n",
       "1  Ahmedabad  2015-01-02    NaN   NaN   0.97  15.69  16.46  NaN   0.97  24.55   \n",
       "2  Ahmedabad  2015-01-03    NaN   NaN  17.40  19.30  29.70  NaN  17.40  29.07   \n",
       "3  Ahmedabad  2015-01-04    NaN   NaN   1.70  18.48  17.97  NaN   1.70  18.59   \n",
       "4  Ahmedabad  2015-01-05    NaN   NaN  22.10  21.42  37.76  NaN  22.10  39.33   \n",
       "\n",
       "       O3  Benzene  Toluene  Xylene  AQI AQI_Bucket  \n",
       "0  133.36     0.00     0.02    0.00  NaN        NaN  \n",
       "1   34.06     3.68     5.50    3.77  NaN        NaN  \n",
       "2   30.70     6.80    16.40    2.25  NaN        NaN  \n",
       "3   36.08     4.43    10.14    1.00  NaN        NaN  \n",
       "4   39.31     7.01    18.89    2.78  NaN        NaN  "
      ]
     },
     "execution_count": 478,
     "metadata": {},
     "output_type": "execute_result"
    }
   ],
   "source": [
    "df1 = pd.read_csv('city_day.csv')\n",
    "df1.head()"
   ]
  },
  {
   "cell_type": "code",
   "execution_count": 479,
   "id": "00258b7b",
   "metadata": {},
   "outputs": [
    {
     "data": {
      "text/plain": [
       "29531"
      ]
     },
     "execution_count": 479,
     "metadata": {},
     "output_type": "execute_result"
    }
   ],
   "source": [
    "df1.shape[0]"
   ]
  },
  {
   "cell_type": "code",
   "execution_count": 480,
   "id": "06e95d78",
   "metadata": {},
   "outputs": [
    {
     "data": {
      "text/plain": [
       "(29531, 16)"
      ]
     },
     "execution_count": 480,
     "metadata": {},
     "output_type": "execute_result"
    }
   ],
   "source": [
    "df1.shape"
   ]
  },
  {
   "cell_type": "code",
   "execution_count": 481,
   "id": "60d64ccf",
   "metadata": {},
   "outputs": [],
   "source": [
    "list_null_keys = list(df1.isnull().sum().index)"
   ]
  },
  {
   "cell_type": "code",
   "execution_count": 482,
   "id": "c19a7930",
   "metadata": {},
   "outputs": [
    {
     "data": {
      "text/plain": [
       "array([    0,     0,  4598, 11140,  3582,  3585,  4185, 10328,  2059,\n",
       "        3854,  4022,  5623,  8041, 18109,  4681,  4681], dtype=int64)"
      ]
     },
     "execution_count": 482,
     "metadata": {},
     "output_type": "execute_result"
    }
   ],
   "source": [
    "df1.isnull().sum().values"
   ]
  },
  {
   "cell_type": "code",
   "execution_count": 483,
   "id": "df76fc81",
   "metadata": {},
   "outputs": [],
   "source": [
    "list_null_values = []\n",
    "for i in df1.isnull().sum().values:\n",
    "    b = i/df1.shape[0] * 100\n",
    "    list_null_values.append(b)"
   ]
  },
  {
   "cell_type": "code",
   "execution_count": 484,
   "id": "7eecc29f",
   "metadata": {},
   "outputs": [],
   "source": [
    "null_values_percentage = dict(zip(list_null_keys,list_null_values))"
   ]
  },
  {
   "cell_type": "code",
   "execution_count": 485,
   "id": "33f621b2",
   "metadata": {},
   "outputs": [
    {
     "data": {
      "text/plain": [
       "{'City': 0.0,\n",
       " 'Date': 0.0,\n",
       " 'PM2.5': 15.570078900138837,\n",
       " 'PM10': 37.72307067149775,\n",
       " 'NO': 12.129626494192543,\n",
       " 'NO2': 12.139785310351833,\n",
       " 'NOx': 14.17154854220988,\n",
       " 'NH3': 34.97341776438319,\n",
       " 'CO': 6.9723341573262,\n",
       " 'SO2': 13.050692492634857,\n",
       " 'O3': 13.619586197555112,\n",
       " 'Benzene': 19.041007754563,\n",
       " 'Toluene': 27.229013578950934,\n",
       " 'Xylene': 61.32200060952897,\n",
       " 'AQI': 15.851139480545868,\n",
       " 'AQI_Bucket': 15.851139480545868}"
      ]
     },
     "execution_count": 485,
     "metadata": {},
     "output_type": "execute_result"
    }
   ],
   "source": [
    "null_values_percentage"
   ]
  },
  {
   "cell_type": "code",
   "execution_count": 486,
   "id": "d6f75c26",
   "metadata": {},
   "outputs": [],
   "source": [
    "# so, here we can see the % of missing values."
   ]
  },
  {
   "cell_type": "code",
   "execution_count": 487,
   "id": "90509085",
   "metadata": {},
   "outputs": [
    {
     "name": "stdout",
     "output_type": "stream",
     "text": [
      "<class 'pandas.core.frame.DataFrame'>\n",
      "RangeIndex: 29531 entries, 0 to 29530\n",
      "Data columns (total 16 columns):\n",
      " #   Column      Non-Null Count  Dtype  \n",
      "---  ------      --------------  -----  \n",
      " 0   City        29531 non-null  object \n",
      " 1   Date        29531 non-null  object \n",
      " 2   PM2.5       24933 non-null  float64\n",
      " 3   PM10        18391 non-null  float64\n",
      " 4   NO          25949 non-null  float64\n",
      " 5   NO2         25946 non-null  float64\n",
      " 6   NOx         25346 non-null  float64\n",
      " 7   NH3         19203 non-null  float64\n",
      " 8   CO          27472 non-null  float64\n",
      " 9   SO2         25677 non-null  float64\n",
      " 10  O3          25509 non-null  float64\n",
      " 11  Benzene     23908 non-null  float64\n",
      " 12  Toluene     21490 non-null  float64\n",
      " 13  Xylene      11422 non-null  float64\n",
      " 14  AQI         24850 non-null  float64\n",
      " 15  AQI_Bucket  24850 non-null  object \n",
      "dtypes: float64(13), object(3)\n",
      "memory usage: 3.6+ MB\n"
     ]
    }
   ],
   "source": [
    "df1.info()"
   ]
  },
  {
   "cell_type": "code",
   "execution_count": 488,
   "id": "a287f1bd",
   "metadata": {},
   "outputs": [
    {
     "data": {
      "text/html": [
       "<div>\n",
       "<style scoped>\n",
       "    .dataframe tbody tr th:only-of-type {\n",
       "        vertical-align: middle;\n",
       "    }\n",
       "\n",
       "    .dataframe tbody tr th {\n",
       "        vertical-align: top;\n",
       "    }\n",
       "\n",
       "    .dataframe thead th {\n",
       "        text-align: right;\n",
       "    }\n",
       "</style>\n",
       "<table border=\"1\" class=\"dataframe\">\n",
       "  <thead>\n",
       "    <tr style=\"text-align: right;\">\n",
       "      <th></th>\n",
       "      <th>City</th>\n",
       "      <th>Date</th>\n",
       "      <th>PM2.5</th>\n",
       "      <th>PM10</th>\n",
       "      <th>NO</th>\n",
       "      <th>NO2</th>\n",
       "      <th>NOx</th>\n",
       "      <th>NH3</th>\n",
       "      <th>CO</th>\n",
       "      <th>SO2</th>\n",
       "      <th>O3</th>\n",
       "      <th>Benzene</th>\n",
       "      <th>Toluene</th>\n",
       "      <th>Xylene</th>\n",
       "      <th>AQI</th>\n",
       "      <th>AQI_Bucket</th>\n",
       "    </tr>\n",
       "  </thead>\n",
       "  <tbody>\n",
       "    <tr>\n",
       "      <th>29526</th>\n",
       "      <td>Visakhapatnam</td>\n",
       "      <td>2020-06-27</td>\n",
       "      <td>15.02</td>\n",
       "      <td>50.94</td>\n",
       "      <td>7.68</td>\n",
       "      <td>25.06</td>\n",
       "      <td>19.54</td>\n",
       "      <td>12.47</td>\n",
       "      <td>0.47</td>\n",
       "      <td>8.55</td>\n",
       "      <td>23.30</td>\n",
       "      <td>2.24</td>\n",
       "      <td>12.07</td>\n",
       "      <td>0.73</td>\n",
       "      <td>41.0</td>\n",
       "      <td>Good</td>\n",
       "    </tr>\n",
       "    <tr>\n",
       "      <th>29527</th>\n",
       "      <td>Visakhapatnam</td>\n",
       "      <td>2020-06-28</td>\n",
       "      <td>24.38</td>\n",
       "      <td>74.09</td>\n",
       "      <td>3.42</td>\n",
       "      <td>26.06</td>\n",
       "      <td>16.53</td>\n",
       "      <td>11.99</td>\n",
       "      <td>0.52</td>\n",
       "      <td>12.72</td>\n",
       "      <td>30.14</td>\n",
       "      <td>0.74</td>\n",
       "      <td>2.21</td>\n",
       "      <td>0.38</td>\n",
       "      <td>70.0</td>\n",
       "      <td>Satisfactory</td>\n",
       "    </tr>\n",
       "    <tr>\n",
       "      <th>29528</th>\n",
       "      <td>Visakhapatnam</td>\n",
       "      <td>2020-06-29</td>\n",
       "      <td>22.91</td>\n",
       "      <td>65.73</td>\n",
       "      <td>3.45</td>\n",
       "      <td>29.53</td>\n",
       "      <td>18.33</td>\n",
       "      <td>10.71</td>\n",
       "      <td>0.48</td>\n",
       "      <td>8.42</td>\n",
       "      <td>30.96</td>\n",
       "      <td>0.01</td>\n",
       "      <td>0.01</td>\n",
       "      <td>0.00</td>\n",
       "      <td>68.0</td>\n",
       "      <td>Satisfactory</td>\n",
       "    </tr>\n",
       "    <tr>\n",
       "      <th>29529</th>\n",
       "      <td>Visakhapatnam</td>\n",
       "      <td>2020-06-30</td>\n",
       "      <td>16.64</td>\n",
       "      <td>49.97</td>\n",
       "      <td>4.05</td>\n",
       "      <td>29.26</td>\n",
       "      <td>18.80</td>\n",
       "      <td>10.03</td>\n",
       "      <td>0.52</td>\n",
       "      <td>9.84</td>\n",
       "      <td>28.30</td>\n",
       "      <td>0.00</td>\n",
       "      <td>0.00</td>\n",
       "      <td>0.00</td>\n",
       "      <td>54.0</td>\n",
       "      <td>Satisfactory</td>\n",
       "    </tr>\n",
       "    <tr>\n",
       "      <th>29530</th>\n",
       "      <td>Visakhapatnam</td>\n",
       "      <td>2020-07-01</td>\n",
       "      <td>15.00</td>\n",
       "      <td>66.00</td>\n",
       "      <td>0.40</td>\n",
       "      <td>26.85</td>\n",
       "      <td>14.05</td>\n",
       "      <td>5.20</td>\n",
       "      <td>0.59</td>\n",
       "      <td>2.10</td>\n",
       "      <td>17.05</td>\n",
       "      <td>NaN</td>\n",
       "      <td>NaN</td>\n",
       "      <td>NaN</td>\n",
       "      <td>50.0</td>\n",
       "      <td>Good</td>\n",
       "    </tr>\n",
       "  </tbody>\n",
       "</table>\n",
       "</div>"
      ],
      "text/plain": [
       "                City        Date  PM2.5   PM10    NO    NO2    NOx    NH3  \\\n",
       "29526  Visakhapatnam  2020-06-27  15.02  50.94  7.68  25.06  19.54  12.47   \n",
       "29527  Visakhapatnam  2020-06-28  24.38  74.09  3.42  26.06  16.53  11.99   \n",
       "29528  Visakhapatnam  2020-06-29  22.91  65.73  3.45  29.53  18.33  10.71   \n",
       "29529  Visakhapatnam  2020-06-30  16.64  49.97  4.05  29.26  18.80  10.03   \n",
       "29530  Visakhapatnam  2020-07-01  15.00  66.00  0.40  26.85  14.05   5.20   \n",
       "\n",
       "         CO    SO2     O3  Benzene  Toluene  Xylene   AQI    AQI_Bucket  \n",
       "29526  0.47   8.55  23.30     2.24    12.07    0.73  41.0          Good  \n",
       "29527  0.52  12.72  30.14     0.74     2.21    0.38  70.0  Satisfactory  \n",
       "29528  0.48   8.42  30.96     0.01     0.01    0.00  68.0  Satisfactory  \n",
       "29529  0.52   9.84  28.30     0.00     0.00    0.00  54.0  Satisfactory  \n",
       "29530  0.59   2.10  17.05      NaN      NaN     NaN  50.0          Good  "
      ]
     },
     "execution_count": 488,
     "metadata": {},
     "output_type": "execute_result"
    }
   ],
   "source": [
    "df1.tail()"
   ]
  },
  {
   "cell_type": "code",
   "execution_count": 489,
   "id": "22157b67",
   "metadata": {},
   "outputs": [
    {
     "name": "stdout",
     "output_type": "stream",
     "text": [
      "0        1\n",
      "1        1\n",
      "2        1\n",
      "3        1\n",
      "4        1\n",
      "        ..\n",
      "29526    6\n",
      "29527    6\n",
      "29528    6\n",
      "29529    6\n",
      "29530    7\n",
      "Name: month, Length: 29531, dtype: int64\n"
     ]
    }
   ],
   "source": [
    "# Fetching the Month from the column\n",
    "df1['Date'] = pd.to_datetime(df1['Date']) \n",
    "df1['month'] = df1['Date'].dt.month\n",
    "\n",
    "print(df1['month'])\n"
   ]
  },
  {
   "cell_type": "code",
   "execution_count": 490,
   "id": "61b5a297",
   "metadata": {},
   "outputs": [
    {
     "data": {
      "text/plain": [
       "5     2821\n",
       "6     2811\n",
       "3     2749\n",
       "4     2702\n",
       "1     2621\n",
       "2     2457\n",
       "12    2362\n",
       "10    2263\n",
       "11    2201\n",
       "7     2196\n",
       "8     2175\n",
       "9     2173\n",
       "Name: month, dtype: int64"
      ]
     },
     "execution_count": 490,
     "metadata": {},
     "output_type": "execute_result"
    }
   ],
   "source": [
    "df1['month'].value_counts()"
   ]
  },
  {
   "cell_type": "code",
   "execution_count": 491,
   "id": "051d53c0",
   "metadata": {},
   "outputs": [
    {
     "data": {
      "text/plain": [
       "City              0\n",
       "Date              0\n",
       "PM2.5          4598\n",
       "PM10          11140\n",
       "NO             3582\n",
       "NO2            3585\n",
       "NOx            4185\n",
       "NH3           10328\n",
       "CO             2059\n",
       "SO2            3854\n",
       "O3             4022\n",
       "Benzene        5623\n",
       "Toluene        8041\n",
       "Xylene        18109\n",
       "AQI            4681\n",
       "AQI_Bucket     4681\n",
       "month             0\n",
       "dtype: int64"
      ]
     },
     "execution_count": 491,
     "metadata": {},
     "output_type": "execute_result"
    }
   ],
   "source": [
    "df1.isnull().sum()"
   ]
  },
  {
   "cell_type": "code",
   "execution_count": 492,
   "id": "6372369d",
   "metadata": {},
   "outputs": [],
   "source": [
    "data = df1[df1['PM2.5'].isnull()]"
   ]
  },
  {
   "cell_type": "code",
   "execution_count": 493,
   "id": "6251dfec",
   "metadata": {},
   "outputs": [
    {
     "data": {
      "text/html": [
       "<div>\n",
       "<style scoped>\n",
       "    .dataframe tbody tr th:only-of-type {\n",
       "        vertical-align: middle;\n",
       "    }\n",
       "\n",
       "    .dataframe tbody tr th {\n",
       "        vertical-align: top;\n",
       "    }\n",
       "\n",
       "    .dataframe thead th {\n",
       "        text-align: right;\n",
       "    }\n",
       "</style>\n",
       "<table border=\"1\" class=\"dataframe\">\n",
       "  <thead>\n",
       "    <tr style=\"text-align: right;\">\n",
       "      <th></th>\n",
       "      <th>City</th>\n",
       "      <th>Date</th>\n",
       "      <th>PM2.5</th>\n",
       "      <th>PM10</th>\n",
       "      <th>NO</th>\n",
       "      <th>NO2</th>\n",
       "      <th>NOx</th>\n",
       "      <th>NH3</th>\n",
       "      <th>CO</th>\n",
       "      <th>SO2</th>\n",
       "      <th>O3</th>\n",
       "      <th>Benzene</th>\n",
       "      <th>Toluene</th>\n",
       "      <th>Xylene</th>\n",
       "      <th>AQI</th>\n",
       "      <th>AQI_Bucket</th>\n",
       "      <th>month</th>\n",
       "    </tr>\n",
       "  </thead>\n",
       "  <tbody>\n",
       "    <tr>\n",
       "      <th>0</th>\n",
       "      <td>Ahmedabad</td>\n",
       "      <td>2015-01-01</td>\n",
       "      <td>NaN</td>\n",
       "      <td>NaN</td>\n",
       "      <td>0.92</td>\n",
       "      <td>18.22</td>\n",
       "      <td>17.15</td>\n",
       "      <td>NaN</td>\n",
       "      <td>0.92</td>\n",
       "      <td>27.64</td>\n",
       "      <td>133.36</td>\n",
       "      <td>0.00</td>\n",
       "      <td>0.02</td>\n",
       "      <td>0.00</td>\n",
       "      <td>NaN</td>\n",
       "      <td>NaN</td>\n",
       "      <td>1</td>\n",
       "    </tr>\n",
       "    <tr>\n",
       "      <th>1</th>\n",
       "      <td>Ahmedabad</td>\n",
       "      <td>2015-01-02</td>\n",
       "      <td>NaN</td>\n",
       "      <td>NaN</td>\n",
       "      <td>0.97</td>\n",
       "      <td>15.69</td>\n",
       "      <td>16.46</td>\n",
       "      <td>NaN</td>\n",
       "      <td>0.97</td>\n",
       "      <td>24.55</td>\n",
       "      <td>34.06</td>\n",
       "      <td>3.68</td>\n",
       "      <td>5.50</td>\n",
       "      <td>3.77</td>\n",
       "      <td>NaN</td>\n",
       "      <td>NaN</td>\n",
       "      <td>1</td>\n",
       "    </tr>\n",
       "    <tr>\n",
       "      <th>2</th>\n",
       "      <td>Ahmedabad</td>\n",
       "      <td>2015-01-03</td>\n",
       "      <td>NaN</td>\n",
       "      <td>NaN</td>\n",
       "      <td>17.40</td>\n",
       "      <td>19.30</td>\n",
       "      <td>29.70</td>\n",
       "      <td>NaN</td>\n",
       "      <td>17.40</td>\n",
       "      <td>29.07</td>\n",
       "      <td>30.70</td>\n",
       "      <td>6.80</td>\n",
       "      <td>16.40</td>\n",
       "      <td>2.25</td>\n",
       "      <td>NaN</td>\n",
       "      <td>NaN</td>\n",
       "      <td>1</td>\n",
       "    </tr>\n",
       "    <tr>\n",
       "      <th>3</th>\n",
       "      <td>Ahmedabad</td>\n",
       "      <td>2015-01-04</td>\n",
       "      <td>NaN</td>\n",
       "      <td>NaN</td>\n",
       "      <td>1.70</td>\n",
       "      <td>18.48</td>\n",
       "      <td>17.97</td>\n",
       "      <td>NaN</td>\n",
       "      <td>1.70</td>\n",
       "      <td>18.59</td>\n",
       "      <td>36.08</td>\n",
       "      <td>4.43</td>\n",
       "      <td>10.14</td>\n",
       "      <td>1.00</td>\n",
       "      <td>NaN</td>\n",
       "      <td>NaN</td>\n",
       "      <td>1</td>\n",
       "    </tr>\n",
       "    <tr>\n",
       "      <th>4</th>\n",
       "      <td>Ahmedabad</td>\n",
       "      <td>2015-01-05</td>\n",
       "      <td>NaN</td>\n",
       "      <td>NaN</td>\n",
       "      <td>22.10</td>\n",
       "      <td>21.42</td>\n",
       "      <td>37.76</td>\n",
       "      <td>NaN</td>\n",
       "      <td>22.10</td>\n",
       "      <td>39.33</td>\n",
       "      <td>39.31</td>\n",
       "      <td>7.01</td>\n",
       "      <td>18.89</td>\n",
       "      <td>2.78</td>\n",
       "      <td>NaN</td>\n",
       "      <td>NaN</td>\n",
       "      <td>1</td>\n",
       "    </tr>\n",
       "  </tbody>\n",
       "</table>\n",
       "</div>"
      ],
      "text/plain": [
       "        City       Date  PM2.5  PM10     NO    NO2    NOx  NH3     CO    SO2  \\\n",
       "0  Ahmedabad 2015-01-01    NaN   NaN   0.92  18.22  17.15  NaN   0.92  27.64   \n",
       "1  Ahmedabad 2015-01-02    NaN   NaN   0.97  15.69  16.46  NaN   0.97  24.55   \n",
       "2  Ahmedabad 2015-01-03    NaN   NaN  17.40  19.30  29.70  NaN  17.40  29.07   \n",
       "3  Ahmedabad 2015-01-04    NaN   NaN   1.70  18.48  17.97  NaN   1.70  18.59   \n",
       "4  Ahmedabad 2015-01-05    NaN   NaN  22.10  21.42  37.76  NaN  22.10  39.33   \n",
       "\n",
       "       O3  Benzene  Toluene  Xylene  AQI AQI_Bucket  month  \n",
       "0  133.36     0.00     0.02    0.00  NaN        NaN      1  \n",
       "1   34.06     3.68     5.50    3.77  NaN        NaN      1  \n",
       "2   30.70     6.80    16.40    2.25  NaN        NaN      1  \n",
       "3   36.08     4.43    10.14    1.00  NaN        NaN      1  \n",
       "4   39.31     7.01    18.89    2.78  NaN        NaN      1  "
      ]
     },
     "execution_count": 493,
     "metadata": {},
     "output_type": "execute_result"
    }
   ],
   "source": [
    "data.head()"
   ]
  },
  {
   "cell_type": "code",
   "execution_count": 494,
   "id": "1262b509",
   "metadata": {},
   "outputs": [
    {
     "data": {
      "text/html": [
       "<div>\n",
       "<style scoped>\n",
       "    .dataframe tbody tr th:only-of-type {\n",
       "        vertical-align: middle;\n",
       "    }\n",
       "\n",
       "    .dataframe tbody tr th {\n",
       "        vertical-align: top;\n",
       "    }\n",
       "\n",
       "    .dataframe thead th {\n",
       "        text-align: right;\n",
       "    }\n",
       "</style>\n",
       "<table border=\"1\" class=\"dataframe\">\n",
       "  <thead>\n",
       "    <tr style=\"text-align: right;\">\n",
       "      <th></th>\n",
       "      <th>City</th>\n",
       "      <th>Date</th>\n",
       "      <th>PM2.5</th>\n",
       "      <th>PM10</th>\n",
       "      <th>NO</th>\n",
       "      <th>NO2</th>\n",
       "      <th>NOx</th>\n",
       "      <th>NH3</th>\n",
       "      <th>CO</th>\n",
       "      <th>SO2</th>\n",
       "      <th>O3</th>\n",
       "      <th>Benzene</th>\n",
       "      <th>Toluene</th>\n",
       "      <th>Xylene</th>\n",
       "      <th>AQI</th>\n",
       "      <th>AQI_Bucket</th>\n",
       "      <th>month</th>\n",
       "    </tr>\n",
       "  </thead>\n",
       "  <tbody>\n",
       "    <tr>\n",
       "      <th>0</th>\n",
       "      <td>Ahmedabad</td>\n",
       "      <td>2015-01-01</td>\n",
       "      <td>NaN</td>\n",
       "      <td>NaN</td>\n",
       "      <td>0.92</td>\n",
       "      <td>18.22</td>\n",
       "      <td>17.15</td>\n",
       "      <td>NaN</td>\n",
       "      <td>0.92</td>\n",
       "      <td>27.64</td>\n",
       "      <td>133.36</td>\n",
       "      <td>0.00</td>\n",
       "      <td>0.02</td>\n",
       "      <td>0.00</td>\n",
       "      <td>NaN</td>\n",
       "      <td>NaN</td>\n",
       "      <td>1</td>\n",
       "    </tr>\n",
       "    <tr>\n",
       "      <th>1</th>\n",
       "      <td>Ahmedabad</td>\n",
       "      <td>2015-01-02</td>\n",
       "      <td>NaN</td>\n",
       "      <td>NaN</td>\n",
       "      <td>0.97</td>\n",
       "      <td>15.69</td>\n",
       "      <td>16.46</td>\n",
       "      <td>NaN</td>\n",
       "      <td>0.97</td>\n",
       "      <td>24.55</td>\n",
       "      <td>34.06</td>\n",
       "      <td>3.68</td>\n",
       "      <td>5.50</td>\n",
       "      <td>3.77</td>\n",
       "      <td>NaN</td>\n",
       "      <td>NaN</td>\n",
       "      <td>1</td>\n",
       "    </tr>\n",
       "    <tr>\n",
       "      <th>2</th>\n",
       "      <td>Ahmedabad</td>\n",
       "      <td>2015-01-03</td>\n",
       "      <td>NaN</td>\n",
       "      <td>NaN</td>\n",
       "      <td>17.40</td>\n",
       "      <td>19.30</td>\n",
       "      <td>29.70</td>\n",
       "      <td>NaN</td>\n",
       "      <td>17.40</td>\n",
       "      <td>29.07</td>\n",
       "      <td>30.70</td>\n",
       "      <td>6.80</td>\n",
       "      <td>16.40</td>\n",
       "      <td>2.25</td>\n",
       "      <td>NaN</td>\n",
       "      <td>NaN</td>\n",
       "      <td>1</td>\n",
       "    </tr>\n",
       "    <tr>\n",
       "      <th>3</th>\n",
       "      <td>Ahmedabad</td>\n",
       "      <td>2015-01-04</td>\n",
       "      <td>NaN</td>\n",
       "      <td>NaN</td>\n",
       "      <td>1.70</td>\n",
       "      <td>18.48</td>\n",
       "      <td>17.97</td>\n",
       "      <td>NaN</td>\n",
       "      <td>1.70</td>\n",
       "      <td>18.59</td>\n",
       "      <td>36.08</td>\n",
       "      <td>4.43</td>\n",
       "      <td>10.14</td>\n",
       "      <td>1.00</td>\n",
       "      <td>NaN</td>\n",
       "      <td>NaN</td>\n",
       "      <td>1</td>\n",
       "    </tr>\n",
       "    <tr>\n",
       "      <th>4</th>\n",
       "      <td>Ahmedabad</td>\n",
       "      <td>2015-01-05</td>\n",
       "      <td>NaN</td>\n",
       "      <td>NaN</td>\n",
       "      <td>22.10</td>\n",
       "      <td>21.42</td>\n",
       "      <td>37.76</td>\n",
       "      <td>NaN</td>\n",
       "      <td>22.10</td>\n",
       "      <td>39.33</td>\n",
       "      <td>39.31</td>\n",
       "      <td>7.01</td>\n",
       "      <td>18.89</td>\n",
       "      <td>2.78</td>\n",
       "      <td>NaN</td>\n",
       "      <td>NaN</td>\n",
       "      <td>1</td>\n",
       "    </tr>\n",
       "    <tr>\n",
       "      <th>...</th>\n",
       "      <td>...</td>\n",
       "      <td>...</td>\n",
       "      <td>...</td>\n",
       "      <td>...</td>\n",
       "      <td>...</td>\n",
       "      <td>...</td>\n",
       "      <td>...</td>\n",
       "      <td>...</td>\n",
       "      <td>...</td>\n",
       "      <td>...</td>\n",
       "      <td>...</td>\n",
       "      <td>...</td>\n",
       "      <td>...</td>\n",
       "      <td>...</td>\n",
       "      <td>...</td>\n",
       "      <td>...</td>\n",
       "      <td>...</td>\n",
       "    </tr>\n",
       "    <tr>\n",
       "      <th>1591</th>\n",
       "      <td>Ahmedabad</td>\n",
       "      <td>2019-05-11</td>\n",
       "      <td>NaN</td>\n",
       "      <td>NaN</td>\n",
       "      <td>NaN</td>\n",
       "      <td>NaN</td>\n",
       "      <td>0.00</td>\n",
       "      <td>NaN</td>\n",
       "      <td>NaN</td>\n",
       "      <td>NaN</td>\n",
       "      <td>NaN</td>\n",
       "      <td>0.00</td>\n",
       "      <td>0.00</td>\n",
       "      <td>0.00</td>\n",
       "      <td>NaN</td>\n",
       "      <td>NaN</td>\n",
       "      <td>5</td>\n",
       "    </tr>\n",
       "    <tr>\n",
       "      <th>1592</th>\n",
       "      <td>Ahmedabad</td>\n",
       "      <td>2019-05-12</td>\n",
       "      <td>NaN</td>\n",
       "      <td>NaN</td>\n",
       "      <td>NaN</td>\n",
       "      <td>NaN</td>\n",
       "      <td>0.00</td>\n",
       "      <td>NaN</td>\n",
       "      <td>NaN</td>\n",
       "      <td>NaN</td>\n",
       "      <td>NaN</td>\n",
       "      <td>0.00</td>\n",
       "      <td>0.00</td>\n",
       "      <td>0.00</td>\n",
       "      <td>NaN</td>\n",
       "      <td>NaN</td>\n",
       "      <td>5</td>\n",
       "    </tr>\n",
       "    <tr>\n",
       "      <th>1593</th>\n",
       "      <td>Ahmedabad</td>\n",
       "      <td>2019-05-13</td>\n",
       "      <td>NaN</td>\n",
       "      <td>NaN</td>\n",
       "      <td>NaN</td>\n",
       "      <td>NaN</td>\n",
       "      <td>0.00</td>\n",
       "      <td>NaN</td>\n",
       "      <td>NaN</td>\n",
       "      <td>NaN</td>\n",
       "      <td>NaN</td>\n",
       "      <td>0.00</td>\n",
       "      <td>0.00</td>\n",
       "      <td>0.00</td>\n",
       "      <td>NaN</td>\n",
       "      <td>NaN</td>\n",
       "      <td>5</td>\n",
       "    </tr>\n",
       "    <tr>\n",
       "      <th>1715</th>\n",
       "      <td>Ahmedabad</td>\n",
       "      <td>2019-09-12</td>\n",
       "      <td>NaN</td>\n",
       "      <td>NaN</td>\n",
       "      <td>49.78</td>\n",
       "      <td>39.61</td>\n",
       "      <td>79.26</td>\n",
       "      <td>NaN</td>\n",
       "      <td>49.78</td>\n",
       "      <td>52.59</td>\n",
       "      <td>22.98</td>\n",
       "      <td>2.14</td>\n",
       "      <td>32.05</td>\n",
       "      <td>0.52</td>\n",
       "      <td>NaN</td>\n",
       "      <td>NaN</td>\n",
       "      <td>9</td>\n",
       "    </tr>\n",
       "    <tr>\n",
       "      <th>1980</th>\n",
       "      <td>Ahmedabad</td>\n",
       "      <td>2020-06-03</td>\n",
       "      <td>NaN</td>\n",
       "      <td>586.27</td>\n",
       "      <td>2.23</td>\n",
       "      <td>43.36</td>\n",
       "      <td>21.25</td>\n",
       "      <td>NaN</td>\n",
       "      <td>0.44</td>\n",
       "      <td>23.71</td>\n",
       "      <td>73.66</td>\n",
       "      <td>8.04</td>\n",
       "      <td>42.98</td>\n",
       "      <td>3.65</td>\n",
       "      <td>NaN</td>\n",
       "      <td>NaN</td>\n",
       "      <td>6</td>\n",
       "    </tr>\n",
       "  </tbody>\n",
       "</table>\n",
       "<p>628 rows × 17 columns</p>\n",
       "</div>"
      ],
      "text/plain": [
       "           City       Date  PM2.5    PM10     NO    NO2    NOx  NH3     CO  \\\n",
       "0     Ahmedabad 2015-01-01    NaN     NaN   0.92  18.22  17.15  NaN   0.92   \n",
       "1     Ahmedabad 2015-01-02    NaN     NaN   0.97  15.69  16.46  NaN   0.97   \n",
       "2     Ahmedabad 2015-01-03    NaN     NaN  17.40  19.30  29.70  NaN  17.40   \n",
       "3     Ahmedabad 2015-01-04    NaN     NaN   1.70  18.48  17.97  NaN   1.70   \n",
       "4     Ahmedabad 2015-01-05    NaN     NaN  22.10  21.42  37.76  NaN  22.10   \n",
       "...         ...        ...    ...     ...    ...    ...    ...  ...    ...   \n",
       "1591  Ahmedabad 2019-05-11    NaN     NaN    NaN    NaN   0.00  NaN    NaN   \n",
       "1592  Ahmedabad 2019-05-12    NaN     NaN    NaN    NaN   0.00  NaN    NaN   \n",
       "1593  Ahmedabad 2019-05-13    NaN     NaN    NaN    NaN   0.00  NaN    NaN   \n",
       "1715  Ahmedabad 2019-09-12    NaN     NaN  49.78  39.61  79.26  NaN  49.78   \n",
       "1980  Ahmedabad 2020-06-03    NaN  586.27   2.23  43.36  21.25  NaN   0.44   \n",
       "\n",
       "        SO2      O3  Benzene  Toluene  Xylene  AQI AQI_Bucket  month  \n",
       "0     27.64  133.36     0.00     0.02    0.00  NaN        NaN      1  \n",
       "1     24.55   34.06     3.68     5.50    3.77  NaN        NaN      1  \n",
       "2     29.07   30.70     6.80    16.40    2.25  NaN        NaN      1  \n",
       "3     18.59   36.08     4.43    10.14    1.00  NaN        NaN      1  \n",
       "4     39.33   39.31     7.01    18.89    2.78  NaN        NaN      1  \n",
       "...     ...     ...      ...      ...     ...  ...        ...    ...  \n",
       "1591    NaN     NaN     0.00     0.00    0.00  NaN        NaN      5  \n",
       "1592    NaN     NaN     0.00     0.00    0.00  NaN        NaN      5  \n",
       "1593    NaN     NaN     0.00     0.00    0.00  NaN        NaN      5  \n",
       "1715  52.59   22.98     2.14    32.05    0.52  NaN        NaN      9  \n",
       "1980  23.71   73.66     8.04    42.98    3.65  NaN        NaN      6  \n",
       "\n",
       "[628 rows x 17 columns]"
      ]
     },
     "execution_count": 494,
     "metadata": {},
     "output_type": "execute_result"
    }
   ],
   "source": [
    "data[data['City']=='Ahmedabad']"
   ]
  },
  {
   "cell_type": "code",
   "execution_count": 495,
   "id": "8df6a235",
   "metadata": {},
   "outputs": [
    {
     "data": {
      "text/html": [
       "<div>\n",
       "<style scoped>\n",
       "    .dataframe tbody tr th:only-of-type {\n",
       "        vertical-align: middle;\n",
       "    }\n",
       "\n",
       "    .dataframe tbody tr th {\n",
       "        vertical-align: top;\n",
       "    }\n",
       "\n",
       "    .dataframe thead th {\n",
       "        text-align: right;\n",
       "    }\n",
       "</style>\n",
       "<table border=\"1\" class=\"dataframe\">\n",
       "  <thead>\n",
       "    <tr style=\"text-align: right;\">\n",
       "      <th></th>\n",
       "      <th>City</th>\n",
       "      <th>Date</th>\n",
       "      <th>PM2.5</th>\n",
       "      <th>PM10</th>\n",
       "      <th>NO</th>\n",
       "      <th>NO2</th>\n",
       "      <th>NOx</th>\n",
       "      <th>NH3</th>\n",
       "      <th>CO</th>\n",
       "      <th>SO2</th>\n",
       "      <th>O3</th>\n",
       "      <th>Benzene</th>\n",
       "      <th>Toluene</th>\n",
       "      <th>Xylene</th>\n",
       "      <th>AQI</th>\n",
       "      <th>AQI_Bucket</th>\n",
       "      <th>month</th>\n",
       "    </tr>\n",
       "  </thead>\n",
       "  <tbody>\n",
       "    <tr>\n",
       "      <th>0</th>\n",
       "      <td>Ahmedabad</td>\n",
       "      <td>2015-01-01</td>\n",
       "      <td>NaN</td>\n",
       "      <td>NaN</td>\n",
       "      <td>0.92</td>\n",
       "      <td>18.22</td>\n",
       "      <td>17.15</td>\n",
       "      <td>NaN</td>\n",
       "      <td>0.92</td>\n",
       "      <td>27.64</td>\n",
       "      <td>133.36</td>\n",
       "      <td>0.00</td>\n",
       "      <td>0.02</td>\n",
       "      <td>0.00</td>\n",
       "      <td>NaN</td>\n",
       "      <td>NaN</td>\n",
       "      <td>1</td>\n",
       "    </tr>\n",
       "    <tr>\n",
       "      <th>1</th>\n",
       "      <td>Ahmedabad</td>\n",
       "      <td>2015-01-02</td>\n",
       "      <td>NaN</td>\n",
       "      <td>NaN</td>\n",
       "      <td>0.97</td>\n",
       "      <td>15.69</td>\n",
       "      <td>16.46</td>\n",
       "      <td>NaN</td>\n",
       "      <td>0.97</td>\n",
       "      <td>24.55</td>\n",
       "      <td>34.06</td>\n",
       "      <td>3.68</td>\n",
       "      <td>5.50</td>\n",
       "      <td>3.77</td>\n",
       "      <td>NaN</td>\n",
       "      <td>NaN</td>\n",
       "      <td>1</td>\n",
       "    </tr>\n",
       "    <tr>\n",
       "      <th>2</th>\n",
       "      <td>Ahmedabad</td>\n",
       "      <td>2015-01-03</td>\n",
       "      <td>NaN</td>\n",
       "      <td>NaN</td>\n",
       "      <td>17.40</td>\n",
       "      <td>19.30</td>\n",
       "      <td>29.70</td>\n",
       "      <td>NaN</td>\n",
       "      <td>17.40</td>\n",
       "      <td>29.07</td>\n",
       "      <td>30.70</td>\n",
       "      <td>6.80</td>\n",
       "      <td>16.40</td>\n",
       "      <td>2.25</td>\n",
       "      <td>NaN</td>\n",
       "      <td>NaN</td>\n",
       "      <td>1</td>\n",
       "    </tr>\n",
       "    <tr>\n",
       "      <th>3</th>\n",
       "      <td>Ahmedabad</td>\n",
       "      <td>2015-01-04</td>\n",
       "      <td>NaN</td>\n",
       "      <td>NaN</td>\n",
       "      <td>1.70</td>\n",
       "      <td>18.48</td>\n",
       "      <td>17.97</td>\n",
       "      <td>NaN</td>\n",
       "      <td>1.70</td>\n",
       "      <td>18.59</td>\n",
       "      <td>36.08</td>\n",
       "      <td>4.43</td>\n",
       "      <td>10.14</td>\n",
       "      <td>1.00</td>\n",
       "      <td>NaN</td>\n",
       "      <td>NaN</td>\n",
       "      <td>1</td>\n",
       "    </tr>\n",
       "    <tr>\n",
       "      <th>4</th>\n",
       "      <td>Ahmedabad</td>\n",
       "      <td>2015-01-05</td>\n",
       "      <td>NaN</td>\n",
       "      <td>NaN</td>\n",
       "      <td>22.10</td>\n",
       "      <td>21.42</td>\n",
       "      <td>37.76</td>\n",
       "      <td>NaN</td>\n",
       "      <td>22.10</td>\n",
       "      <td>39.33</td>\n",
       "      <td>39.31</td>\n",
       "      <td>7.01</td>\n",
       "      <td>18.89</td>\n",
       "      <td>2.78</td>\n",
       "      <td>NaN</td>\n",
       "      <td>NaN</td>\n",
       "      <td>1</td>\n",
       "    </tr>\n",
       "    <tr>\n",
       "      <th>...</th>\n",
       "      <td>...</td>\n",
       "      <td>...</td>\n",
       "      <td>...</td>\n",
       "      <td>...</td>\n",
       "      <td>...</td>\n",
       "      <td>...</td>\n",
       "      <td>...</td>\n",
       "      <td>...</td>\n",
       "      <td>...</td>\n",
       "      <td>...</td>\n",
       "      <td>...</td>\n",
       "      <td>...</td>\n",
       "      <td>...</td>\n",
       "      <td>...</td>\n",
       "      <td>...</td>\n",
       "      <td>...</td>\n",
       "      <td>...</td>\n",
       "    </tr>\n",
       "    <tr>\n",
       "      <th>1591</th>\n",
       "      <td>Ahmedabad</td>\n",
       "      <td>2019-05-11</td>\n",
       "      <td>NaN</td>\n",
       "      <td>NaN</td>\n",
       "      <td>NaN</td>\n",
       "      <td>NaN</td>\n",
       "      <td>0.00</td>\n",
       "      <td>NaN</td>\n",
       "      <td>NaN</td>\n",
       "      <td>NaN</td>\n",
       "      <td>NaN</td>\n",
       "      <td>0.00</td>\n",
       "      <td>0.00</td>\n",
       "      <td>0.00</td>\n",
       "      <td>NaN</td>\n",
       "      <td>NaN</td>\n",
       "      <td>5</td>\n",
       "    </tr>\n",
       "    <tr>\n",
       "      <th>1592</th>\n",
       "      <td>Ahmedabad</td>\n",
       "      <td>2019-05-12</td>\n",
       "      <td>NaN</td>\n",
       "      <td>NaN</td>\n",
       "      <td>NaN</td>\n",
       "      <td>NaN</td>\n",
       "      <td>0.00</td>\n",
       "      <td>NaN</td>\n",
       "      <td>NaN</td>\n",
       "      <td>NaN</td>\n",
       "      <td>NaN</td>\n",
       "      <td>0.00</td>\n",
       "      <td>0.00</td>\n",
       "      <td>0.00</td>\n",
       "      <td>NaN</td>\n",
       "      <td>NaN</td>\n",
       "      <td>5</td>\n",
       "    </tr>\n",
       "    <tr>\n",
       "      <th>1593</th>\n",
       "      <td>Ahmedabad</td>\n",
       "      <td>2019-05-13</td>\n",
       "      <td>NaN</td>\n",
       "      <td>NaN</td>\n",
       "      <td>NaN</td>\n",
       "      <td>NaN</td>\n",
       "      <td>0.00</td>\n",
       "      <td>NaN</td>\n",
       "      <td>NaN</td>\n",
       "      <td>NaN</td>\n",
       "      <td>NaN</td>\n",
       "      <td>0.00</td>\n",
       "      <td>0.00</td>\n",
       "      <td>0.00</td>\n",
       "      <td>NaN</td>\n",
       "      <td>NaN</td>\n",
       "      <td>5</td>\n",
       "    </tr>\n",
       "    <tr>\n",
       "      <th>1715</th>\n",
       "      <td>Ahmedabad</td>\n",
       "      <td>2019-09-12</td>\n",
       "      <td>NaN</td>\n",
       "      <td>NaN</td>\n",
       "      <td>49.78</td>\n",
       "      <td>39.61</td>\n",
       "      <td>79.26</td>\n",
       "      <td>NaN</td>\n",
       "      <td>49.78</td>\n",
       "      <td>52.59</td>\n",
       "      <td>22.98</td>\n",
       "      <td>2.14</td>\n",
       "      <td>32.05</td>\n",
       "      <td>0.52</td>\n",
       "      <td>NaN</td>\n",
       "      <td>NaN</td>\n",
       "      <td>9</td>\n",
       "    </tr>\n",
       "    <tr>\n",
       "      <th>1980</th>\n",
       "      <td>Ahmedabad</td>\n",
       "      <td>2020-06-03</td>\n",
       "      <td>NaN</td>\n",
       "      <td>586.27</td>\n",
       "      <td>2.23</td>\n",
       "      <td>43.36</td>\n",
       "      <td>21.25</td>\n",
       "      <td>NaN</td>\n",
       "      <td>0.44</td>\n",
       "      <td>23.71</td>\n",
       "      <td>73.66</td>\n",
       "      <td>8.04</td>\n",
       "      <td>42.98</td>\n",
       "      <td>3.65</td>\n",
       "      <td>NaN</td>\n",
       "      <td>NaN</td>\n",
       "      <td>6</td>\n",
       "    </tr>\n",
       "  </tbody>\n",
       "</table>\n",
       "<p>628 rows × 17 columns</p>\n",
       "</div>"
      ],
      "text/plain": [
       "           City       Date  PM2.5    PM10     NO    NO2    NOx  NH3     CO  \\\n",
       "0     Ahmedabad 2015-01-01    NaN     NaN   0.92  18.22  17.15  NaN   0.92   \n",
       "1     Ahmedabad 2015-01-02    NaN     NaN   0.97  15.69  16.46  NaN   0.97   \n",
       "2     Ahmedabad 2015-01-03    NaN     NaN  17.40  19.30  29.70  NaN  17.40   \n",
       "3     Ahmedabad 2015-01-04    NaN     NaN   1.70  18.48  17.97  NaN   1.70   \n",
       "4     Ahmedabad 2015-01-05    NaN     NaN  22.10  21.42  37.76  NaN  22.10   \n",
       "...         ...        ...    ...     ...    ...    ...    ...  ...    ...   \n",
       "1591  Ahmedabad 2019-05-11    NaN     NaN    NaN    NaN   0.00  NaN    NaN   \n",
       "1592  Ahmedabad 2019-05-12    NaN     NaN    NaN    NaN   0.00  NaN    NaN   \n",
       "1593  Ahmedabad 2019-05-13    NaN     NaN    NaN    NaN   0.00  NaN    NaN   \n",
       "1715  Ahmedabad 2019-09-12    NaN     NaN  49.78  39.61  79.26  NaN  49.78   \n",
       "1980  Ahmedabad 2020-06-03    NaN  586.27   2.23  43.36  21.25  NaN   0.44   \n",
       "\n",
       "        SO2      O3  Benzene  Toluene  Xylene  AQI AQI_Bucket  month  \n",
       "0     27.64  133.36     0.00     0.02    0.00  NaN        NaN      1  \n",
       "1     24.55   34.06     3.68     5.50    3.77  NaN        NaN      1  \n",
       "2     29.07   30.70     6.80    16.40    2.25  NaN        NaN      1  \n",
       "3     18.59   36.08     4.43    10.14    1.00  NaN        NaN      1  \n",
       "4     39.33   39.31     7.01    18.89    2.78  NaN        NaN      1  \n",
       "...     ...     ...      ...      ...     ...  ...        ...    ...  \n",
       "1591    NaN     NaN     0.00     0.00    0.00  NaN        NaN      5  \n",
       "1592    NaN     NaN     0.00     0.00    0.00  NaN        NaN      5  \n",
       "1593    NaN     NaN     0.00     0.00    0.00  NaN        NaN      5  \n",
       "1715  52.59   22.98     2.14    32.05    0.52  NaN        NaN      9  \n",
       "1980  23.71   73.66     8.04    42.98    3.65  NaN        NaN      6  \n",
       "\n",
       "[628 rows x 17 columns]"
      ]
     },
     "execution_count": 495,
     "metadata": {},
     "output_type": "execute_result"
    }
   ],
   "source": [
    "df1[df1['PM2.5'].isnull()][df1[df1['PM2.5'].isnull()]['City']=='Ahmedabad']"
   ]
  },
  {
   "cell_type": "code",
   "execution_count": 496,
   "id": "e5e7600d",
   "metadata": {},
   "outputs": [],
   "source": [
    "data1 = df1[df1['City']=='Ahmedabad']"
   ]
  },
  {
   "cell_type": "code",
   "execution_count": 497,
   "id": "82dca9ff",
   "metadata": {},
   "outputs": [
    {
     "name": "stdout",
     "output_type": "stream",
     "text": [
      "<class 'pandas.core.frame.DataFrame'>\n",
      "RangeIndex: 29531 entries, 0 to 29530\n",
      "Data columns (total 17 columns):\n",
      " #   Column      Non-Null Count  Dtype         \n",
      "---  ------      --------------  -----         \n",
      " 0   City        29531 non-null  object        \n",
      " 1   Date        29531 non-null  datetime64[ns]\n",
      " 2   PM2.5       24933 non-null  float64       \n",
      " 3   PM10        18391 non-null  float64       \n",
      " 4   NO          25949 non-null  float64       \n",
      " 5   NO2         25946 non-null  float64       \n",
      " 6   NOx         25346 non-null  float64       \n",
      " 7   NH3         19203 non-null  float64       \n",
      " 8   CO          27472 non-null  float64       \n",
      " 9   SO2         25677 non-null  float64       \n",
      " 10  O3          25509 non-null  float64       \n",
      " 11  Benzene     23908 non-null  float64       \n",
      " 12  Toluene     21490 non-null  float64       \n",
      " 13  Xylene      11422 non-null  float64       \n",
      " 14  AQI         24850 non-null  float64       \n",
      " 15  AQI_Bucket  24850 non-null  object        \n",
      " 16  month       29531 non-null  int64         \n",
      "dtypes: datetime64[ns](1), float64(13), int64(1), object(2)\n",
      "memory usage: 3.8+ MB\n"
     ]
    }
   ],
   "source": [
    "df1.info()"
   ]
  },
  {
   "cell_type": "code",
   "execution_count": 498,
   "id": "1344606b",
   "metadata": {},
   "outputs": [],
   "source": [
    "data1 = df1[df1['City']=='Ahmedabad']"
   ]
  },
  {
   "cell_type": "code",
   "execution_count": 499,
   "id": "ddad56a2",
   "metadata": {},
   "outputs": [
    {
     "data": {
      "text/html": [
       "<div>\n",
       "<style scoped>\n",
       "    .dataframe tbody tr th:only-of-type {\n",
       "        vertical-align: middle;\n",
       "    }\n",
       "\n",
       "    .dataframe tbody tr th {\n",
       "        vertical-align: top;\n",
       "    }\n",
       "\n",
       "    .dataframe thead th {\n",
       "        text-align: right;\n",
       "    }\n",
       "</style>\n",
       "<table border=\"1\" class=\"dataframe\">\n",
       "  <thead>\n",
       "    <tr style=\"text-align: right;\">\n",
       "      <th></th>\n",
       "      <th>City</th>\n",
       "      <th>Date</th>\n",
       "      <th>PM2.5</th>\n",
       "      <th>PM10</th>\n",
       "      <th>NO</th>\n",
       "      <th>NO2</th>\n",
       "      <th>NOx</th>\n",
       "      <th>NH3</th>\n",
       "      <th>CO</th>\n",
       "      <th>SO2</th>\n",
       "      <th>O3</th>\n",
       "      <th>Benzene</th>\n",
       "      <th>Toluene</th>\n",
       "      <th>Xylene</th>\n",
       "      <th>AQI</th>\n",
       "      <th>AQI_Bucket</th>\n",
       "      <th>month</th>\n",
       "    </tr>\n",
       "  </thead>\n",
       "  <tbody>\n",
       "    <tr>\n",
       "      <th>0</th>\n",
       "      <td>Ahmedabad</td>\n",
       "      <td>2015-01-01</td>\n",
       "      <td>NaN</td>\n",
       "      <td>NaN</td>\n",
       "      <td>0.92</td>\n",
       "      <td>18.22</td>\n",
       "      <td>17.15</td>\n",
       "      <td>NaN</td>\n",
       "      <td>0.92</td>\n",
       "      <td>27.64</td>\n",
       "      <td>133.36</td>\n",
       "      <td>0.00</td>\n",
       "      <td>0.02</td>\n",
       "      <td>0.00</td>\n",
       "      <td>NaN</td>\n",
       "      <td>NaN</td>\n",
       "      <td>1</td>\n",
       "    </tr>\n",
       "    <tr>\n",
       "      <th>1</th>\n",
       "      <td>Ahmedabad</td>\n",
       "      <td>2015-01-02</td>\n",
       "      <td>NaN</td>\n",
       "      <td>NaN</td>\n",
       "      <td>0.97</td>\n",
       "      <td>15.69</td>\n",
       "      <td>16.46</td>\n",
       "      <td>NaN</td>\n",
       "      <td>0.97</td>\n",
       "      <td>24.55</td>\n",
       "      <td>34.06</td>\n",
       "      <td>3.68</td>\n",
       "      <td>5.50</td>\n",
       "      <td>3.77</td>\n",
       "      <td>NaN</td>\n",
       "      <td>NaN</td>\n",
       "      <td>1</td>\n",
       "    </tr>\n",
       "    <tr>\n",
       "      <th>2</th>\n",
       "      <td>Ahmedabad</td>\n",
       "      <td>2015-01-03</td>\n",
       "      <td>NaN</td>\n",
       "      <td>NaN</td>\n",
       "      <td>17.40</td>\n",
       "      <td>19.30</td>\n",
       "      <td>29.70</td>\n",
       "      <td>NaN</td>\n",
       "      <td>17.40</td>\n",
       "      <td>29.07</td>\n",
       "      <td>30.70</td>\n",
       "      <td>6.80</td>\n",
       "      <td>16.40</td>\n",
       "      <td>2.25</td>\n",
       "      <td>NaN</td>\n",
       "      <td>NaN</td>\n",
       "      <td>1</td>\n",
       "    </tr>\n",
       "    <tr>\n",
       "      <th>3</th>\n",
       "      <td>Ahmedabad</td>\n",
       "      <td>2015-01-04</td>\n",
       "      <td>NaN</td>\n",
       "      <td>NaN</td>\n",
       "      <td>1.70</td>\n",
       "      <td>18.48</td>\n",
       "      <td>17.97</td>\n",
       "      <td>NaN</td>\n",
       "      <td>1.70</td>\n",
       "      <td>18.59</td>\n",
       "      <td>36.08</td>\n",
       "      <td>4.43</td>\n",
       "      <td>10.14</td>\n",
       "      <td>1.00</td>\n",
       "      <td>NaN</td>\n",
       "      <td>NaN</td>\n",
       "      <td>1</td>\n",
       "    </tr>\n",
       "    <tr>\n",
       "      <th>4</th>\n",
       "      <td>Ahmedabad</td>\n",
       "      <td>2015-01-05</td>\n",
       "      <td>NaN</td>\n",
       "      <td>NaN</td>\n",
       "      <td>22.10</td>\n",
       "      <td>21.42</td>\n",
       "      <td>37.76</td>\n",
       "      <td>NaN</td>\n",
       "      <td>22.10</td>\n",
       "      <td>39.33</td>\n",
       "      <td>39.31</td>\n",
       "      <td>7.01</td>\n",
       "      <td>18.89</td>\n",
       "      <td>2.78</td>\n",
       "      <td>NaN</td>\n",
       "      <td>NaN</td>\n",
       "      <td>1</td>\n",
       "    </tr>\n",
       "    <tr>\n",
       "      <th>...</th>\n",
       "      <td>...</td>\n",
       "      <td>...</td>\n",
       "      <td>...</td>\n",
       "      <td>...</td>\n",
       "      <td>...</td>\n",
       "      <td>...</td>\n",
       "      <td>...</td>\n",
       "      <td>...</td>\n",
       "      <td>...</td>\n",
       "      <td>...</td>\n",
       "      <td>...</td>\n",
       "      <td>...</td>\n",
       "      <td>...</td>\n",
       "      <td>...</td>\n",
       "      <td>...</td>\n",
       "      <td>...</td>\n",
       "      <td>...</td>\n",
       "    </tr>\n",
       "    <tr>\n",
       "      <th>1852</th>\n",
       "      <td>Ahmedabad</td>\n",
       "      <td>2020-01-27</td>\n",
       "      <td>33.93</td>\n",
       "      <td>85.43</td>\n",
       "      <td>9.53</td>\n",
       "      <td>30.39</td>\n",
       "      <td>21.94</td>\n",
       "      <td>NaN</td>\n",
       "      <td>9.53</td>\n",
       "      <td>51.25</td>\n",
       "      <td>41.25</td>\n",
       "      <td>1.15</td>\n",
       "      <td>31.37</td>\n",
       "      <td>1.04</td>\n",
       "      <td>NaN</td>\n",
       "      <td>NaN</td>\n",
       "      <td>1</td>\n",
       "    </tr>\n",
       "    <tr>\n",
       "      <th>1853</th>\n",
       "      <td>Ahmedabad</td>\n",
       "      <td>2020-01-28</td>\n",
       "      <td>18.03</td>\n",
       "      <td>66.54</td>\n",
       "      <td>11.31</td>\n",
       "      <td>18.02</td>\n",
       "      <td>17.23</td>\n",
       "      <td>NaN</td>\n",
       "      <td>11.31</td>\n",
       "      <td>35.39</td>\n",
       "      <td>30.29</td>\n",
       "      <td>1.15</td>\n",
       "      <td>31.37</td>\n",
       "      <td>1.04</td>\n",
       "      <td>289.0</td>\n",
       "      <td>Poor</td>\n",
       "      <td>1</td>\n",
       "    </tr>\n",
       "    <tr>\n",
       "      <th>1854</th>\n",
       "      <td>Ahmedabad</td>\n",
       "      <td>2020-01-29</td>\n",
       "      <td>28.77</td>\n",
       "      <td>73.99</td>\n",
       "      <td>20.76</td>\n",
       "      <td>21.98</td>\n",
       "      <td>25.69</td>\n",
       "      <td>NaN</td>\n",
       "      <td>20.76</td>\n",
       "      <td>40.13</td>\n",
       "      <td>32.37</td>\n",
       "      <td>1.05</td>\n",
       "      <td>30.73</td>\n",
       "      <td>1.07</td>\n",
       "      <td>204.0</td>\n",
       "      <td>Poor</td>\n",
       "      <td>1</td>\n",
       "    </tr>\n",
       "    <tr>\n",
       "      <th>1855</th>\n",
       "      <td>Ahmedabad</td>\n",
       "      <td>2020-01-30</td>\n",
       "      <td>41.74</td>\n",
       "      <td>92.88</td>\n",
       "      <td>36.07</td>\n",
       "      <td>26.88</td>\n",
       "      <td>38.15</td>\n",
       "      <td>NaN</td>\n",
       "      <td>36.07</td>\n",
       "      <td>100.04</td>\n",
       "      <td>30.37</td>\n",
       "      <td>1.02</td>\n",
       "      <td>30.57</td>\n",
       "      <td>1.08</td>\n",
       "      <td>528.0</td>\n",
       "      <td>Severe</td>\n",
       "      <td>1</td>\n",
       "    </tr>\n",
       "    <tr>\n",
       "      <th>1856</th>\n",
       "      <td>Ahmedabad</td>\n",
       "      <td>2020-01-31</td>\n",
       "      <td>57.28</td>\n",
       "      <td>109.84</td>\n",
       "      <td>36.16</td>\n",
       "      <td>50.06</td>\n",
       "      <td>51.39</td>\n",
       "      <td>NaN</td>\n",
       "      <td>36.16</td>\n",
       "      <td>83.08</td>\n",
       "      <td>34.61</td>\n",
       "      <td>1.39</td>\n",
       "      <td>30.64</td>\n",
       "      <td>1.05</td>\n",
       "      <td>660.0</td>\n",
       "      <td>Severe</td>\n",
       "      <td>1</td>\n",
       "    </tr>\n",
       "  </tbody>\n",
       "</table>\n",
       "<p>186 rows × 17 columns</p>\n",
       "</div>"
      ],
      "text/plain": [
       "           City       Date  PM2.5    PM10     NO    NO2    NOx  NH3     CO  \\\n",
       "0     Ahmedabad 2015-01-01    NaN     NaN   0.92  18.22  17.15  NaN   0.92   \n",
       "1     Ahmedabad 2015-01-02    NaN     NaN   0.97  15.69  16.46  NaN   0.97   \n",
       "2     Ahmedabad 2015-01-03    NaN     NaN  17.40  19.30  29.70  NaN  17.40   \n",
       "3     Ahmedabad 2015-01-04    NaN     NaN   1.70  18.48  17.97  NaN   1.70   \n",
       "4     Ahmedabad 2015-01-05    NaN     NaN  22.10  21.42  37.76  NaN  22.10   \n",
       "...         ...        ...    ...     ...    ...    ...    ...  ...    ...   \n",
       "1852  Ahmedabad 2020-01-27  33.93   85.43   9.53  30.39  21.94  NaN   9.53   \n",
       "1853  Ahmedabad 2020-01-28  18.03   66.54  11.31  18.02  17.23  NaN  11.31   \n",
       "1854  Ahmedabad 2020-01-29  28.77   73.99  20.76  21.98  25.69  NaN  20.76   \n",
       "1855  Ahmedabad 2020-01-30  41.74   92.88  36.07  26.88  38.15  NaN  36.07   \n",
       "1856  Ahmedabad 2020-01-31  57.28  109.84  36.16  50.06  51.39  NaN  36.16   \n",
       "\n",
       "         SO2      O3  Benzene  Toluene  Xylene    AQI AQI_Bucket  month  \n",
       "0      27.64  133.36     0.00     0.02    0.00    NaN        NaN      1  \n",
       "1      24.55   34.06     3.68     5.50    3.77    NaN        NaN      1  \n",
       "2      29.07   30.70     6.80    16.40    2.25    NaN        NaN      1  \n",
       "3      18.59   36.08     4.43    10.14    1.00    NaN        NaN      1  \n",
       "4      39.33   39.31     7.01    18.89    2.78    NaN        NaN      1  \n",
       "...      ...     ...      ...      ...     ...    ...        ...    ...  \n",
       "1852   51.25   41.25     1.15    31.37    1.04    NaN        NaN      1  \n",
       "1853   35.39   30.29     1.15    31.37    1.04  289.0       Poor      1  \n",
       "1854   40.13   32.37     1.05    30.73    1.07  204.0       Poor      1  \n",
       "1855  100.04   30.37     1.02    30.57    1.08  528.0     Severe      1  \n",
       "1856   83.08   34.61     1.39    30.64    1.05  660.0     Severe      1  \n",
       "\n",
       "[186 rows x 17 columns]"
      ]
     },
     "execution_count": 499,
     "metadata": {},
     "output_type": "execute_result"
    }
   ],
   "source": [
    "data1[data1['month']==1]"
   ]
  },
  {
   "cell_type": "code",
   "execution_count": 500,
   "id": "a05c0939",
   "metadata": {},
   "outputs": [
    {
     "data": {
      "text/plain": [
       "City            0\n",
       "Date            0\n",
       "PM2.5          89\n",
       "PM10          155\n",
       "NO             63\n",
       "NO2            62\n",
       "NOx            62\n",
       "NH3           186\n",
       "CO             63\n",
       "SO2            62\n",
       "O3             63\n",
       "Benzene        31\n",
       "Toluene        31\n",
       "Xylene         31\n",
       "AQI            95\n",
       "AQI_Bucket     95\n",
       "month           0\n",
       "dtype: int64"
      ]
     },
     "execution_count": 500,
     "metadata": {},
     "output_type": "execute_result"
    }
   ],
   "source": [
    "data1[data1['month']==1].isnull().sum()"
   ]
  },
  {
   "cell_type": "code",
   "execution_count": 501,
   "id": "545ff7a3",
   "metadata": {},
   "outputs": [
    {
     "data": {
      "text/plain": [
       "City          186\n",
       "Date          186\n",
       "PM2.5          97\n",
       "PM10           31\n",
       "NO            123\n",
       "NO2           124\n",
       "NOx           124\n",
       "NH3             0\n",
       "CO            123\n",
       "SO2           124\n",
       "O3            123\n",
       "Benzene       155\n",
       "Toluene       155\n",
       "Xylene        155\n",
       "AQI            91\n",
       "AQI_Bucket     91\n",
       "month         186\n",
       "dtype: int64"
      ]
     },
     "execution_count": 501,
     "metadata": {},
     "output_type": "execute_result"
    }
   ],
   "source": [
    "data1[data1['month']==1].notnull().sum()"
   ]
  },
  {
   "cell_type": "code",
   "execution_count": 502,
   "id": "e2803174",
   "metadata": {},
   "outputs": [
    {
     "data": {
      "text/plain": [
       "97"
      ]
     },
     "execution_count": 502,
     "metadata": {},
     "output_type": "execute_result"
    }
   ],
   "source": [
    "data1[data1['month']==1].notnull().sum()[2]"
   ]
  },
  {
   "cell_type": "code",
   "execution_count": 503,
   "id": "cf7e1242",
   "metadata": {},
   "outputs": [
    {
     "data": {
      "text/plain": [
       "Severe       55\n",
       "Poor         15\n",
       "Moderate     11\n",
       "Very Poor    10\n",
       "Name: AQI_Bucket, dtype: int64"
      ]
     },
     "execution_count": 503,
     "metadata": {},
     "output_type": "execute_result"
    }
   ],
   "source": [
    "data1[data1['month']==1]['AQI_Bucket'].value_counts()"
   ]
  },
  {
   "cell_type": "code",
   "execution_count": 504,
   "id": "7bb262ce",
   "metadata": {},
   "outputs": [
    {
     "data": {
      "text/plain": [
       "Severe       55\n",
       "Poor         15\n",
       "Moderate     11\n",
       "Very Poor    10\n",
       "Name: AQI_Bucket, dtype: int64"
      ]
     },
     "execution_count": 504,
     "metadata": {},
     "output_type": "execute_result"
    }
   ],
   "source": [
    "df1[df1['City']=='Ahmedabad'][df1[df1['City']=='Ahmedabad']['month']==1]['AQI_Bucket'].value_counts()"
   ]
  },
  {
   "cell_type": "code",
   "execution_count": 505,
   "id": "c09fa5bf",
   "metadata": {},
   "outputs": [
    {
     "data": {
      "text/plain": [
       "City          0.0\n",
       "Date          0.0\n",
       "PM2.5         0.0\n",
       "PM10          0.0\n",
       "NO            0.0\n",
       "NO2           0.0\n",
       "NOx           0.0\n",
       "NH3           0.0\n",
       "CO            0.0\n",
       "SO2           0.0\n",
       "O3            0.0\n",
       "Benzene       0.0\n",
       "Toluene       0.0\n",
       "Xylene        0.0\n",
       "AQI           0.0\n",
       "AQI_Bucket    0.0\n",
       "month         0.0\n",
       "dtype: float64"
      ]
     },
     "execution_count": 505,
     "metadata": {},
     "output_type": "execute_result"
    }
   ],
   "source": [
    "df1[df1['City']=='Aizawl'][df1[df1['City']=='Aizawl']['month']==1].isnull().sum()"
   ]
  },
  {
   "cell_type": "code",
   "execution_count": 506,
   "id": "b4937d2c",
   "metadata": {},
   "outputs": [
    {
     "data": {
      "text/plain": [
       "City          0.0\n",
       "Date          0.0\n",
       "PM2.5         0.0\n",
       "PM10          0.0\n",
       "NO            0.0\n",
       "NO2           0.0\n",
       "NOx           0.0\n",
       "NH3           0.0\n",
       "CO            0.0\n",
       "SO2           0.0\n",
       "O3            0.0\n",
       "Benzene       0.0\n",
       "Toluene       0.0\n",
       "Xylene        0.0\n",
       "AQI           0.0\n",
       "AQI_Bucket    0.0\n",
       "month         0.0\n",
       "dtype: float64"
      ]
     },
     "execution_count": 506,
     "metadata": {},
     "output_type": "execute_result"
    }
   ],
   "source": [
    "df1[df1['City']=='Aizawl'][df1[df1['City']=='Aizawl']['month']==1].notnull().sum()"
   ]
  },
  {
   "cell_type": "code",
   "execution_count": 507,
   "id": "41ba2f57",
   "metadata": {},
   "outputs": [
    {
     "data": {
      "text/html": [
       "<div>\n",
       "<style scoped>\n",
       "    .dataframe tbody tr th:only-of-type {\n",
       "        vertical-align: middle;\n",
       "    }\n",
       "\n",
       "    .dataframe tbody tr th {\n",
       "        vertical-align: top;\n",
       "    }\n",
       "\n",
       "    .dataframe thead th {\n",
       "        text-align: right;\n",
       "    }\n",
       "</style>\n",
       "<table border=\"1\" class=\"dataframe\">\n",
       "  <thead>\n",
       "    <tr style=\"text-align: right;\">\n",
       "      <th></th>\n",
       "      <th>City</th>\n",
       "      <th>Date</th>\n",
       "      <th>PM2.5</th>\n",
       "      <th>PM10</th>\n",
       "      <th>NO</th>\n",
       "      <th>NO2</th>\n",
       "      <th>NOx</th>\n",
       "      <th>NH3</th>\n",
       "      <th>CO</th>\n",
       "      <th>SO2</th>\n",
       "      <th>O3</th>\n",
       "      <th>Benzene</th>\n",
       "      <th>Toluene</th>\n",
       "      <th>Xylene</th>\n",
       "      <th>AQI</th>\n",
       "      <th>AQI_Bucket</th>\n",
       "      <th>month</th>\n",
       "    </tr>\n",
       "  </thead>\n",
       "  <tbody>\n",
       "    <tr>\n",
       "      <th>2009</th>\n",
       "      <td>Aizawl</td>\n",
       "      <td>2020-03-11</td>\n",
       "      <td>32.69</td>\n",
       "      <td>47.91</td>\n",
       "      <td>6.99</td>\n",
       "      <td>2.85</td>\n",
       "      <td>11.93</td>\n",
       "      <td>26.64</td>\n",
       "      <td>0.60</td>\n",
       "      <td>4.53</td>\n",
       "      <td>4.48</td>\n",
       "      <td>0.03</td>\n",
       "      <td>0.30</td>\n",
       "      <td>NaN</td>\n",
       "      <td>NaN</td>\n",
       "      <td>NaN</td>\n",
       "      <td>3</td>\n",
       "    </tr>\n",
       "    <tr>\n",
       "      <th>2010</th>\n",
       "      <td>Aizawl</td>\n",
       "      <td>2020-03-12</td>\n",
       "      <td>31.21</td>\n",
       "      <td>38.66</td>\n",
       "      <td>7.20</td>\n",
       "      <td>1.27</td>\n",
       "      <td>10.65</td>\n",
       "      <td>25.63</td>\n",
       "      <td>0.56</td>\n",
       "      <td>4.22</td>\n",
       "      <td>2.81</td>\n",
       "      <td>0.01</td>\n",
       "      <td>0.08</td>\n",
       "      <td>NaN</td>\n",
       "      <td>52.0</td>\n",
       "      <td>Satisfactory</td>\n",
       "      <td>3</td>\n",
       "    </tr>\n",
       "    <tr>\n",
       "      <th>2011</th>\n",
       "      <td>Aizawl</td>\n",
       "      <td>2020-03-13</td>\n",
       "      <td>38.39</td>\n",
       "      <td>46.68</td>\n",
       "      <td>7.19</td>\n",
       "      <td>0.91</td>\n",
       "      <td>10.37</td>\n",
       "      <td>29.16</td>\n",
       "      <td>0.57</td>\n",
       "      <td>4.46</td>\n",
       "      <td>0.18</td>\n",
       "      <td>0.00</td>\n",
       "      <td>0.00</td>\n",
       "      <td>NaN</td>\n",
       "      <td>60.0</td>\n",
       "      <td>Satisfactory</td>\n",
       "      <td>3</td>\n",
       "    </tr>\n",
       "    <tr>\n",
       "      <th>2012</th>\n",
       "      <td>Aizawl</td>\n",
       "      <td>2020-03-14</td>\n",
       "      <td>43.23</td>\n",
       "      <td>50.83</td>\n",
       "      <td>7.14</td>\n",
       "      <td>1.07</td>\n",
       "      <td>10.48</td>\n",
       "      <td>28.95</td>\n",
       "      <td>0.57</td>\n",
       "      <td>4.53</td>\n",
       "      <td>0.41</td>\n",
       "      <td>0.00</td>\n",
       "      <td>0.00</td>\n",
       "      <td>NaN</td>\n",
       "      <td>62.0</td>\n",
       "      <td>Satisfactory</td>\n",
       "      <td>3</td>\n",
       "    </tr>\n",
       "    <tr>\n",
       "      <th>2013</th>\n",
       "      <td>Aizawl</td>\n",
       "      <td>2020-03-15</td>\n",
       "      <td>33.82</td>\n",
       "      <td>41.03</td>\n",
       "      <td>7.09</td>\n",
       "      <td>0.36</td>\n",
       "      <td>9.73</td>\n",
       "      <td>28.41</td>\n",
       "      <td>0.48</td>\n",
       "      <td>4.63</td>\n",
       "      <td>0.30</td>\n",
       "      <td>0.00</td>\n",
       "      <td>0.00</td>\n",
       "      <td>NaN</td>\n",
       "      <td>70.0</td>\n",
       "      <td>Satisfactory</td>\n",
       "      <td>3</td>\n",
       "    </tr>\n",
       "    <tr>\n",
       "      <th>...</th>\n",
       "      <td>...</td>\n",
       "      <td>...</td>\n",
       "      <td>...</td>\n",
       "      <td>...</td>\n",
       "      <td>...</td>\n",
       "      <td>...</td>\n",
       "      <td>...</td>\n",
       "      <td>...</td>\n",
       "      <td>...</td>\n",
       "      <td>...</td>\n",
       "      <td>...</td>\n",
       "      <td>...</td>\n",
       "      <td>...</td>\n",
       "      <td>...</td>\n",
       "      <td>...</td>\n",
       "      <td>...</td>\n",
       "      <td>...</td>\n",
       "    </tr>\n",
       "    <tr>\n",
       "      <th>2117</th>\n",
       "      <td>Aizawl</td>\n",
       "      <td>2020-06-27</td>\n",
       "      <td>0.16</td>\n",
       "      <td>3.16</td>\n",
       "      <td>11.69</td>\n",
       "      <td>0.07</td>\n",
       "      <td>15.41</td>\n",
       "      <td>22.42</td>\n",
       "      <td>0.02</td>\n",
       "      <td>1.08</td>\n",
       "      <td>1.29</td>\n",
       "      <td>NaN</td>\n",
       "      <td>NaN</td>\n",
       "      <td>NaN</td>\n",
       "      <td>19.0</td>\n",
       "      <td>Good</td>\n",
       "      <td>6</td>\n",
       "    </tr>\n",
       "    <tr>\n",
       "      <th>2118</th>\n",
       "      <td>Aizawl</td>\n",
       "      <td>2020-06-28</td>\n",
       "      <td>0.24</td>\n",
       "      <td>1.15</td>\n",
       "      <td>11.56</td>\n",
       "      <td>0.05</td>\n",
       "      <td>15.14</td>\n",
       "      <td>25.45</td>\n",
       "      <td>0.02</td>\n",
       "      <td>1.38</td>\n",
       "      <td>1.40</td>\n",
       "      <td>NaN</td>\n",
       "      <td>NaN</td>\n",
       "      <td>NaN</td>\n",
       "      <td>19.0</td>\n",
       "      <td>Good</td>\n",
       "      <td>6</td>\n",
       "    </tr>\n",
       "    <tr>\n",
       "      <th>2119</th>\n",
       "      <td>Aizawl</td>\n",
       "      <td>2020-06-29</td>\n",
       "      <td>0.28</td>\n",
       "      <td>10.02</td>\n",
       "      <td>12.04</td>\n",
       "      <td>0.13</td>\n",
       "      <td>15.96</td>\n",
       "      <td>28.73</td>\n",
       "      <td>0.12</td>\n",
       "      <td>2.03</td>\n",
       "      <td>0.95</td>\n",
       "      <td>NaN</td>\n",
       "      <td>NaN</td>\n",
       "      <td>NaN</td>\n",
       "      <td>20.0</td>\n",
       "      <td>Good</td>\n",
       "      <td>6</td>\n",
       "    </tr>\n",
       "    <tr>\n",
       "      <th>2120</th>\n",
       "      <td>Aizawl</td>\n",
       "      <td>2020-06-30</td>\n",
       "      <td>1.89</td>\n",
       "      <td>9.27</td>\n",
       "      <td>11.91</td>\n",
       "      <td>0.10</td>\n",
       "      <td>15.75</td>\n",
       "      <td>28.68</td>\n",
       "      <td>0.11</td>\n",
       "      <td>2.23</td>\n",
       "      <td>1.16</td>\n",
       "      <td>NaN</td>\n",
       "      <td>NaN</td>\n",
       "      <td>NaN</td>\n",
       "      <td>20.0</td>\n",
       "      <td>Good</td>\n",
       "      <td>6</td>\n",
       "    </tr>\n",
       "    <tr>\n",
       "      <th>2121</th>\n",
       "      <td>Aizawl</td>\n",
       "      <td>2020-07-01</td>\n",
       "      <td>4.49</td>\n",
       "      <td>5.39</td>\n",
       "      <td>11.44</td>\n",
       "      <td>0.07</td>\n",
       "      <td>15.11</td>\n",
       "      <td>19.41</td>\n",
       "      <td>0.02</td>\n",
       "      <td>2.07</td>\n",
       "      <td>3.39</td>\n",
       "      <td>NaN</td>\n",
       "      <td>NaN</td>\n",
       "      <td>NaN</td>\n",
       "      <td>20.0</td>\n",
       "      <td>Good</td>\n",
       "      <td>7</td>\n",
       "    </tr>\n",
       "  </tbody>\n",
       "</table>\n",
       "<p>113 rows × 17 columns</p>\n",
       "</div>"
      ],
      "text/plain": [
       "        City       Date  PM2.5   PM10     NO   NO2    NOx    NH3    CO   SO2  \\\n",
       "2009  Aizawl 2020-03-11  32.69  47.91   6.99  2.85  11.93  26.64  0.60  4.53   \n",
       "2010  Aizawl 2020-03-12  31.21  38.66   7.20  1.27  10.65  25.63  0.56  4.22   \n",
       "2011  Aizawl 2020-03-13  38.39  46.68   7.19  0.91  10.37  29.16  0.57  4.46   \n",
       "2012  Aizawl 2020-03-14  43.23  50.83   7.14  1.07  10.48  28.95  0.57  4.53   \n",
       "2013  Aizawl 2020-03-15  33.82  41.03   7.09  0.36   9.73  28.41  0.48  4.63   \n",
       "...      ...        ...    ...    ...    ...   ...    ...    ...   ...   ...   \n",
       "2117  Aizawl 2020-06-27   0.16   3.16  11.69  0.07  15.41  22.42  0.02  1.08   \n",
       "2118  Aizawl 2020-06-28   0.24   1.15  11.56  0.05  15.14  25.45  0.02  1.38   \n",
       "2119  Aizawl 2020-06-29   0.28  10.02  12.04  0.13  15.96  28.73  0.12  2.03   \n",
       "2120  Aizawl 2020-06-30   1.89   9.27  11.91  0.10  15.75  28.68  0.11  2.23   \n",
       "2121  Aizawl 2020-07-01   4.49   5.39  11.44  0.07  15.11  19.41  0.02  2.07   \n",
       "\n",
       "        O3  Benzene  Toluene  Xylene   AQI    AQI_Bucket  month  \n",
       "2009  4.48     0.03     0.30     NaN   NaN           NaN      3  \n",
       "2010  2.81     0.01     0.08     NaN  52.0  Satisfactory      3  \n",
       "2011  0.18     0.00     0.00     NaN  60.0  Satisfactory      3  \n",
       "2012  0.41     0.00     0.00     NaN  62.0  Satisfactory      3  \n",
       "2013  0.30     0.00     0.00     NaN  70.0  Satisfactory      3  \n",
       "...    ...      ...      ...     ...   ...           ...    ...  \n",
       "2117  1.29      NaN      NaN     NaN  19.0          Good      6  \n",
       "2118  1.40      NaN      NaN     NaN  19.0          Good      6  \n",
       "2119  0.95      NaN      NaN     NaN  20.0          Good      6  \n",
       "2120  1.16      NaN      NaN     NaN  20.0          Good      6  \n",
       "2121  3.39      NaN      NaN     NaN  20.0          Good      7  \n",
       "\n",
       "[113 rows x 17 columns]"
      ]
     },
     "execution_count": 507,
     "metadata": {},
     "output_type": "execute_result"
    }
   ],
   "source": [
    "# \"Aizwal\" city data starts from March month. So, some missing % values are NaN\n",
    "df1[df1['City']=='Aizawl']"
   ]
  },
  {
   "cell_type": "code",
   "execution_count": 508,
   "id": "a88d4a27",
   "metadata": {},
   "outputs": [
    {
     "name": "stdout",
     "output_type": "stream",
     "text": [
      "Ahmedabad - 47.8494623655914 %\n",
      "Aizawl - nan %\n",
      "Amaravati - 0.0 %\n",
      "Amritsar - 8.60215053763441 %\n",
      "Bengaluru - 17.20430107526882 %\n",
      "Bhopal - 0.0 %\n",
      "Brajrajnagar - 36.55913978494624 %\n",
      "Chandigarh - 0.0 %\n",
      "Chennai - 16.666666666666664 %\n",
      "Coimbatore - 0.0 %\n",
      "Delhi - 0.0 %\n",
      "Ernakulam - 10.0 %\n",
      "Gurugram - 17.419354838709676 %\n",
      "Guwahati - 3.225806451612903 %\n",
      "Hyderabad - 15.846994535519126 %\n",
      "Jaipur - 0.0 %\n",
      "Jorapokhar - 41.935483870967744 %\n",
      "Kochi - 0.0 %\n",
      "Kolkata - 0.0 %\n",
      "Lucknow - 16.666666666666664 %\n",
      "Mumbai - 66.66666666666666 %\n",
      "Patna - 0.0 %\n",
      "Shillong - 6.451612903225806 %\n",
      "Talcher - 33.33333333333333 %\n",
      "Thiruvananthapuram - 0.0 %\n",
      "Visakhapatnam - 3.225806451612903 %\n"
     ]
    },
    {
     "name": "stderr",
     "output_type": "stream",
     "text": [
      "C:\\Users\\ASUS\\AppData\\Local\\Temp\\ipykernel_8940\\1442237672.py:6: RuntimeWarning: invalid value encountered in double_scalars\n",
      "  print((a/(a+b))*100,'%')\n"
     ]
    }
   ],
   "source": [
    "# Checking the % of missing values in the dataset\n",
    "for i in df1.groupby(['City'])['City'].count().index:\n",
    "    print(i, end = ' - ')\n",
    "    a = df1[df1['City']==i][df1[df1['City']==i]['month']==1].isnull().sum()[2]\n",
    "    b = df1[df1['City']==i][df1[df1['City']==i]['month']==1].notnull().sum()[2]\n",
    "    print((a/(a+b))*100,'%')"
   ]
  },
  {
   "cell_type": "markdown",
   "id": "a9b0ed42",
   "metadata": {},
   "source": [
    "### For Cites in January month, \"PM2.5\" data is missing. So, we will ignore the NaN values for the entire cities. There are 26 Cities in this dataset and 12 month."
   ]
  },
  {
   "cell_type": "code",
   "execution_count": 509,
   "id": "0d018a55",
   "metadata": {},
   "outputs": [
    {
     "data": {
      "text/plain": [
       "(29531, 17)"
      ]
     },
     "execution_count": 509,
     "metadata": {},
     "output_type": "execute_result"
    }
   ],
   "source": [
    "df1.shape"
   ]
  },
  {
   "cell_type": "code",
   "execution_count": 510,
   "id": "6792cc79",
   "metadata": {},
   "outputs": [
    {
     "data": {
      "text/plain": [
       "<AxesSubplot:>"
      ]
     },
     "execution_count": 510,
     "metadata": {},
     "output_type": "execute_result"
    },
    {
     "data": {
      "image/png": "[encoded data removed]",
      "text/plain": [
       "<Figure size 640x480 with 2 Axes>"
      ]
     },
     "metadata": {},
     "output_type": "display_data"
    }
   ],
   "source": [
    "# Checking the correlation\n",
    "sns.heatmap(df1.corr(),annot=True)"
   ]
  },
  {
   "cell_type": "code",
   "execution_count": 511,
   "id": "2b9cd9aa",
   "metadata": {
    "scrolled": false
   },
   "outputs": [
    {
     "data": {
      "text/plain": [
       "Index(['Ahmedabad', 'Aizawl', 'Amaravati', 'Amritsar', 'Bengaluru', 'Bhopal',\n",
       "       'Brajrajnagar', 'Chandigarh', 'Chennai', 'Coimbatore', 'Delhi',\n",
       "       'Ernakulam', 'Gurugram', 'Guwahati', 'Hyderabad', 'Jaipur',\n",
       "       'Jorapokhar', 'Kochi', 'Kolkata', 'Lucknow', 'Mumbai', 'Patna',\n",
       "       'Shillong', 'Talcher', 'Thiruvananthapuram', 'Visakhapatnam'],\n",
       "      dtype='object', name='City')"
      ]
     },
     "execution_count": 511,
     "metadata": {},
     "output_type": "execute_result"
    }
   ],
   "source": [
    "df1.groupby(['City'])['City'].count().index"
   ]
  },
  {
   "cell_type": "code",
   "execution_count": 512,
   "id": "e8bb3be4",
   "metadata": {},
   "outputs": [
    {
     "data": {
      "text/plain": [
       "City\n",
       "Ahmedabad             2009\n",
       "Aizawl                 113\n",
       "Amaravati              951\n",
       "Amritsar              1221\n",
       "Bengaluru             2009\n",
       "Bhopal                 289\n",
       "Brajrajnagar           938\n",
       "Chandigarh             304\n",
       "Chennai               2009\n",
       "Coimbatore             386\n",
       "Delhi                 2009\n",
       "Ernakulam              162\n",
       "Gurugram              1679\n",
       "Guwahati               502\n",
       "Hyderabad             2006\n",
       "Jaipur                1114\n",
       "Jorapokhar            1169\n",
       "Kochi                  162\n",
       "Kolkata                814\n",
       "Lucknow               2009\n",
       "Mumbai                2009\n",
       "Patna                 1858\n",
       "Shillong               310\n",
       "Talcher                925\n",
       "Thiruvananthapuram    1112\n",
       "Visakhapatnam         1462\n",
       "Name: City, dtype: int64"
      ]
     },
     "execution_count": 512,
     "metadata": {},
     "output_type": "execute_result"
    }
   ],
   "source": [
    "df1.groupby(['City'])['City'].count()"
   ]
  },
  {
   "cell_type": "markdown",
   "id": "b87c48ed",
   "metadata": {},
   "source": [
    "Q1 - Find the maximum value of PM2.5 for all the cities"
   ]
  },
  {
   "cell_type": "code",
   "execution_count": 513,
   "id": "40dd519a",
   "metadata": {},
   "outputs": [
    {
     "name": "stdout",
     "output_type": "stream",
     "text": [
      "Ahmedabad\n",
      "381.69\n",
      "Aizawl\n",
      "54.9\n",
      "Amaravati\n",
      "139.38\n",
      "Amritsar\n",
      "868.66\n",
      "Bengaluru\n",
      "313.59\n",
      "Bhopal\n",
      "136.42\n",
      "Brajrajnagar\n",
      "308.79\n",
      "Chandigarh\n",
      "154.85\n",
      "Chennai\n",
      "293.43\n",
      "Coimbatore\n",
      "63.1\n",
      "Delhi\n",
      "685.36\n",
      "Ernakulam\n",
      "78.27\n",
      "Gurugram\n",
      "949.99\n",
      "Guwahati\n",
      "916.67\n",
      "Hyderabad\n",
      "571.02\n",
      "Jaipur\n",
      "311.35\n",
      "Jorapokhar\n",
      "217.13\n",
      "Kochi\n",
      "143.85\n",
      "Kolkata\n",
      "304.74\n",
      "Lucknow\n",
      "742.67\n",
      "Mumbai\n",
      "134.32\n",
      "Patna\n",
      "645.5\n",
      "Shillong\n",
      "917.77\n",
      "Talcher\n",
      "354.44\n",
      "Thiruvananthapuram\n",
      "98.87\n",
      "Visakhapatnam\n",
      "203.05\n"
     ]
    }
   ],
   "source": [
    "city_list = []\n",
    "for i in df1.groupby(['City'])['City'].count().index:\n",
    "    print(i)\n",
    "    print(df1[df1['City']== i]['PM2.5'].max())\n",
    "    city_list.append(df1[df1['City']== i]['PM2.5'].max())"
   ]
  },
  {
   "cell_type": "code",
   "execution_count": 514,
   "id": "97cbf1eb",
   "metadata": {},
   "outputs": [
    {
     "data": {
      "text/plain": [
       "[381.69,\n",
       " 54.9,\n",
       " 139.38,\n",
       " 868.66,\n",
       " 313.59,\n",
       " 136.42,\n",
       " 308.79,\n",
       " 154.85,\n",
       " 293.43,\n",
       " 63.1,\n",
       " 685.36,\n",
       " 78.27,\n",
       " 949.99,\n",
       " 916.67,\n",
       " 571.02,\n",
       " 311.35,\n",
       " 217.13,\n",
       " 143.85,\n",
       " 304.74,\n",
       " 742.67,\n",
       " 134.32,\n",
       " 645.5,\n",
       " 917.77,\n",
       " 354.44,\n",
       " 98.87,\n",
       " 203.05]"
      ]
     },
     "execution_count": 514,
     "metadata": {},
     "output_type": "execute_result"
    }
   ],
   "source": [
    "city_list"
   ]
  },
  {
   "cell_type": "code",
   "execution_count": 515,
   "id": "e0764658",
   "metadata": {},
   "outputs": [],
   "source": [
    "city_name = []\n",
    "for i in df1.groupby(['City'])['City'].count().index:\n",
    "    city_name.append(i)"
   ]
  },
  {
   "cell_type": "code",
   "execution_count": 516,
   "id": "da3fc2b4",
   "metadata": {},
   "outputs": [
    {
     "data": {
      "text/plain": [
       "['Ahmedabad',\n",
       " 'Aizawl',\n",
       " 'Amaravati',\n",
       " 'Amritsar',\n",
       " 'Bengaluru',\n",
       " 'Bhopal',\n",
       " 'Brajrajnagar',\n",
       " 'Chandigarh',\n",
       " 'Chennai',\n",
       " 'Coimbatore',\n",
       " 'Delhi',\n",
       " 'Ernakulam',\n",
       " 'Gurugram',\n",
       " 'Guwahati',\n",
       " 'Hyderabad',\n",
       " 'Jaipur',\n",
       " 'Jorapokhar',\n",
       " 'Kochi',\n",
       " 'Kolkata',\n",
       " 'Lucknow',\n",
       " 'Mumbai',\n",
       " 'Patna',\n",
       " 'Shillong',\n",
       " 'Talcher',\n",
       " 'Thiruvananthapuram',\n",
       " 'Visakhapatnam']"
      ]
     },
     "execution_count": 516,
     "metadata": {},
     "output_type": "execute_result"
    }
   ],
   "source": [
    "city_name"
   ]
  },
  {
   "cell_type": "code",
   "execution_count": 517,
   "id": "c568f11f",
   "metadata": {},
   "outputs": [
    {
     "data": {
      "text/plain": [
       "{'Ahmedabad': 381.69,\n",
       " 'Aizawl': 54.9,\n",
       " 'Amaravati': 139.38,\n",
       " 'Amritsar': 868.66,\n",
       " 'Bengaluru': 313.59,\n",
       " 'Bhopal': 136.42,\n",
       " 'Brajrajnagar': 308.79,\n",
       " 'Chandigarh': 154.85,\n",
       " 'Chennai': 293.43,\n",
       " 'Coimbatore': 63.1,\n",
       " 'Delhi': 685.36,\n",
       " 'Ernakulam': 78.27,\n",
       " 'Gurugram': 949.99,\n",
       " 'Guwahati': 916.67,\n",
       " 'Hyderabad': 571.02,\n",
       " 'Jaipur': 311.35,\n",
       " 'Jorapokhar': 217.13,\n",
       " 'Kochi': 143.85,\n",
       " 'Kolkata': 304.74,\n",
       " 'Lucknow': 742.67,\n",
       " 'Mumbai': 134.32,\n",
       " 'Patna': 645.5,\n",
       " 'Shillong': 917.77,\n",
       " 'Talcher': 354.44,\n",
       " 'Thiruvananthapuram': 98.87,\n",
       " 'Visakhapatnam': 203.05}"
      ]
     },
     "execution_count": 517,
     "metadata": {},
     "output_type": "execute_result"
    }
   ],
   "source": [
    "city_max_pm_2_5 = dict(zip(city_name,city_list))\n",
    "city_max_pm_2_5"
   ]
  },
  {
   "cell_type": "code",
   "execution_count": 518,
   "id": "a93e7597",
   "metadata": {},
   "outputs": [
    {
     "data": {
      "text/plain": [
       "Text(0, 0.5, 'City Names')"
      ]
     },
     "execution_count": 518,
     "metadata": {},
     "output_type": "execute_result"
    },
    {
     "data": {
      "image/png": "[encoded data removed]",
      "text/plain": [
       "<Figure size 640x480 with 1 Axes>"
      ]
     },
     "metadata": {},
     "output_type": "display_data"
    }
   ],
   "source": [
    "plt.barh(list(city_max_pm_2_5.keys()),list(city_max_pm_2_5.values()))\n",
    "plt.title(\"City wise Max PM2.5 Concentration\")\n",
    "plt.xlabel(\"PM2.5 Concentration\")\n",
    "plt.ylabel(\"City Names\")"
   ]
  },
  {
   "cell_type": "code",
   "execution_count": 519,
   "id": "9373acbc",
   "metadata": {},
   "outputs": [
    {
     "data": {
      "text/plain": [
       "949.99"
      ]
     },
     "execution_count": 519,
     "metadata": {},
     "output_type": "execute_result"
    }
   ],
   "source": [
    "df1[df1['City']== 'Gurugram']['PM2.5'].max()"
   ]
  },
  {
   "cell_type": "code",
   "execution_count": 520,
   "id": "7c93a45c",
   "metadata": {},
   "outputs": [
    {
     "data": {
      "text/plain": [
       "54.9"
      ]
     },
     "execution_count": 520,
     "metadata": {},
     "output_type": "execute_result"
    }
   ],
   "source": [
    "df1[df1['City']== 'Aizawl']['PM2.5'].max()"
   ]
  },
  {
   "cell_type": "markdown",
   "id": "f107a21d",
   "metadata": {},
   "source": [
    "### Out of all the cities available in the dataset, \"Gurugram\" has the HIGHEST PM2.5 Concentration = 949.99 and \"Aizawal\" has the LOWEST PM2.5 Concentration = 54.9"
   ]
  },
  {
   "cell_type": "code",
   "execution_count": 521,
   "id": "9be3a56f",
   "metadata": {},
   "outputs": [
    {
     "data": {
      "text/html": [
       "<div>\n",
       "<style scoped>\n",
       "    .dataframe tbody tr th:only-of-type {\n",
       "        vertical-align: middle;\n",
       "    }\n",
       "\n",
       "    .dataframe tbody tr th {\n",
       "        vertical-align: top;\n",
       "    }\n",
       "\n",
       "    .dataframe thead th {\n",
       "        text-align: right;\n",
       "    }\n",
       "</style>\n",
       "<table border=\"1\" class=\"dataframe\">\n",
       "  <thead>\n",
       "    <tr style=\"text-align: right;\">\n",
       "      <th></th>\n",
       "      <th>City</th>\n",
       "      <th>Date</th>\n",
       "      <th>PM2.5</th>\n",
       "      <th>PM10</th>\n",
       "      <th>NO</th>\n",
       "      <th>NO2</th>\n",
       "      <th>NOx</th>\n",
       "      <th>NH3</th>\n",
       "      <th>CO</th>\n",
       "      <th>SO2</th>\n",
       "      <th>O3</th>\n",
       "      <th>Benzene</th>\n",
       "      <th>Toluene</th>\n",
       "      <th>Xylene</th>\n",
       "      <th>AQI</th>\n",
       "      <th>AQI_Bucket</th>\n",
       "      <th>month</th>\n",
       "    </tr>\n",
       "  </thead>\n",
       "  <tbody>\n",
       "    <tr>\n",
       "      <th>0</th>\n",
       "      <td>Ahmedabad</td>\n",
       "      <td>2015-01-01</td>\n",
       "      <td>NaN</td>\n",
       "      <td>NaN</td>\n",
       "      <td>0.92</td>\n",
       "      <td>18.22</td>\n",
       "      <td>17.15</td>\n",
       "      <td>NaN</td>\n",
       "      <td>0.92</td>\n",
       "      <td>27.64</td>\n",
       "      <td>133.36</td>\n",
       "      <td>0.00</td>\n",
       "      <td>0.02</td>\n",
       "      <td>0.00</td>\n",
       "      <td>NaN</td>\n",
       "      <td>NaN</td>\n",
       "      <td>1</td>\n",
       "    </tr>\n",
       "    <tr>\n",
       "      <th>1</th>\n",
       "      <td>Ahmedabad</td>\n",
       "      <td>2015-01-02</td>\n",
       "      <td>NaN</td>\n",
       "      <td>NaN</td>\n",
       "      <td>0.97</td>\n",
       "      <td>15.69</td>\n",
       "      <td>16.46</td>\n",
       "      <td>NaN</td>\n",
       "      <td>0.97</td>\n",
       "      <td>24.55</td>\n",
       "      <td>34.06</td>\n",
       "      <td>3.68</td>\n",
       "      <td>5.50</td>\n",
       "      <td>3.77</td>\n",
       "      <td>NaN</td>\n",
       "      <td>NaN</td>\n",
       "      <td>1</td>\n",
       "    </tr>\n",
       "    <tr>\n",
       "      <th>2</th>\n",
       "      <td>Ahmedabad</td>\n",
       "      <td>2015-01-03</td>\n",
       "      <td>NaN</td>\n",
       "      <td>NaN</td>\n",
       "      <td>17.40</td>\n",
       "      <td>19.30</td>\n",
       "      <td>29.70</td>\n",
       "      <td>NaN</td>\n",
       "      <td>17.40</td>\n",
       "      <td>29.07</td>\n",
       "      <td>30.70</td>\n",
       "      <td>6.80</td>\n",
       "      <td>16.40</td>\n",
       "      <td>2.25</td>\n",
       "      <td>NaN</td>\n",
       "      <td>NaN</td>\n",
       "      <td>1</td>\n",
       "    </tr>\n",
       "    <tr>\n",
       "      <th>3</th>\n",
       "      <td>Ahmedabad</td>\n",
       "      <td>2015-01-04</td>\n",
       "      <td>NaN</td>\n",
       "      <td>NaN</td>\n",
       "      <td>1.70</td>\n",
       "      <td>18.48</td>\n",
       "      <td>17.97</td>\n",
       "      <td>NaN</td>\n",
       "      <td>1.70</td>\n",
       "      <td>18.59</td>\n",
       "      <td>36.08</td>\n",
       "      <td>4.43</td>\n",
       "      <td>10.14</td>\n",
       "      <td>1.00</td>\n",
       "      <td>NaN</td>\n",
       "      <td>NaN</td>\n",
       "      <td>1</td>\n",
       "    </tr>\n",
       "    <tr>\n",
       "      <th>4</th>\n",
       "      <td>Ahmedabad</td>\n",
       "      <td>2015-01-05</td>\n",
       "      <td>NaN</td>\n",
       "      <td>NaN</td>\n",
       "      <td>22.10</td>\n",
       "      <td>21.42</td>\n",
       "      <td>37.76</td>\n",
       "      <td>NaN</td>\n",
       "      <td>22.10</td>\n",
       "      <td>39.33</td>\n",
       "      <td>39.31</td>\n",
       "      <td>7.01</td>\n",
       "      <td>18.89</td>\n",
       "      <td>2.78</td>\n",
       "      <td>NaN</td>\n",
       "      <td>NaN</td>\n",
       "      <td>1</td>\n",
       "    </tr>\n",
       "  </tbody>\n",
       "</table>\n",
       "</div>"
      ],
      "text/plain": [
       "        City       Date  PM2.5  PM10     NO    NO2    NOx  NH3     CO    SO2  \\\n",
       "0  Ahmedabad 2015-01-01    NaN   NaN   0.92  18.22  17.15  NaN   0.92  27.64   \n",
       "1  Ahmedabad 2015-01-02    NaN   NaN   0.97  15.69  16.46  NaN   0.97  24.55   \n",
       "2  Ahmedabad 2015-01-03    NaN   NaN  17.40  19.30  29.70  NaN  17.40  29.07   \n",
       "3  Ahmedabad 2015-01-04    NaN   NaN   1.70  18.48  17.97  NaN   1.70  18.59   \n",
       "4  Ahmedabad 2015-01-05    NaN   NaN  22.10  21.42  37.76  NaN  22.10  39.33   \n",
       "\n",
       "       O3  Benzene  Toluene  Xylene  AQI AQI_Bucket  month  \n",
       "0  133.36     0.00     0.02    0.00  NaN        NaN      1  \n",
       "1   34.06     3.68     5.50    3.77  NaN        NaN      1  \n",
       "2   30.70     6.80    16.40    2.25  NaN        NaN      1  \n",
       "3   36.08     4.43    10.14    1.00  NaN        NaN      1  \n",
       "4   39.31     7.01    18.89    2.78  NaN        NaN      1  "
      ]
     },
     "execution_count": 521,
     "metadata": {},
     "output_type": "execute_result"
    }
   ],
   "source": [
    "df1.head()"
   ]
  },
  {
   "cell_type": "markdown",
   "id": "4888283b",
   "metadata": {},
   "source": [
    "###### Coarse (bigger) particles, called PM10, can irritate your eyes, nose, and throat. Dust from roads, farms, dry riverbeds, construction sites, and mines are types of PM10. Fine (smaller) particles, called PM2.5, are more dangerous because they can get into the deep parts of your lungs — or even into your blood."
   ]
  },
  {
   "cell_type": "markdown",
   "id": "89092409",
   "metadata": {},
   "source": [
    "### For PM2.5 Concentration"
   ]
  },
  {
   "cell_type": "code",
   "execution_count": 522,
   "id": "51fb95de",
   "metadata": {},
   "outputs": [
    {
     "data": {
      "text/plain": [
       "949.99"
      ]
     },
     "execution_count": 522,
     "metadata": {},
     "output_type": "execute_result"
    }
   ],
   "source": [
    "# Checking the value for Gurugram for Maximum PM2.5 concentration\n",
    "df1[df1['City']== 'Gurugram']['PM2.5'].max()"
   ]
  },
  {
   "cell_type": "code",
   "execution_count": 523,
   "id": "a880784e",
   "metadata": {},
   "outputs": [
    {
     "data": {
      "text/plain": [
       "13041    8\n",
       "Name: month, dtype: int64"
      ]
     },
     "execution_count": 523,
     "metadata": {},
     "output_type": "execute_result"
    }
   ],
   "source": [
    "df1[df1['PM2.5'] == df1[df1['City']== 'Gurugram']['PM2.5'].max()]['month']"
   ]
  },
  {
   "cell_type": "markdown",
   "id": "27051850",
   "metadata": {},
   "source": [
    "In August (Monsson Season), Pollution levels can be increased due to the following reasons:\n",
    "\n",
    "- Increased humidity: The monsoon season is characterized by high humidity levels, which can trap pollutants in the air. The moisture in the air can combine with pollutants, such as dust, smoke, and vehicle emissions, and make them linger in the atmosphere for longer periods, leading to higher pollution levels.\n",
    "\n",
    "- Stagnant air and reduced wind: During the monsoon season, there is often reduced wind movement and stagnant air conditions. This lack of air movement can prevent the dispersion of pollutants and result in their accumulation in the atmosphere.\n",
    "\n",
    "- Agricultural activities: The monsoon season coincides with the peak of the agricultural season in many regions. During this time, farmers often engage in activities like crop burning, which releases large amounts of smoke and pollutants into the air, contributing to increased pollution levels.\n",
    "\n",
    "- Increased vehicular emissions: In some areas, the monsoon season can lead to congested roads and increased traffic due to wet and slippery conditions. This can result in slower traffic flow and prolonged idling, leading to higher emissions from vehicles and subsequently contributing to pollution.\n",
    "\n",
    "- Industrial emissions: Industries that operate throughout the year may continue to release pollutants during the monsoon season. The damp and stagnant conditions can prevent the dispersion of industrial emissions, leading to increased pollution in the surrounding areas."
   ]
  },
  {
   "cell_type": "code",
   "execution_count": 524,
   "id": "a5044324",
   "metadata": {},
   "outputs": [
    {
     "data": {
      "text/plain": [
       "13041    NaN\n",
       "Name: AQI_Bucket, dtype: object"
      ]
     },
     "execution_count": 524,
     "metadata": {},
     "output_type": "execute_result"
    }
   ],
   "source": [
    "df1[df1['PM2.5'] == df1[df1['City']== 'Gurugram']['PM2.5'].max()]['AQI_Bucket']"
   ]
  },
  {
   "cell_type": "code",
   "execution_count": 525,
   "id": "7c5223e0",
   "metadata": {},
   "outputs": [
    {
     "data": {
      "text/plain": [
       "13041   NaN\n",
       "Name: AQI, dtype: float64"
      ]
     },
     "execution_count": 525,
     "metadata": {},
     "output_type": "execute_result"
    }
   ],
   "source": [
    "df1[df1['PM2.5'] == df1[df1['City']== 'Gurugram']['PM2.5'].max()]['AQI']"
   ]
  },
  {
   "cell_type": "code",
   "execution_count": 526,
   "id": "ae1123a7",
   "metadata": {},
   "outputs": [
    {
     "data": {
      "text/plain": [
       "13041   2017-08-29\n",
       "Name: Date, dtype: datetime64[ns]"
      ]
     },
     "execution_count": 526,
     "metadata": {},
     "output_type": "execute_result"
    }
   ],
   "source": [
    "df1[df1['PM2.5'] == df1[df1['City']== 'Gurugram']['PM2.5'].max()]['Date']"
   ]
  },
  {
   "cell_type": "code",
   "execution_count": 527,
   "id": "c35c501d",
   "metadata": {},
   "outputs": [
    {
     "data": {
      "text/plain": [
       "13211   2018-02-15\n",
       "Name: Date, dtype: datetime64[ns]"
      ]
     },
     "execution_count": 527,
     "metadata": {},
     "output_type": "execute_result"
    }
   ],
   "source": [
    "df1[df1['PM2.5'] == df1[df1['City']== 'Gurugram']['PM2.5'].min()]['Date']"
   ]
  },
  {
   "cell_type": "code",
   "execution_count": 528,
   "id": "858fe5c4",
   "metadata": {},
   "outputs": [],
   "source": [
    "data_gurugram = df1[df1['City']== 'Gurugram']"
   ]
  },
  {
   "cell_type": "code",
   "execution_count": 529,
   "id": "0f05f163",
   "metadata": {},
   "outputs": [
    {
     "data": {
      "text/plain": [
       "[<matplotlib.lines.Line2D at 0x2531dc92400>]"
      ]
     },
     "execution_count": 529,
     "metadata": {},
     "output_type": "execute_result"
    },
    {
     "data": {
      "image/png": "[encoded data removed]",
      "text/plain": [
       "<Figure size 1200x400 with 1 Axes>"
      ]
     },
     "metadata": {},
     "output_type": "display_data"
    }
   ],
   "source": [
    "plt.figure(figsize=(12,4))\n",
    "plt.plot(data_gurugram['Date'], data_gurugram['PM2.5'])"
   ]
  },
  {
   "cell_type": "markdown",
   "id": "b679a19a",
   "metadata": {},
   "source": [
    "### For PM10 Concentration"
   ]
  },
  {
   "cell_type": "code",
   "execution_count": 530,
   "id": "6437abd9",
   "metadata": {},
   "outputs": [
    {
     "data": {
      "text/plain": [
       "666.72"
      ]
     },
     "execution_count": 530,
     "metadata": {},
     "output_type": "execute_result"
    }
   ],
   "source": [
    "df1[df1['City']== 'Gurugram']['PM10'].max()"
   ]
  },
  {
   "cell_type": "code",
   "execution_count": 531,
   "id": "5980e08c",
   "metadata": {},
   "outputs": [
    {
     "data": {
      "text/plain": [
       "13184    1\n",
       "Name: month, dtype: int64"
      ]
     },
     "execution_count": 531,
     "metadata": {},
     "output_type": "execute_result"
    }
   ],
   "source": [
    "# in January Month, we hve the max PM10 COncentration - WINTER SEASON\n",
    "df1[df1['PM10'] == df1[df1['City']== 'Gurugram']['PM10'].max()]['month']"
   ]
  },
  {
   "cell_type": "markdown",
   "id": "c3cbca54",
   "metadata": {},
   "source": [
    "In Winter season, pollution can be increased due to the following reasons:\n",
    "\n",
    "- Vehicle emissions: Cold weather can affect the efficiency of engines and reduce fuel combustion efficiency in vehicles. This can lead to increased emissions of pollutants such as carbon monoxide (CO), nitrogen oxides (NOx), and volatile organic compounds (VOCs).\n",
    "\n",
    "- Atmospheric conditions: In winter, atmospheric conditions such as temperature inversions can occur more frequently. Temperature inversions trap pollutants close to the ground, preventing their dispersion and leading to higher pollution levels."
   ]
  },
  {
   "cell_type": "code",
   "execution_count": 532,
   "id": "e5959bf2",
   "metadata": {},
   "outputs": [
    {
     "data": {
      "text/plain": [
       "13184    Very Poor\n",
       "Name: AQI_Bucket, dtype: object"
      ]
     },
     "execution_count": 532,
     "metadata": {},
     "output_type": "execute_result"
    }
   ],
   "source": [
    "df1[df1['PM10'] == df1[df1['City']== 'Gurugram']['PM10'].max()]['AQI_Bucket']"
   ]
  },
  {
   "cell_type": "code",
   "execution_count": 533,
   "id": "6a264bff",
   "metadata": {},
   "outputs": [
    {
     "data": {
      "text/plain": [
       "13184    377.0\n",
       "Name: AQI, dtype: float64"
      ]
     },
     "execution_count": 533,
     "metadata": {},
     "output_type": "execute_result"
    }
   ],
   "source": [
    "df1[df1['PM10'] == df1[df1['City']== 'Gurugram']['PM10'].max()]['AQI']"
   ]
  },
  {
   "cell_type": "code",
   "execution_count": 534,
   "id": "bd7af8d3",
   "metadata": {},
   "outputs": [
    {
     "data": {
      "text/html": [
       "<div>\n",
       "<style scoped>\n",
       "    .dataframe tbody tr th:only-of-type {\n",
       "        vertical-align: middle;\n",
       "    }\n",
       "\n",
       "    .dataframe tbody tr th {\n",
       "        vertical-align: top;\n",
       "    }\n",
       "\n",
       "    .dataframe thead th {\n",
       "        text-align: right;\n",
       "    }\n",
       "</style>\n",
       "<table border=\"1\" class=\"dataframe\">\n",
       "  <thead>\n",
       "    <tr style=\"text-align: right;\">\n",
       "      <th></th>\n",
       "      <th>City</th>\n",
       "      <th>Date</th>\n",
       "      <th>PM2.5</th>\n",
       "      <th>PM10</th>\n",
       "      <th>NO</th>\n",
       "      <th>NO2</th>\n",
       "      <th>NOx</th>\n",
       "      <th>NH3</th>\n",
       "      <th>CO</th>\n",
       "      <th>SO2</th>\n",
       "      <th>O3</th>\n",
       "      <th>Benzene</th>\n",
       "      <th>Toluene</th>\n",
       "      <th>Xylene</th>\n",
       "      <th>AQI</th>\n",
       "      <th>AQI_Bucket</th>\n",
       "      <th>month</th>\n",
       "    </tr>\n",
       "  </thead>\n",
       "  <tbody>\n",
       "    <tr>\n",
       "      <th>0</th>\n",
       "      <td>Ahmedabad</td>\n",
       "      <td>2015-01-01</td>\n",
       "      <td>NaN</td>\n",
       "      <td>NaN</td>\n",
       "      <td>0.92</td>\n",
       "      <td>18.22</td>\n",
       "      <td>17.15</td>\n",
       "      <td>NaN</td>\n",
       "      <td>0.92</td>\n",
       "      <td>27.64</td>\n",
       "      <td>133.36</td>\n",
       "      <td>0.00</td>\n",
       "      <td>0.02</td>\n",
       "      <td>0.00</td>\n",
       "      <td>NaN</td>\n",
       "      <td>NaN</td>\n",
       "      <td>1</td>\n",
       "    </tr>\n",
       "    <tr>\n",
       "      <th>1</th>\n",
       "      <td>Ahmedabad</td>\n",
       "      <td>2015-01-02</td>\n",
       "      <td>NaN</td>\n",
       "      <td>NaN</td>\n",
       "      <td>0.97</td>\n",
       "      <td>15.69</td>\n",
       "      <td>16.46</td>\n",
       "      <td>NaN</td>\n",
       "      <td>0.97</td>\n",
       "      <td>24.55</td>\n",
       "      <td>34.06</td>\n",
       "      <td>3.68</td>\n",
       "      <td>5.50</td>\n",
       "      <td>3.77</td>\n",
       "      <td>NaN</td>\n",
       "      <td>NaN</td>\n",
       "      <td>1</td>\n",
       "    </tr>\n",
       "    <tr>\n",
       "      <th>2</th>\n",
       "      <td>Ahmedabad</td>\n",
       "      <td>2015-01-03</td>\n",
       "      <td>NaN</td>\n",
       "      <td>NaN</td>\n",
       "      <td>17.40</td>\n",
       "      <td>19.30</td>\n",
       "      <td>29.70</td>\n",
       "      <td>NaN</td>\n",
       "      <td>17.40</td>\n",
       "      <td>29.07</td>\n",
       "      <td>30.70</td>\n",
       "      <td>6.80</td>\n",
       "      <td>16.40</td>\n",
       "      <td>2.25</td>\n",
       "      <td>NaN</td>\n",
       "      <td>NaN</td>\n",
       "      <td>1</td>\n",
       "    </tr>\n",
       "    <tr>\n",
       "      <th>3</th>\n",
       "      <td>Ahmedabad</td>\n",
       "      <td>2015-01-04</td>\n",
       "      <td>NaN</td>\n",
       "      <td>NaN</td>\n",
       "      <td>1.70</td>\n",
       "      <td>18.48</td>\n",
       "      <td>17.97</td>\n",
       "      <td>NaN</td>\n",
       "      <td>1.70</td>\n",
       "      <td>18.59</td>\n",
       "      <td>36.08</td>\n",
       "      <td>4.43</td>\n",
       "      <td>10.14</td>\n",
       "      <td>1.00</td>\n",
       "      <td>NaN</td>\n",
       "      <td>NaN</td>\n",
       "      <td>1</td>\n",
       "    </tr>\n",
       "    <tr>\n",
       "      <th>4</th>\n",
       "      <td>Ahmedabad</td>\n",
       "      <td>2015-01-05</td>\n",
       "      <td>NaN</td>\n",
       "      <td>NaN</td>\n",
       "      <td>22.10</td>\n",
       "      <td>21.42</td>\n",
       "      <td>37.76</td>\n",
       "      <td>NaN</td>\n",
       "      <td>22.10</td>\n",
       "      <td>39.33</td>\n",
       "      <td>39.31</td>\n",
       "      <td>7.01</td>\n",
       "      <td>18.89</td>\n",
       "      <td>2.78</td>\n",
       "      <td>NaN</td>\n",
       "      <td>NaN</td>\n",
       "      <td>1</td>\n",
       "    </tr>\n",
       "  </tbody>\n",
       "</table>\n",
       "</div>"
      ],
      "text/plain": [
       "        City       Date  PM2.5  PM10     NO    NO2    NOx  NH3     CO    SO2  \\\n",
       "0  Ahmedabad 2015-01-01    NaN   NaN   0.92  18.22  17.15  NaN   0.92  27.64   \n",
       "1  Ahmedabad 2015-01-02    NaN   NaN   0.97  15.69  16.46  NaN   0.97  24.55   \n",
       "2  Ahmedabad 2015-01-03    NaN   NaN  17.40  19.30  29.70  NaN  17.40  29.07   \n",
       "3  Ahmedabad 2015-01-04    NaN   NaN   1.70  18.48  17.97  NaN   1.70  18.59   \n",
       "4  Ahmedabad 2015-01-05    NaN   NaN  22.10  21.42  37.76  NaN  22.10  39.33   \n",
       "\n",
       "       O3  Benzene  Toluene  Xylene  AQI AQI_Bucket  month  \n",
       "0  133.36     0.00     0.02    0.00  NaN        NaN      1  \n",
       "1   34.06     3.68     5.50    3.77  NaN        NaN      1  \n",
       "2   30.70     6.80    16.40    2.25  NaN        NaN      1  \n",
       "3   36.08     4.43    10.14    1.00  NaN        NaN      1  \n",
       "4   39.31     7.01    18.89    2.78  NaN        NaN      1  "
      ]
     },
     "execution_count": 534,
     "metadata": {},
     "output_type": "execute_result"
    }
   ],
   "source": [
    "df1.head()"
   ]
  },
  {
   "cell_type": "markdown",
   "id": "5e2747c8",
   "metadata": {},
   "source": [
    "##### Checking the Bucket range for AQI"
   ]
  },
  {
   "cell_type": "code",
   "execution_count": 535,
   "id": "8d7e5bbb",
   "metadata": {},
   "outputs": [
    {
     "data": {
      "text/plain": [
       "Moderate        8829\n",
       "Satisfactory    8224\n",
       "Poor            2781\n",
       "Very Poor       2337\n",
       "Good            1341\n",
       "Severe          1338\n",
       "Name: AQI_Bucket, dtype: int64"
      ]
     },
     "execution_count": 535,
     "metadata": {},
     "output_type": "execute_result"
    }
   ],
   "source": [
    "df1['AQI_Bucket'].value_counts()"
   ]
  },
  {
   "cell_type": "code",
   "execution_count": 536,
   "id": "0057482a",
   "metadata": {},
   "outputs": [
    {
     "name": "stdout",
     "output_type": "stream",
     "text": [
      "401.0\n",
      "2049.0\n"
     ]
    }
   ],
   "source": [
    "print(df1[df1['AQI_Bucket']=='Severe']['AQI'].min())\n",
    "print(df1[df1['AQI_Bucket']=='Severe']['AQI'].max())"
   ]
  },
  {
   "cell_type": "code",
   "execution_count": 537,
   "id": "7078c443",
   "metadata": {},
   "outputs": [
    {
     "data": {
      "text/plain": [
       "1145    Ahmedabad\n",
       "Name: City, dtype: object"
      ]
     },
     "execution_count": 537,
     "metadata": {},
     "output_type": "execute_result"
    }
   ],
   "source": [
    "df1[df1['AQI'] == df1[df1['AQI_Bucket']=='Severe']['AQI'].max()]['City']"
   ]
  },
  {
   "cell_type": "code",
   "execution_count": 538,
   "id": "e0081b98",
   "metadata": {},
   "outputs": [
    {
     "data": {
      "text/plain": [
       "1145   2018-02-19\n",
       "Name: Date, dtype: datetime64[ns]"
      ]
     },
     "execution_count": 538,
     "metadata": {},
     "output_type": "execute_result"
    }
   ],
   "source": [
    "df1[df1['AQI'] == df1[df1['AQI_Bucket']=='Severe']['AQI'].max()]['Date']"
   ]
  },
  {
   "cell_type": "code",
   "execution_count": 539,
   "id": "3fa08853",
   "metadata": {},
   "outputs": [
    {
     "data": {
      "text/plain": [
       "1145    242.66\n",
       "Name: PM2.5, dtype: float64"
      ]
     },
     "execution_count": 539,
     "metadata": {},
     "output_type": "execute_result"
    }
   ],
   "source": [
    "df1[df1['AQI'] == df1[df1['AQI_Bucket']=='Severe']['AQI'].max()]['PM2.5']"
   ]
  },
  {
   "cell_type": "code",
   "execution_count": 540,
   "id": "d745a797",
   "metadata": {},
   "outputs": [
    {
     "data": {
      "text/plain": [
       "1145   NaN\n",
       "Name: PM10, dtype: float64"
      ]
     },
     "execution_count": 540,
     "metadata": {},
     "output_type": "execute_result"
    }
   ],
   "source": [
    "df1[df1['AQI'] == df1[df1['AQI_Bucket']=='Severe']['AQI'].max()]['PM10']"
   ]
  },
  {
   "cell_type": "code",
   "execution_count": 541,
   "id": "ac7381c6",
   "metadata": {},
   "outputs": [
    {
     "name": "stdout",
     "output_type": "stream",
     "text": [
      "301.0\n",
      "400.0\n"
     ]
    }
   ],
   "source": [
    "print(df1[df1['AQI_Bucket']=='Very Poor']['AQI'].min())\n",
    "print(df1[df1['AQI_Bucket']=='Very Poor']['AQI'].max())"
   ]
  },
  {
   "cell_type": "code",
   "execution_count": 542,
   "id": "8911edb6",
   "metadata": {},
   "outputs": [
    {
     "name": "stdout",
     "output_type": "stream",
     "text": [
      "201.0\n",
      "300.0\n"
     ]
    }
   ],
   "source": [
    "print(df1[df1['AQI_Bucket']=='Poor']['AQI'].min())\n",
    "print(df1[df1['AQI_Bucket']=='Poor']['AQI'].max())"
   ]
  },
  {
   "cell_type": "code",
   "execution_count": 543,
   "id": "64fc8ec9",
   "metadata": {},
   "outputs": [
    {
     "name": "stdout",
     "output_type": "stream",
     "text": [
      "101.0\n",
      "200.0\n"
     ]
    }
   ],
   "source": [
    "print(df1[df1['AQI_Bucket']=='Moderate']['AQI'].min())\n",
    "print(df1[df1['AQI_Bucket']=='Moderate']['AQI'].max())"
   ]
  },
  {
   "cell_type": "code",
   "execution_count": 544,
   "id": "44e93c01",
   "metadata": {},
   "outputs": [
    {
     "name": "stdout",
     "output_type": "stream",
     "text": [
      "51.0\n",
      "100.0\n"
     ]
    }
   ],
   "source": [
    "print(df1[df1['AQI_Bucket']=='Satisfactory']['AQI'].min())\n",
    "print(df1[df1['AQI_Bucket']=='Satisfactory']['AQI'].max())"
   ]
  },
  {
   "cell_type": "code",
   "execution_count": 545,
   "id": "e396feec",
   "metadata": {},
   "outputs": [
    {
     "name": "stdout",
     "output_type": "stream",
     "text": [
      "13.0\n",
      "50.0\n"
     ]
    }
   ],
   "source": [
    "print(df1[df1['AQI_Bucket']=='Good']['AQI'].min())\n",
    "print(df1[df1['AQI_Bucket']=='Good']['AQI'].max())"
   ]
  },
  {
   "cell_type": "code",
   "execution_count": 546,
   "id": "f41158f5",
   "metadata": {},
   "outputs": [],
   "source": [
    "# Lowest AQI was found in Odhisa State ( Talcher) which is 13."
   ]
  },
  {
   "cell_type": "code",
   "execution_count": 547,
   "id": "17cfad73",
   "metadata": {},
   "outputs": [
    {
     "data": {
      "text/plain": [
       "26329    Talcher\n",
       "Name: City, dtype: object"
      ]
     },
     "execution_count": 547,
     "metadata": {},
     "output_type": "execute_result"
    }
   ],
   "source": [
    "df1[df1['AQI'] == df1[df1['AQI_Bucket']=='Good']['AQI'].min()]['City']"
   ]
  },
  {
   "cell_type": "code",
   "execution_count": 548,
   "id": "d1262e3c",
   "metadata": {},
   "outputs": [
    {
     "data": {
      "text/plain": [
       "26329   2018-10-13\n",
       "Name: Date, dtype: datetime64[ns]"
      ]
     },
     "execution_count": 548,
     "metadata": {},
     "output_type": "execute_result"
    }
   ],
   "source": [
    "df1[df1['AQI'] == df1[df1['AQI_Bucket']=='Good']['AQI'].min()]['Date']"
   ]
  },
  {
   "cell_type": "code",
   "execution_count": 549,
   "id": "079525dd",
   "metadata": {},
   "outputs": [
    {
     "data": {
      "text/plain": [
       "26329   NaN\n",
       "Name: PM2.5, dtype: float64"
      ]
     },
     "execution_count": 549,
     "metadata": {},
     "output_type": "execute_result"
    }
   ],
   "source": [
    "df1[df1['AQI'] == df1[df1['AQI_Bucket']=='Good']['AQI'].min()]['PM2.5']"
   ]
  },
  {
   "cell_type": "code",
   "execution_count": 550,
   "id": "df093dd3",
   "metadata": {},
   "outputs": [
    {
     "data": {
      "text/plain": [
       "26329    0.07\n",
       "Name: PM10, dtype: float64"
      ]
     },
     "execution_count": 550,
     "metadata": {},
     "output_type": "execute_result"
    }
   ],
   "source": [
    "df1[df1['AQI'] == df1[df1['AQI_Bucket']=='Good']['AQI'].min()]['PM10']"
   ]
  },
  {
   "cell_type": "markdown",
   "id": "9a9d5e52",
   "metadata": {},
   "source": [
    "##### Checking the box-plot summary"
   ]
  },
  {
   "cell_type": "code",
   "execution_count": 551,
   "id": "f08a0142",
   "metadata": {},
   "outputs": [
    {
     "name": "stderr",
     "output_type": "stream",
     "text": [
      "C:\\ProgramData\\Anaconda3\\lib\\site-packages\\seaborn\\_decorators.py:36: FutureWarning: Pass the following variable as a keyword arg: x. From version 0.12, the only valid positional argument will be `data`, and passing other arguments without an explicit keyword will result in an error or misinterpretation.\n",
      "  warnings.warn(\n"
     ]
    },
    {
     "data": {
      "text/plain": [
       "<AxesSubplot:xlabel='PM2.5'>"
      ]
     },
     "execution_count": 551,
     "metadata": {},
     "output_type": "execute_result"
    },
    {
     "data": {
      "image/png": "[encoded data removed]",
      "text/plain": [
       "<Figure size 640x480 with 1 Axes>"
      ]
     },
     "metadata": {},
     "output_type": "display_data"
    }
   ],
   "source": [
    "sns.boxplot(df1['PM2.5'])"
   ]
  },
  {
   "cell_type": "code",
   "execution_count": 552,
   "id": "0fe026a9",
   "metadata": {},
   "outputs": [
    {
     "name": "stderr",
     "output_type": "stream",
     "text": [
      "C:\\ProgramData\\Anaconda3\\lib\\site-packages\\seaborn\\_decorators.py:36: FutureWarning: Pass the following variable as a keyword arg: x. From version 0.12, the only valid positional argument will be `data`, and passing other arguments without an explicit keyword will result in an error or misinterpretation.\n",
      "  warnings.warn(\n"
     ]
    },
    {
     "data": {
      "text/plain": [
       "<AxesSubplot:xlabel='PM10'>"
      ]
     },
     "execution_count": 552,
     "metadata": {},
     "output_type": "execute_result"
    },
    {
     "data": {
      "image/png": "[encoded data removed]",
      "text/plain": [
       "<Figure size 640x480 with 1 Axes>"
      ]
     },
     "metadata": {},
     "output_type": "display_data"
    }
   ],
   "source": [
    "sns.boxplot(df1['PM10'])"
   ]
  },
  {
   "cell_type": "markdown",
   "id": "6aa42d57",
   "metadata": {},
   "source": [
    "#### loading the second dataset"
   ]
  },
  {
   "cell_type": "code",
   "execution_count": 553,
   "id": "bf43e42d",
   "metadata": {},
   "outputs": [],
   "source": [
    "# here this dataset is same as that of first dataset. Only time value is added in the column."
   ]
  },
  {
   "cell_type": "code",
   "execution_count": 554,
   "id": "8fb96169",
   "metadata": {},
   "outputs": [
    {
     "data": {
      "text/html": [
       "<div>\n",
       "<style scoped>\n",
       "    .dataframe tbody tr th:only-of-type {\n",
       "        vertical-align: middle;\n",
       "    }\n",
       "\n",
       "    .dataframe tbody tr th {\n",
       "        vertical-align: top;\n",
       "    }\n",
       "\n",
       "    .dataframe thead th {\n",
       "        text-align: right;\n",
       "    }\n",
       "</style>\n",
       "<table border=\"1\" class=\"dataframe\">\n",
       "  <thead>\n",
       "    <tr style=\"text-align: right;\">\n",
       "      <th></th>\n",
       "      <th>City</th>\n",
       "      <th>Datetime</th>\n",
       "      <th>PM2.5</th>\n",
       "      <th>PM10</th>\n",
       "      <th>NO</th>\n",
       "      <th>NO2</th>\n",
       "      <th>NOx</th>\n",
       "      <th>NH3</th>\n",
       "      <th>CO</th>\n",
       "      <th>SO2</th>\n",
       "      <th>O3</th>\n",
       "      <th>Benzene</th>\n",
       "      <th>Toluene</th>\n",
       "      <th>Xylene</th>\n",
       "      <th>AQI</th>\n",
       "      <th>AQI_Bucket</th>\n",
       "    </tr>\n",
       "  </thead>\n",
       "  <tbody>\n",
       "    <tr>\n",
       "      <th>707870</th>\n",
       "      <td>Visakhapatnam</td>\n",
       "      <td>2020-06-30 20:00:00</td>\n",
       "      <td>9.50</td>\n",
       "      <td>36.00</td>\n",
       "      <td>2.75</td>\n",
       "      <td>25.57</td>\n",
       "      <td>15.85</td>\n",
       "      <td>4.57</td>\n",
       "      <td>0.62</td>\n",
       "      <td>NaN</td>\n",
       "      <td>27.75</td>\n",
       "      <td>NaN</td>\n",
       "      <td>NaN</td>\n",
       "      <td>NaN</td>\n",
       "      <td>51.0</td>\n",
       "      <td>Satisfactory</td>\n",
       "    </tr>\n",
       "    <tr>\n",
       "      <th>707871</th>\n",
       "      <td>Visakhapatnam</td>\n",
       "      <td>2020-06-30 21:00:00</td>\n",
       "      <td>17.25</td>\n",
       "      <td>49.25</td>\n",
       "      <td>3.62</td>\n",
       "      <td>33.20</td>\n",
       "      <td>20.62</td>\n",
       "      <td>3.78</td>\n",
       "      <td>0.76</td>\n",
       "      <td>2.02</td>\n",
       "      <td>25.58</td>\n",
       "      <td>NaN</td>\n",
       "      <td>NaN</td>\n",
       "      <td>NaN</td>\n",
       "      <td>51.0</td>\n",
       "      <td>Satisfactory</td>\n",
       "    </tr>\n",
       "    <tr>\n",
       "      <th>707872</th>\n",
       "      <td>Visakhapatnam</td>\n",
       "      <td>2020-06-30 22:00:00</td>\n",
       "      <td>36.00</td>\n",
       "      <td>71.00</td>\n",
       "      <td>2.20</td>\n",
       "      <td>30.80</td>\n",
       "      <td>18.20</td>\n",
       "      <td>3.67</td>\n",
       "      <td>0.58</td>\n",
       "      <td>1.77</td>\n",
       "      <td>26.15</td>\n",
       "      <td>NaN</td>\n",
       "      <td>NaN</td>\n",
       "      <td>NaN</td>\n",
       "      <td>50.0</td>\n",
       "      <td>Good</td>\n",
       "    </tr>\n",
       "    <tr>\n",
       "      <th>707873</th>\n",
       "      <td>Visakhapatnam</td>\n",
       "      <td>2020-06-30 23:00:00</td>\n",
       "      <td>15.75</td>\n",
       "      <td>63.00</td>\n",
       "      <td>1.02</td>\n",
       "      <td>28.90</td>\n",
       "      <td>16.00</td>\n",
       "      <td>3.80</td>\n",
       "      <td>0.49</td>\n",
       "      <td>0.75</td>\n",
       "      <td>15.82</td>\n",
       "      <td>NaN</td>\n",
       "      <td>NaN</td>\n",
       "      <td>NaN</td>\n",
       "      <td>50.0</td>\n",
       "      <td>Good</td>\n",
       "    </tr>\n",
       "    <tr>\n",
       "      <th>707874</th>\n",
       "      <td>Visakhapatnam</td>\n",
       "      <td>2020-07-01 00:00:00</td>\n",
       "      <td>15.00</td>\n",
       "      <td>66.00</td>\n",
       "      <td>0.40</td>\n",
       "      <td>26.85</td>\n",
       "      <td>14.05</td>\n",
       "      <td>5.20</td>\n",
       "      <td>0.59</td>\n",
       "      <td>2.10</td>\n",
       "      <td>17.05</td>\n",
       "      <td>NaN</td>\n",
       "      <td>NaN</td>\n",
       "      <td>NaN</td>\n",
       "      <td>50.0</td>\n",
       "      <td>Good</td>\n",
       "    </tr>\n",
       "  </tbody>\n",
       "</table>\n",
       "</div>"
      ],
      "text/plain": [
       "                 City             Datetime  PM2.5   PM10    NO    NO2    NOx  \\\n",
       "707870  Visakhapatnam  2020-06-30 20:00:00   9.50  36.00  2.75  25.57  15.85   \n",
       "707871  Visakhapatnam  2020-06-30 21:00:00  17.25  49.25  3.62  33.20  20.62   \n",
       "707872  Visakhapatnam  2020-06-30 22:00:00  36.00  71.00  2.20  30.80  18.20   \n",
       "707873  Visakhapatnam  2020-06-30 23:00:00  15.75  63.00  1.02  28.90  16.00   \n",
       "707874  Visakhapatnam  2020-07-01 00:00:00  15.00  66.00  0.40  26.85  14.05   \n",
       "\n",
       "         NH3    CO   SO2     O3  Benzene  Toluene  Xylene   AQI    AQI_Bucket  \n",
       "707870  4.57  0.62   NaN  27.75      NaN      NaN     NaN  51.0  Satisfactory  \n",
       "707871  3.78  0.76  2.02  25.58      NaN      NaN     NaN  51.0  Satisfactory  \n",
       "707872  3.67  0.58  1.77  26.15      NaN      NaN     NaN  50.0          Good  \n",
       "707873  3.80  0.49  0.75  15.82      NaN      NaN     NaN  50.0          Good  \n",
       "707874  5.20  0.59  2.10  17.05      NaN      NaN     NaN  50.0          Good  "
      ]
     },
     "execution_count": 554,
     "metadata": {},
     "output_type": "execute_result"
    }
   ],
   "source": [
    "df2 = pd.read_csv('city_hour.csv')\n",
    "df2.tail()"
   ]
  },
  {
   "cell_type": "code",
   "execution_count": 555,
   "id": "ce76e453",
   "metadata": {},
   "outputs": [
    {
     "name": "stdout",
     "output_type": "stream",
     "text": [
      "<class 'pandas.core.frame.DataFrame'>\n",
      "RangeIndex: 707875 entries, 0 to 707874\n",
      "Data columns (total 16 columns):\n",
      " #   Column      Non-Null Count   Dtype  \n",
      "---  ------      --------------   -----  \n",
      " 0   City        707875 non-null  object \n",
      " 1   Datetime    707875 non-null  object \n",
      " 2   PM2.5       562787 non-null  float64\n",
      " 3   PM10        411138 non-null  float64\n",
      " 4   NO          591243 non-null  float64\n",
      " 5   NO2         590753 non-null  float64\n",
      " 6   NOx         584651 non-null  float64\n",
      " 7   NH3         435333 non-null  float64\n",
      " 8   CO          621358 non-null  float64\n",
      " 9   SO2         577502 non-null  float64\n",
      " 10  O3          578667 non-null  float64\n",
      " 11  Benzene     544229 non-null  float64\n",
      " 12  Toluene     487268 non-null  float64\n",
      " 13  Xylene      252046 non-null  float64\n",
      " 14  AQI         578795 non-null  float64\n",
      " 15  AQI_Bucket  578795 non-null  object \n",
      "dtypes: float64(13), object(3)\n",
      "memory usage: 86.4+ MB\n"
     ]
    }
   ],
   "source": [
    "df2.info()"
   ]
  },
  {
   "cell_type": "code",
   "execution_count": 556,
   "id": "bf6027e2",
   "metadata": {},
   "outputs": [],
   "source": [
    "df2['Datetime'] = pd.to_datetime(df2['Datetime'])"
   ]
  },
  {
   "cell_type": "code",
   "execution_count": 557,
   "id": "996450cb",
   "metadata": {},
   "outputs": [
    {
     "data": {
      "text/plain": [
       "0         01:00:00\n",
       "1         02:00:00\n",
       "2         03:00:00\n",
       "3         04:00:00\n",
       "4         05:00:00\n",
       "            ...   \n",
       "707870    20:00:00\n",
       "707871    21:00:00\n",
       "707872    22:00:00\n",
       "707873    23:00:00\n",
       "707874    00:00:00\n",
       "Name: Datetime, Length: 707875, dtype: object"
      ]
     },
     "execution_count": 557,
     "metadata": {},
     "output_type": "execute_result"
    }
   ],
   "source": [
    "df2['Datetime'].dt.time"
   ]
  },
  {
   "cell_type": "code",
   "execution_count": 558,
   "id": "c158860f",
   "metadata": {},
   "outputs": [
    {
     "data": {
      "text/plain": [
       "999.99"
      ]
     },
     "execution_count": 558,
     "metadata": {},
     "output_type": "execute_result"
    }
   ],
   "source": [
    "df2[df2['City']== 'Gurugram']['PM2.5'].max()"
   ]
  },
  {
   "cell_type": "code",
   "execution_count": 559,
   "id": "5a920983",
   "metadata": {},
   "outputs": [
    {
     "data": {
      "text/html": [
       "<div>\n",
       "<style scoped>\n",
       "    .dataframe tbody tr th:only-of-type {\n",
       "        vertical-align: middle;\n",
       "    }\n",
       "\n",
       "    .dataframe tbody tr th {\n",
       "        vertical-align: top;\n",
       "    }\n",
       "\n",
       "    .dataframe thead th {\n",
       "        text-align: right;\n",
       "    }\n",
       "</style>\n",
       "<table border=\"1\" class=\"dataframe\">\n",
       "  <thead>\n",
       "    <tr style=\"text-align: right;\">\n",
       "      <th></th>\n",
       "      <th>City</th>\n",
       "      <th>Datetime</th>\n",
       "      <th>PM2.5</th>\n",
       "      <th>PM10</th>\n",
       "      <th>NO</th>\n",
       "      <th>NO2</th>\n",
       "      <th>NOx</th>\n",
       "      <th>NH3</th>\n",
       "      <th>CO</th>\n",
       "      <th>SO2</th>\n",
       "      <th>O3</th>\n",
       "      <th>Benzene</th>\n",
       "      <th>Toluene</th>\n",
       "      <th>Xylene</th>\n",
       "      <th>AQI</th>\n",
       "      <th>AQI_Bucket</th>\n",
       "    </tr>\n",
       "  </thead>\n",
       "  <tbody>\n",
       "    <tr>\n",
       "      <th>0</th>\n",
       "      <td>Ahmedabad</td>\n",
       "      <td>2015-01-01 01:00:00</td>\n",
       "      <td>NaN</td>\n",
       "      <td>NaN</td>\n",
       "      <td>1.00</td>\n",
       "      <td>40.01</td>\n",
       "      <td>36.37</td>\n",
       "      <td>NaN</td>\n",
       "      <td>1.00</td>\n",
       "      <td>122.07</td>\n",
       "      <td>NaN</td>\n",
       "      <td>0.0</td>\n",
       "      <td>0.0</td>\n",
       "      <td>0.0</td>\n",
       "      <td>NaN</td>\n",
       "      <td>NaN</td>\n",
       "    </tr>\n",
       "    <tr>\n",
       "      <th>1</th>\n",
       "      <td>Ahmedabad</td>\n",
       "      <td>2015-01-01 02:00:00</td>\n",
       "      <td>NaN</td>\n",
       "      <td>NaN</td>\n",
       "      <td>0.02</td>\n",
       "      <td>27.75</td>\n",
       "      <td>19.73</td>\n",
       "      <td>NaN</td>\n",
       "      <td>0.02</td>\n",
       "      <td>85.90</td>\n",
       "      <td>NaN</td>\n",
       "      <td>0.0</td>\n",
       "      <td>0.0</td>\n",
       "      <td>0.0</td>\n",
       "      <td>NaN</td>\n",
       "      <td>NaN</td>\n",
       "    </tr>\n",
       "    <tr>\n",
       "      <th>2</th>\n",
       "      <td>Ahmedabad</td>\n",
       "      <td>2015-01-01 03:00:00</td>\n",
       "      <td>NaN</td>\n",
       "      <td>NaN</td>\n",
       "      <td>0.08</td>\n",
       "      <td>19.32</td>\n",
       "      <td>11.08</td>\n",
       "      <td>NaN</td>\n",
       "      <td>0.08</td>\n",
       "      <td>52.83</td>\n",
       "      <td>NaN</td>\n",
       "      <td>0.0</td>\n",
       "      <td>0.0</td>\n",
       "      <td>0.0</td>\n",
       "      <td>NaN</td>\n",
       "      <td>NaN</td>\n",
       "    </tr>\n",
       "    <tr>\n",
       "      <th>3</th>\n",
       "      <td>Ahmedabad</td>\n",
       "      <td>2015-01-01 04:00:00</td>\n",
       "      <td>NaN</td>\n",
       "      <td>NaN</td>\n",
       "      <td>0.30</td>\n",
       "      <td>16.45</td>\n",
       "      <td>9.20</td>\n",
       "      <td>NaN</td>\n",
       "      <td>0.30</td>\n",
       "      <td>39.53</td>\n",
       "      <td>153.58</td>\n",
       "      <td>0.0</td>\n",
       "      <td>0.0</td>\n",
       "      <td>0.0</td>\n",
       "      <td>NaN</td>\n",
       "      <td>NaN</td>\n",
       "    </tr>\n",
       "    <tr>\n",
       "      <th>4</th>\n",
       "      <td>Ahmedabad</td>\n",
       "      <td>2015-01-01 05:00:00</td>\n",
       "      <td>NaN</td>\n",
       "      <td>NaN</td>\n",
       "      <td>0.12</td>\n",
       "      <td>14.90</td>\n",
       "      <td>7.85</td>\n",
       "      <td>NaN</td>\n",
       "      <td>0.12</td>\n",
       "      <td>32.63</td>\n",
       "      <td>NaN</td>\n",
       "      <td>0.0</td>\n",
       "      <td>0.0</td>\n",
       "      <td>0.0</td>\n",
       "      <td>NaN</td>\n",
       "      <td>NaN</td>\n",
       "    </tr>\n",
       "  </tbody>\n",
       "</table>\n",
       "</div>"
      ],
      "text/plain": [
       "        City            Datetime  PM2.5  PM10    NO    NO2    NOx  NH3    CO  \\\n",
       "0  Ahmedabad 2015-01-01 01:00:00    NaN   NaN  1.00  40.01  36.37  NaN  1.00   \n",
       "1  Ahmedabad 2015-01-01 02:00:00    NaN   NaN  0.02  27.75  19.73  NaN  0.02   \n",
       "2  Ahmedabad 2015-01-01 03:00:00    NaN   NaN  0.08  19.32  11.08  NaN  0.08   \n",
       "3  Ahmedabad 2015-01-01 04:00:00    NaN   NaN  0.30  16.45   9.20  NaN  0.30   \n",
       "4  Ahmedabad 2015-01-01 05:00:00    NaN   NaN  0.12  14.90   7.85  NaN  0.12   \n",
       "\n",
       "      SO2      O3  Benzene  Toluene  Xylene  AQI AQI_Bucket  \n",
       "0  122.07     NaN      0.0      0.0     0.0  NaN        NaN  \n",
       "1   85.90     NaN      0.0      0.0     0.0  NaN        NaN  \n",
       "2   52.83     NaN      0.0      0.0     0.0  NaN        NaN  \n",
       "3   39.53  153.58      0.0      0.0     0.0  NaN        NaN  \n",
       "4   32.63     NaN      0.0      0.0     0.0  NaN        NaN  "
      ]
     },
     "execution_count": 559,
     "metadata": {},
     "output_type": "execute_result"
    }
   ],
   "source": [
    "df2.head()"
   ]
  },
  {
   "cell_type": "code",
   "execution_count": 560,
   "id": "d8fec0b5",
   "metadata": {},
   "outputs": [
    {
     "name": "stderr",
     "output_type": "stream",
     "text": [
      "C:\\Users\\ASUS\\AppData\\Local\\Temp\\ipykernel_8940\\4104319809.py:1: UserWarning: Boolean Series key will be reindexed to match DataFrame index.\n",
      "  df2[df2['PM2.5'] == df2['PM2.5'].max()][df2['City']== 'Gurugram']['AQI'].max()\n"
     ]
    },
    {
     "data": {
      "text/plain": [
       "966.0"
      ]
     },
     "execution_count": 560,
     "metadata": {},
     "output_type": "execute_result"
    }
   ],
   "source": [
    "df2[df2['PM2.5'] == df2['PM2.5'].max()][df2['City']== 'Gurugram']['AQI'].max()"
   ]
  },
  {
   "cell_type": "markdown",
   "id": "d353e500",
   "metadata": {},
   "source": [
    "#### Loading the third dataset"
   ]
  },
  {
   "cell_type": "code",
   "execution_count": 561,
   "id": "7591b947",
   "metadata": {},
   "outputs": [
    {
     "data": {
      "text/html": [
       "<div>\n",
       "<style scoped>\n",
       "    .dataframe tbody tr th:only-of-type {\n",
       "        vertical-align: middle;\n",
       "    }\n",
       "\n",
       "    .dataframe tbody tr th {\n",
       "        vertical-align: top;\n",
       "    }\n",
       "\n",
       "    .dataframe thead th {\n",
       "        text-align: right;\n",
       "    }\n",
       "</style>\n",
       "<table border=\"1\" class=\"dataframe\">\n",
       "  <thead>\n",
       "    <tr style=\"text-align: right;\">\n",
       "      <th></th>\n",
       "      <th>City</th>\n",
       "      <th>Lat</th>\n",
       "      <th>Long</th>\n",
       "      <th>country</th>\n",
       "      <th>iso2</th>\n",
       "      <th>State</th>\n",
       "    </tr>\n",
       "  </thead>\n",
       "  <tbody>\n",
       "    <tr>\n",
       "      <th>0</th>\n",
       "      <td>Abohar</td>\n",
       "      <td>30.144533</td>\n",
       "      <td>74.195520</td>\n",
       "      <td>India</td>\n",
       "      <td>IN</td>\n",
       "      <td>Punjab</td>\n",
       "    </tr>\n",
       "    <tr>\n",
       "      <th>1</th>\n",
       "      <td>Adilabad</td>\n",
       "      <td>19.400000</td>\n",
       "      <td>78.310000</td>\n",
       "      <td>India</td>\n",
       "      <td>IN</td>\n",
       "      <td>Telangana</td>\n",
       "    </tr>\n",
       "    <tr>\n",
       "      <th>2</th>\n",
       "      <td>Agartala</td>\n",
       "      <td>23.836049</td>\n",
       "      <td>91.279386</td>\n",
       "      <td>India</td>\n",
       "      <td>IN</td>\n",
       "      <td>Tripura</td>\n",
       "    </tr>\n",
       "    <tr>\n",
       "      <th>3</th>\n",
       "      <td>Agra</td>\n",
       "      <td>27.187935</td>\n",
       "      <td>78.003944</td>\n",
       "      <td>India</td>\n",
       "      <td>IN</td>\n",
       "      <td>Uttar Pradesh</td>\n",
       "    </tr>\n",
       "    <tr>\n",
       "      <th>4</th>\n",
       "      <td>Ahmadnagar</td>\n",
       "      <td>19.094571</td>\n",
       "      <td>74.738432</td>\n",
       "      <td>India</td>\n",
       "      <td>IN</td>\n",
       "      <td>Maharashtra</td>\n",
       "    </tr>\n",
       "  </tbody>\n",
       "</table>\n",
       "</div>"
      ],
      "text/plain": [
       "         City        Lat       Long country iso2          State\n",
       "0      Abohar  30.144533  74.195520   India   IN         Punjab\n",
       "1    Adilabad  19.400000  78.310000   India   IN      Telangana\n",
       "2    Agartala  23.836049  91.279386   India   IN        Tripura\n",
       "3        Agra  27.187935  78.003944   India   IN  Uttar Pradesh\n",
       "4  Ahmadnagar  19.094571  74.738432   India   IN    Maharashtra"
      ]
     },
     "execution_count": 561,
     "metadata": {},
     "output_type": "execute_result"
    }
   ],
   "source": [
    "df3 = pd.read_csv('Indian Cities Database.csv')\n",
    "df3.head()"
   ]
  },
  {
   "cell_type": "code",
   "execution_count": 562,
   "id": "63d4996a",
   "metadata": {},
   "outputs": [
    {
     "data": {
      "text/plain": [
       "(213, 6)"
      ]
     },
     "execution_count": 562,
     "metadata": {},
     "output_type": "execute_result"
    }
   ],
   "source": [
    "df3.shape"
   ]
  },
  {
   "cell_type": "code",
   "execution_count": 563,
   "id": "0cb1080f",
   "metadata": {},
   "outputs": [
    {
     "data": {
      "text/plain": [
       "State\n",
       "Andaman and Nicobar Islands     1\n",
       "Andhra Pradesh                 15\n",
       "Arunachal Pradesh               1\n",
       "Assam                           6\n",
       "Bihar                           6\n",
       "Chandigarh                      1\n",
       "Chhattisgarh                    3\n",
       "Dadra and Nagar Haveli          1\n",
       "Daman and Diu                   2\n",
       "Delhi                           2\n",
       "Goa                             1\n",
       "Gujarat                         9\n",
       "Haryana                        11\n",
       "Himachal Pradesh                1\n",
       "Jammu and Kashmir               4\n",
       "Jharkhand                       4\n",
       "Karnataka                      15\n",
       "Kerala                          5\n",
       "Lakshadweep                     1\n",
       "Madhya Pradesh                  7\n",
       "Maharashtra                    18\n",
       "Manipur                         1\n",
       "Meghalaya                       1\n",
       "Mizoram                         1\n",
       "Nagaland                        1\n",
       "Odisha                          8\n",
       "Puducherry                      1\n",
       "Punjab                          6\n",
       "Rajasthan                      13\n",
       "Sikkim                          1\n",
       "Tamil Nadu                     18\n",
       "Telangana                       9\n",
       "Tripura                         1\n",
       "Uttar Pradesh                  28\n",
       "Uttarakhand                     1\n",
       "West Bengal                     9\n",
       "Name: City, dtype: int64"
      ]
     },
     "execution_count": 563,
     "metadata": {},
     "output_type": "execute_result"
    }
   ],
   "source": [
    "df3.groupby(['State'])['City'].count()"
   ]
  },
  {
   "cell_type": "code",
   "execution_count": 564,
   "id": "314fada6",
   "metadata": {},
   "outputs": [
    {
     "data": {
      "text/plain": [
       "28"
      ]
     },
     "execution_count": 564,
     "metadata": {},
     "output_type": "execute_result"
    }
   ],
   "source": [
    "df3.groupby(['State'])['City'].count().max()"
   ]
  },
  {
   "cell_type": "code",
   "execution_count": 565,
   "id": "0ce6c03d",
   "metadata": {},
   "outputs": [
    {
     "data": {
      "text/plain": [
       "'Uttar Pradesh'"
      ]
     },
     "execution_count": 565,
     "metadata": {},
     "output_type": "execute_result"
    }
   ],
   "source": [
    "df3.groupby(['State'])['City'].count().idxmax()"
   ]
  },
  {
   "cell_type": "markdown",
   "id": "b0f652a7",
   "metadata": {},
   "source": [
    "#### Loading the fourth dataset"
   ]
  },
  {
   "cell_type": "code",
   "execution_count": 566,
   "id": "b7992c10",
   "metadata": {},
   "outputs": [
    {
     "data": {
      "text/html": [
       "<div>\n",
       "<style scoped>\n",
       "    .dataframe tbody tr th:only-of-type {\n",
       "        vertical-align: middle;\n",
       "    }\n",
       "\n",
       "    .dataframe tbody tr th {\n",
       "        vertical-align: top;\n",
       "    }\n",
       "\n",
       "    .dataframe thead th {\n",
       "        text-align: right;\n",
       "    }\n",
       "</style>\n",
       "<table border=\"1\" class=\"dataframe\">\n",
       "  <thead>\n",
       "    <tr style=\"text-align: right;\">\n",
       "      <th></th>\n",
       "      <th>StationId</th>\n",
       "      <th>Date</th>\n",
       "      <th>PM2.5</th>\n",
       "      <th>PM10</th>\n",
       "      <th>NO</th>\n",
       "      <th>NO2</th>\n",
       "      <th>NOx</th>\n",
       "      <th>NH3</th>\n",
       "      <th>CO</th>\n",
       "      <th>SO2</th>\n",
       "      <th>O3</th>\n",
       "      <th>Benzene</th>\n",
       "      <th>Toluene</th>\n",
       "      <th>Xylene</th>\n",
       "      <th>AQI</th>\n",
       "      <th>AQI_Bucket</th>\n",
       "    </tr>\n",
       "  </thead>\n",
       "  <tbody>\n",
       "    <tr>\n",
       "      <th>0</th>\n",
       "      <td>AP001</td>\n",
       "      <td>2017-11-24</td>\n",
       "      <td>71.36</td>\n",
       "      <td>115.75</td>\n",
       "      <td>1.75</td>\n",
       "      <td>20.65</td>\n",
       "      <td>12.40</td>\n",
       "      <td>12.19</td>\n",
       "      <td>0.10</td>\n",
       "      <td>10.76</td>\n",
       "      <td>109.26</td>\n",
       "      <td>0.17</td>\n",
       "      <td>5.92</td>\n",
       "      <td>0.10</td>\n",
       "      <td>NaN</td>\n",
       "      <td>NaN</td>\n",
       "    </tr>\n",
       "    <tr>\n",
       "      <th>1</th>\n",
       "      <td>AP001</td>\n",
       "      <td>2017-11-25</td>\n",
       "      <td>81.40</td>\n",
       "      <td>124.50</td>\n",
       "      <td>1.44</td>\n",
       "      <td>20.50</td>\n",
       "      <td>12.08</td>\n",
       "      <td>10.72</td>\n",
       "      <td>0.12</td>\n",
       "      <td>15.24</td>\n",
       "      <td>127.09</td>\n",
       "      <td>0.20</td>\n",
       "      <td>6.50</td>\n",
       "      <td>0.06</td>\n",
       "      <td>184.0</td>\n",
       "      <td>Moderate</td>\n",
       "    </tr>\n",
       "    <tr>\n",
       "      <th>2</th>\n",
       "      <td>AP001</td>\n",
       "      <td>2017-11-26</td>\n",
       "      <td>78.32</td>\n",
       "      <td>129.06</td>\n",
       "      <td>1.26</td>\n",
       "      <td>26.00</td>\n",
       "      <td>14.85</td>\n",
       "      <td>10.28</td>\n",
       "      <td>0.14</td>\n",
       "      <td>26.96</td>\n",
       "      <td>117.44</td>\n",
       "      <td>0.22</td>\n",
       "      <td>7.95</td>\n",
       "      <td>0.08</td>\n",
       "      <td>197.0</td>\n",
       "      <td>Moderate</td>\n",
       "    </tr>\n",
       "    <tr>\n",
       "      <th>3</th>\n",
       "      <td>AP001</td>\n",
       "      <td>2017-11-27</td>\n",
       "      <td>88.76</td>\n",
       "      <td>135.32</td>\n",
       "      <td>6.60</td>\n",
       "      <td>30.85</td>\n",
       "      <td>21.77</td>\n",
       "      <td>12.91</td>\n",
       "      <td>0.11</td>\n",
       "      <td>33.59</td>\n",
       "      <td>111.81</td>\n",
       "      <td>0.29</td>\n",
       "      <td>7.63</td>\n",
       "      <td>0.12</td>\n",
       "      <td>198.0</td>\n",
       "      <td>Moderate</td>\n",
       "    </tr>\n",
       "    <tr>\n",
       "      <th>4</th>\n",
       "      <td>AP001</td>\n",
       "      <td>2017-11-28</td>\n",
       "      <td>64.18</td>\n",
       "      <td>104.09</td>\n",
       "      <td>2.56</td>\n",
       "      <td>28.07</td>\n",
       "      <td>17.01</td>\n",
       "      <td>11.42</td>\n",
       "      <td>0.09</td>\n",
       "      <td>19.00</td>\n",
       "      <td>138.18</td>\n",
       "      <td>0.17</td>\n",
       "      <td>5.02</td>\n",
       "      <td>0.07</td>\n",
       "      <td>188.0</td>\n",
       "      <td>Moderate</td>\n",
       "    </tr>\n",
       "  </tbody>\n",
       "</table>\n",
       "</div>"
      ],
      "text/plain": [
       "  StationId        Date  PM2.5    PM10    NO    NO2    NOx    NH3    CO  \\\n",
       "0     AP001  2017-11-24  71.36  115.75  1.75  20.65  12.40  12.19  0.10   \n",
       "1     AP001  2017-11-25  81.40  124.50  1.44  20.50  12.08  10.72  0.12   \n",
       "2     AP001  2017-11-26  78.32  129.06  1.26  26.00  14.85  10.28  0.14   \n",
       "3     AP001  2017-11-27  88.76  135.32  6.60  30.85  21.77  12.91  0.11   \n",
       "4     AP001  2017-11-28  64.18  104.09  2.56  28.07  17.01  11.42  0.09   \n",
       "\n",
       "     SO2      O3  Benzene  Toluene  Xylene    AQI AQI_Bucket  \n",
       "0  10.76  109.26     0.17     5.92    0.10    NaN        NaN  \n",
       "1  15.24  127.09     0.20     6.50    0.06  184.0   Moderate  \n",
       "2  26.96  117.44     0.22     7.95    0.08  197.0   Moderate  \n",
       "3  33.59  111.81     0.29     7.63    0.12  198.0   Moderate  \n",
       "4  19.00  138.18     0.17     5.02    0.07  188.0   Moderate  "
      ]
     },
     "execution_count": 566,
     "metadata": {},
     "output_type": "execute_result"
    }
   ],
   "source": [
    "df4 = pd.read_csv('station_day.csv')\n",
    "df4.head()"
   ]
  },
  {
   "cell_type": "code",
   "execution_count": 567,
   "id": "6c8d5cee",
   "metadata": {},
   "outputs": [
    {
     "name": "stderr",
     "output_type": "stream",
     "text": [
      "C:\\Users\\ASUS\\AppData\\Local\\Temp\\ipykernel_8940\\1017332218.py:1: DtypeWarning: Columns (15) have mixed types. Specify dtype option on import or set low_memory=False.\n",
      "  df5 = pd.read_csv('station_hour.csv')\n"
     ]
    },
    {
     "data": {
      "text/html": [
       "<div>\n",
       "<style scoped>\n",
       "    .dataframe tbody tr th:only-of-type {\n",
       "        vertical-align: middle;\n",
       "    }\n",
       "\n",
       "    .dataframe tbody tr th {\n",
       "        vertical-align: top;\n",
       "    }\n",
       "\n",
       "    .dataframe thead th {\n",
       "        text-align: right;\n",
       "    }\n",
       "</style>\n",
       "<table border=\"1\" class=\"dataframe\">\n",
       "  <thead>\n",
       "    <tr style=\"text-align: right;\">\n",
       "      <th></th>\n",
       "      <th>StationId</th>\n",
       "      <th>Datetime</th>\n",
       "      <th>PM2.5</th>\n",
       "      <th>PM10</th>\n",
       "      <th>NO</th>\n",
       "      <th>NO2</th>\n",
       "      <th>NOx</th>\n",
       "      <th>NH3</th>\n",
       "      <th>CO</th>\n",
       "      <th>SO2</th>\n",
       "      <th>O3</th>\n",
       "      <th>Benzene</th>\n",
       "      <th>Toluene</th>\n",
       "      <th>Xylene</th>\n",
       "      <th>AQI</th>\n",
       "      <th>AQI_Bucket</th>\n",
       "    </tr>\n",
       "  </thead>\n",
       "  <tbody>\n",
       "    <tr>\n",
       "      <th>0</th>\n",
       "      <td>AP001</td>\n",
       "      <td>2017-11-24 17:00:00</td>\n",
       "      <td>60.50</td>\n",
       "      <td>98.00</td>\n",
       "      <td>2.35</td>\n",
       "      <td>30.80</td>\n",
       "      <td>18.25</td>\n",
       "      <td>8.50</td>\n",
       "      <td>0.1</td>\n",
       "      <td>11.85</td>\n",
       "      <td>126.40</td>\n",
       "      <td>0.1</td>\n",
       "      <td>6.10</td>\n",
       "      <td>0.10</td>\n",
       "      <td>NaN</td>\n",
       "      <td>NaN</td>\n",
       "    </tr>\n",
       "    <tr>\n",
       "      <th>1</th>\n",
       "      <td>AP001</td>\n",
       "      <td>2017-11-24 18:00:00</td>\n",
       "      <td>65.50</td>\n",
       "      <td>111.25</td>\n",
       "      <td>2.70</td>\n",
       "      <td>24.20</td>\n",
       "      <td>15.07</td>\n",
       "      <td>9.77</td>\n",
       "      <td>0.1</td>\n",
       "      <td>13.17</td>\n",
       "      <td>117.12</td>\n",
       "      <td>0.1</td>\n",
       "      <td>6.25</td>\n",
       "      <td>0.15</td>\n",
       "      <td>NaN</td>\n",
       "      <td>NaN</td>\n",
       "    </tr>\n",
       "    <tr>\n",
       "      <th>2</th>\n",
       "      <td>AP001</td>\n",
       "      <td>2017-11-24 19:00:00</td>\n",
       "      <td>80.00</td>\n",
       "      <td>132.00</td>\n",
       "      <td>2.10</td>\n",
       "      <td>25.18</td>\n",
       "      <td>15.15</td>\n",
       "      <td>12.02</td>\n",
       "      <td>0.1</td>\n",
       "      <td>12.08</td>\n",
       "      <td>98.98</td>\n",
       "      <td>0.2</td>\n",
       "      <td>5.98</td>\n",
       "      <td>0.18</td>\n",
       "      <td>NaN</td>\n",
       "      <td>NaN</td>\n",
       "    </tr>\n",
       "    <tr>\n",
       "      <th>3</th>\n",
       "      <td>AP001</td>\n",
       "      <td>2017-11-24 20:00:00</td>\n",
       "      <td>81.50</td>\n",
       "      <td>133.25</td>\n",
       "      <td>1.95</td>\n",
       "      <td>16.25</td>\n",
       "      <td>10.23</td>\n",
       "      <td>11.58</td>\n",
       "      <td>0.1</td>\n",
       "      <td>10.47</td>\n",
       "      <td>112.20</td>\n",
       "      <td>0.2</td>\n",
       "      <td>6.72</td>\n",
       "      <td>0.10</td>\n",
       "      <td>NaN</td>\n",
       "      <td>NaN</td>\n",
       "    </tr>\n",
       "    <tr>\n",
       "      <th>4</th>\n",
       "      <td>AP001</td>\n",
       "      <td>2017-11-24 21:00:00</td>\n",
       "      <td>75.25</td>\n",
       "      <td>116.00</td>\n",
       "      <td>1.43</td>\n",
       "      <td>17.48</td>\n",
       "      <td>10.43</td>\n",
       "      <td>12.03</td>\n",
       "      <td>0.1</td>\n",
       "      <td>9.12</td>\n",
       "      <td>106.35</td>\n",
       "      <td>0.2</td>\n",
       "      <td>5.75</td>\n",
       "      <td>0.08</td>\n",
       "      <td>NaN</td>\n",
       "      <td>NaN</td>\n",
       "    </tr>\n",
       "  </tbody>\n",
       "</table>\n",
       "</div>"
      ],
      "text/plain": [
       "  StationId             Datetime  PM2.5    PM10    NO    NO2    NOx    NH3  \\\n",
       "0     AP001  2017-11-24 17:00:00  60.50   98.00  2.35  30.80  18.25   8.50   \n",
       "1     AP001  2017-11-24 18:00:00  65.50  111.25  2.70  24.20  15.07   9.77   \n",
       "2     AP001  2017-11-24 19:00:00  80.00  132.00  2.10  25.18  15.15  12.02   \n",
       "3     AP001  2017-11-24 20:00:00  81.50  133.25  1.95  16.25  10.23  11.58   \n",
       "4     AP001  2017-11-24 21:00:00  75.25  116.00  1.43  17.48  10.43  12.03   \n",
       "\n",
       "    CO    SO2      O3  Benzene  Toluene  Xylene  AQI AQI_Bucket  \n",
       "0  0.1  11.85  126.40      0.1     6.10    0.10  NaN        NaN  \n",
       "1  0.1  13.17  117.12      0.1     6.25    0.15  NaN        NaN  \n",
       "2  0.1  12.08   98.98      0.2     5.98    0.18  NaN        NaN  \n",
       "3  0.1  10.47  112.20      0.2     6.72    0.10  NaN        NaN  \n",
       "4  0.1   9.12  106.35      0.2     5.75    0.08  NaN        NaN  "
      ]
     },
     "execution_count": 567,
     "metadata": {},
     "output_type": "execute_result"
    }
   ],
   "source": [
    "df5 = pd.read_csv('station_hour.csv')\n",
    "df5.head()"
   ]
  },
  {
   "cell_type": "code",
   "execution_count": 568,
   "id": "d9ceaefb",
   "metadata": {},
   "outputs": [
    {
     "data": {
      "text/plain": [
       "(2589083, 16)"
      ]
     },
     "execution_count": 568,
     "metadata": {},
     "output_type": "execute_result"
    }
   ],
   "source": [
    "df5.shape"
   ]
  },
  {
   "cell_type": "markdown",
   "id": "f0d60d86",
   "metadata": {},
   "source": [
    "#### Loading the fifth dataset"
   ]
  },
  {
   "cell_type": "code",
   "execution_count": 569,
   "id": "1b0f4a89",
   "metadata": {},
   "outputs": [
    {
     "data": {
      "text/plain": [
       "(110,)"
      ]
     },
     "execution_count": 569,
     "metadata": {},
     "output_type": "execute_result"
    }
   ],
   "source": [
    "df5.groupby(['StationId'])['StationId'].count().shape"
   ]
  },
  {
   "cell_type": "code",
   "execution_count": 570,
   "id": "7199bf7f",
   "metadata": {},
   "outputs": [
    {
     "data": {
      "text/plain": [
       "StationId           0\n",
       "Datetime            0\n",
       "PM2.5          647689\n",
       "PM10          1119252\n",
       "NO             553711\n",
       "NO2            528973\n",
       "NOx            490808\n",
       "NH3           1236618\n",
       "CO             499302\n",
       "SO2            742737\n",
       "O3             725973\n",
       "Benzene        861579\n",
       "Toluene       1042366\n",
       "Xylene        2075104\n",
       "AQI            570190\n",
       "AQI_Bucket     570190\n",
       "dtype: int64"
      ]
     },
     "execution_count": 570,
     "metadata": {},
     "output_type": "execute_result"
    }
   ],
   "source": [
    "df5.isnull().sum()"
   ]
  },
  {
   "cell_type": "code",
   "execution_count": 571,
   "id": "73f40127",
   "metadata": {},
   "outputs": [
    {
     "data": {
      "text/html": [
       "<div>\n",
       "<style scoped>\n",
       "    .dataframe tbody tr th:only-of-type {\n",
       "        vertical-align: middle;\n",
       "    }\n",
       "\n",
       "    .dataframe tbody tr th {\n",
       "        vertical-align: top;\n",
       "    }\n",
       "\n",
       "    .dataframe thead th {\n",
       "        text-align: right;\n",
       "    }\n",
       "</style>\n",
       "<table border=\"1\" class=\"dataframe\">\n",
       "  <thead>\n",
       "    <tr style=\"text-align: right;\">\n",
       "      <th></th>\n",
       "      <th>StationId</th>\n",
       "      <th>StationName</th>\n",
       "      <th>City</th>\n",
       "      <th>State</th>\n",
       "      <th>Status</th>\n",
       "    </tr>\n",
       "  </thead>\n",
       "  <tbody>\n",
       "    <tr>\n",
       "      <th>0</th>\n",
       "      <td>AP001</td>\n",
       "      <td>Secretariat, Amaravati - APPCB</td>\n",
       "      <td>Amaravati</td>\n",
       "      <td>Andhra Pradesh</td>\n",
       "      <td>Active</td>\n",
       "    </tr>\n",
       "    <tr>\n",
       "      <th>1</th>\n",
       "      <td>AP002</td>\n",
       "      <td>Anand Kala Kshetram, Rajamahendravaram - APPCB</td>\n",
       "      <td>Rajamahendravaram</td>\n",
       "      <td>Andhra Pradesh</td>\n",
       "      <td>NaN</td>\n",
       "    </tr>\n",
       "    <tr>\n",
       "      <th>2</th>\n",
       "      <td>AP003</td>\n",
       "      <td>Tirumala, Tirupati - APPCB</td>\n",
       "      <td>Tirupati</td>\n",
       "      <td>Andhra Pradesh</td>\n",
       "      <td>NaN</td>\n",
       "    </tr>\n",
       "    <tr>\n",
       "      <th>3</th>\n",
       "      <td>AP004</td>\n",
       "      <td>PWD Grounds, Vijayawada - APPCB</td>\n",
       "      <td>Vijayawada</td>\n",
       "      <td>Andhra Pradesh</td>\n",
       "      <td>NaN</td>\n",
       "    </tr>\n",
       "    <tr>\n",
       "      <th>4</th>\n",
       "      <td>AP005</td>\n",
       "      <td>GVM Corporation, Visakhapatnam - APPCB</td>\n",
       "      <td>Visakhapatnam</td>\n",
       "      <td>Andhra Pradesh</td>\n",
       "      <td>Active</td>\n",
       "    </tr>\n",
       "  </tbody>\n",
       "</table>\n",
       "</div>"
      ],
      "text/plain": [
       "  StationId                                     StationName  \\\n",
       "0     AP001                  Secretariat, Amaravati - APPCB   \n",
       "1     AP002  Anand Kala Kshetram, Rajamahendravaram - APPCB   \n",
       "2     AP003                      Tirumala, Tirupati - APPCB   \n",
       "3     AP004                 PWD Grounds, Vijayawada - APPCB   \n",
       "4     AP005          GVM Corporation, Visakhapatnam - APPCB   \n",
       "\n",
       "                City           State  Status  \n",
       "0          Amaravati  Andhra Pradesh  Active  \n",
       "1  Rajamahendravaram  Andhra Pradesh     NaN  \n",
       "2           Tirupati  Andhra Pradesh     NaN  \n",
       "3         Vijayawada  Andhra Pradesh     NaN  \n",
       "4      Visakhapatnam  Andhra Pradesh  Active  "
      ]
     },
     "execution_count": 571,
     "metadata": {},
     "output_type": "execute_result"
    }
   ],
   "source": [
    "df6 = pd.read_csv('stations.csv')\n",
    "df6.head()"
   ]
  },
  {
   "cell_type": "code",
   "execution_count": 572,
   "id": "f46768a3",
   "metadata": {},
   "outputs": [
    {
     "data": {
      "text/plain": [
       "(230, 5)"
      ]
     },
     "execution_count": 572,
     "metadata": {},
     "output_type": "execute_result"
    }
   ],
   "source": [
    "df6.shape"
   ]
  },
  {
   "cell_type": "code",
   "execution_count": 573,
   "id": "2a6c7941",
   "metadata": {},
   "outputs": [
    {
     "data": {
      "text/plain": [
       "State\n",
       "Andhra Pradesh     5\n",
       "Assam              1\n",
       "Bihar             10\n",
       "Chandigarh         1\n",
       "Delhi             38\n",
       "Gujarat            6\n",
       "Haryana           29\n",
       "Jharkhand          1\n",
       "Karnataka         20\n",
       "Kerala             8\n",
       "Madhya Pradesh    16\n",
       "Maharashtra       22\n",
       "Meghalaya          1\n",
       "Mizoram            1\n",
       "Odisha             2\n",
       "Punjab             8\n",
       "Rajasthan         10\n",
       "Tamil Nadu         5\n",
       "Telangana          6\n",
       "Uttar Pradesh     26\n",
       "West Bengal       14\n",
       "Name: StationId, dtype: int64"
      ]
     },
     "execution_count": 573,
     "metadata": {},
     "output_type": "execute_result"
    }
   ],
   "source": [
    "df6.groupby(['State'])['StationId'].count()"
   ]
  },
  {
   "cell_type": "code",
   "execution_count": 574,
   "id": "c3bbb02f",
   "metadata": {},
   "outputs": [
    {
     "data": {
      "text/plain": [
       "Active      131\n",
       "Inactive      2\n",
       "Name: Status, dtype: int64"
      ]
     },
     "execution_count": 574,
     "metadata": {},
     "output_type": "execute_result"
    }
   ],
   "source": [
    "df6['Status'].value_counts()"
   ]
  },
  {
   "cell_type": "code",
   "execution_count": 575,
   "id": "a9056fdb",
   "metadata": {},
   "outputs": [
    {
     "data": {
      "text/plain": [
       "38"
      ]
     },
     "execution_count": 575,
     "metadata": {},
     "output_type": "execute_result"
    }
   ],
   "source": [
    "df6.groupby(['State'])['StationId'].count().max()"
   ]
  },
  {
   "cell_type": "code",
   "execution_count": 576,
   "id": "95435a58",
   "metadata": {},
   "outputs": [
    {
     "data": {
      "text/plain": [
       "'Delhi'"
      ]
     },
     "execution_count": 576,
     "metadata": {},
     "output_type": "execute_result"
    }
   ],
   "source": [
    "df6.groupby(['State'])['StationId'].count().idxmax()"
   ]
  },
  {
   "cell_type": "code",
   "execution_count": 577,
   "id": "2845af3d",
   "metadata": {},
   "outputs": [],
   "source": [
    "data_active = df6[df6['Status']=='Active']"
   ]
  },
  {
   "cell_type": "code",
   "execution_count": 578,
   "id": "5baaacea",
   "metadata": {},
   "outputs": [
    {
     "data": {
      "text/plain": [
       "Delhi                 37\n",
       "Bengaluru             10\n",
       "Mumbai                10\n",
       "Kolkata                7\n",
       "Patna                  6\n",
       "Hyderabad              6\n",
       "Gurugram               4\n",
       "Faridabad              4\n",
       "Chennai                4\n",
       "Lucknow                4\n",
       "Jaipur                 3\n",
       "Thiruvananthapuram     2\n",
       "Bhopal                 1\n",
       "Sirsa                  1\n",
       "Sonipat                1\n",
       "Yamuna Nagar           1\n",
       "Jorapokhar             1\n",
       "Coimbatore             1\n",
       "Amritsar               1\n",
       "Shillong               1\n",
       "Aizawl                 1\n",
       "Panipat                1\n",
       "Brajrajnagar           1\n",
       "Talcher                1\n",
       "Rohtak                 1\n",
       "Amaravati              1\n",
       "Panchkula              1\n",
       "Visakhapatnam          1\n",
       "Guwahati               1\n",
       "Chandigarh             1\n",
       "Ahmedabad              1\n",
       "Ambala                 1\n",
       "Bahadurgarh            1\n",
       "Ballabgarh             1\n",
       "Bhiwani                1\n",
       "Dharuhera              1\n",
       "Fatehabad              1\n",
       "Hisar                  1\n",
       "Jind                   1\n",
       "Kaithal                1\n",
       "Karnal                 1\n",
       "Kurukshetra            1\n",
       "Mandikhera             1\n",
       "Manesar                1\n",
       "Narnaul                1\n",
       "Palwal                 1\n",
       "Name: City, dtype: int64"
      ]
     },
     "execution_count": 578,
     "metadata": {},
     "output_type": "execute_result"
    }
   ],
   "source": [
    "data_active['City'].value_counts()"
   ]
  },
  {
   "cell_type": "code",
   "execution_count": 579,
   "id": "e6db4d4f",
   "metadata": {},
   "outputs": [],
   "source": [
    "data_active = df6[df6['Status']=='Active']"
   ]
  },
  {
   "cell_type": "code",
   "execution_count": 580,
   "id": "b6318e71",
   "metadata": {},
   "outputs": [
    {
     "data": {
      "text/html": [
       "<div>\n",
       "<style scoped>\n",
       "    .dataframe tbody tr th:only-of-type {\n",
       "        vertical-align: middle;\n",
       "    }\n",
       "\n",
       "    .dataframe tbody tr th {\n",
       "        vertical-align: top;\n",
       "    }\n",
       "\n",
       "    .dataframe thead th {\n",
       "        text-align: right;\n",
       "    }\n",
       "</style>\n",
       "<table border=\"1\" class=\"dataframe\">\n",
       "  <thead>\n",
       "    <tr style=\"text-align: right;\">\n",
       "      <th></th>\n",
       "      <th>StationId</th>\n",
       "      <th>StationName</th>\n",
       "      <th>City</th>\n",
       "      <th>State</th>\n",
       "      <th>Status</th>\n",
       "    </tr>\n",
       "  </thead>\n",
       "  <tbody>\n",
       "    <tr>\n",
       "      <th>17</th>\n",
       "      <td>DL001</td>\n",
       "      <td>Alipur, Delhi - DPCC</td>\n",
       "      <td>Delhi</td>\n",
       "      <td>Delhi</td>\n",
       "      <td>Active</td>\n",
       "    </tr>\n",
       "    <tr>\n",
       "      <th>18</th>\n",
       "      <td>DL002</td>\n",
       "      <td>Anand Vihar, Delhi - DPCC</td>\n",
       "      <td>Delhi</td>\n",
       "      <td>Delhi</td>\n",
       "      <td>Active</td>\n",
       "    </tr>\n",
       "    <tr>\n",
       "      <th>19</th>\n",
       "      <td>DL003</td>\n",
       "      <td>Ashok Vihar, Delhi - DPCC</td>\n",
       "      <td>Delhi</td>\n",
       "      <td>Delhi</td>\n",
       "      <td>Active</td>\n",
       "    </tr>\n",
       "    <tr>\n",
       "      <th>20</th>\n",
       "      <td>DL004</td>\n",
       "      <td>Aya Nagar, Delhi - IMD</td>\n",
       "      <td>Delhi</td>\n",
       "      <td>Delhi</td>\n",
       "      <td>Active</td>\n",
       "    </tr>\n",
       "    <tr>\n",
       "      <th>21</th>\n",
       "      <td>DL005</td>\n",
       "      <td>Bawana, Delhi - DPCC</td>\n",
       "      <td>Delhi</td>\n",
       "      <td>Delhi</td>\n",
       "      <td>Active</td>\n",
       "    </tr>\n",
       "    <tr>\n",
       "      <th>23</th>\n",
       "      <td>DL007</td>\n",
       "      <td>CRRI Mathura Road, Delhi - IMD</td>\n",
       "      <td>Delhi</td>\n",
       "      <td>Delhi</td>\n",
       "      <td>Active</td>\n",
       "    </tr>\n",
       "    <tr>\n",
       "      <th>24</th>\n",
       "      <td>DL008</td>\n",
       "      <td>DTU, Delhi - CPCB</td>\n",
       "      <td>Delhi</td>\n",
       "      <td>Delhi</td>\n",
       "      <td>Active</td>\n",
       "    </tr>\n",
       "    <tr>\n",
       "      <th>25</th>\n",
       "      <td>DL009</td>\n",
       "      <td>Dr. Karni Singh Shooting Range, Delhi - DPCC</td>\n",
       "      <td>Delhi</td>\n",
       "      <td>Delhi</td>\n",
       "      <td>Active</td>\n",
       "    </tr>\n",
       "    <tr>\n",
       "      <th>26</th>\n",
       "      <td>DL010</td>\n",
       "      <td>Dwarka-Sector 8, Delhi - DPCC</td>\n",
       "      <td>Delhi</td>\n",
       "      <td>Delhi</td>\n",
       "      <td>Active</td>\n",
       "    </tr>\n",
       "    <tr>\n",
       "      <th>27</th>\n",
       "      <td>DL011</td>\n",
       "      <td>East Arjun Nagar, Delhi - CPCB</td>\n",
       "      <td>Delhi</td>\n",
       "      <td>Delhi</td>\n",
       "      <td>Active</td>\n",
       "    </tr>\n",
       "    <tr>\n",
       "      <th>28</th>\n",
       "      <td>DL012</td>\n",
       "      <td>IGI Airport (T3), Delhi - IMD</td>\n",
       "      <td>Delhi</td>\n",
       "      <td>Delhi</td>\n",
       "      <td>Active</td>\n",
       "    </tr>\n",
       "    <tr>\n",
       "      <th>29</th>\n",
       "      <td>DL013</td>\n",
       "      <td>IHBAS, Dilshad Garden, Delhi - CPCB</td>\n",
       "      <td>Delhi</td>\n",
       "      <td>Delhi</td>\n",
       "      <td>Active</td>\n",
       "    </tr>\n",
       "    <tr>\n",
       "      <th>30</th>\n",
       "      <td>DL014</td>\n",
       "      <td>ITO, Delhi - CPCB</td>\n",
       "      <td>Delhi</td>\n",
       "      <td>Delhi</td>\n",
       "      <td>Active</td>\n",
       "    </tr>\n",
       "    <tr>\n",
       "      <th>31</th>\n",
       "      <td>DL015</td>\n",
       "      <td>Jahangirpuri, Delhi - DPCC</td>\n",
       "      <td>Delhi</td>\n",
       "      <td>Delhi</td>\n",
       "      <td>Active</td>\n",
       "    </tr>\n",
       "    <tr>\n",
       "      <th>32</th>\n",
       "      <td>DL016</td>\n",
       "      <td>Jawaharlal Nehru Stadium, Delhi - DPCC</td>\n",
       "      <td>Delhi</td>\n",
       "      <td>Delhi</td>\n",
       "      <td>Active</td>\n",
       "    </tr>\n",
       "    <tr>\n",
       "      <th>33</th>\n",
       "      <td>DL017</td>\n",
       "      <td>Lodhi Road, Delhi - IMD</td>\n",
       "      <td>Delhi</td>\n",
       "      <td>Delhi</td>\n",
       "      <td>Active</td>\n",
       "    </tr>\n",
       "    <tr>\n",
       "      <th>34</th>\n",
       "      <td>DL018</td>\n",
       "      <td>Major Dhyan Chand National Stadium, Delhi - DPCC</td>\n",
       "      <td>Delhi</td>\n",
       "      <td>Delhi</td>\n",
       "      <td>Active</td>\n",
       "    </tr>\n",
       "    <tr>\n",
       "      <th>35</th>\n",
       "      <td>DL019</td>\n",
       "      <td>Mandir Marg, Delhi - DPCC</td>\n",
       "      <td>Delhi</td>\n",
       "      <td>Delhi</td>\n",
       "      <td>Active</td>\n",
       "    </tr>\n",
       "    <tr>\n",
       "      <th>36</th>\n",
       "      <td>DL020</td>\n",
       "      <td>Mundka, Delhi - DPCC</td>\n",
       "      <td>Delhi</td>\n",
       "      <td>Delhi</td>\n",
       "      <td>Active</td>\n",
       "    </tr>\n",
       "    <tr>\n",
       "      <th>37</th>\n",
       "      <td>DL021</td>\n",
       "      <td>NSIT Dwarka, Delhi - CPCB</td>\n",
       "      <td>Delhi</td>\n",
       "      <td>Delhi</td>\n",
       "      <td>Active</td>\n",
       "    </tr>\n",
       "    <tr>\n",
       "      <th>38</th>\n",
       "      <td>DL022</td>\n",
       "      <td>Najafgarh, Delhi - DPCC</td>\n",
       "      <td>Delhi</td>\n",
       "      <td>Delhi</td>\n",
       "      <td>Active</td>\n",
       "    </tr>\n",
       "    <tr>\n",
       "      <th>39</th>\n",
       "      <td>DL023</td>\n",
       "      <td>Narela, Delhi - DPCC</td>\n",
       "      <td>Delhi</td>\n",
       "      <td>Delhi</td>\n",
       "      <td>Active</td>\n",
       "    </tr>\n",
       "    <tr>\n",
       "      <th>40</th>\n",
       "      <td>DL024</td>\n",
       "      <td>Nehru Nagar, Delhi - DPCC</td>\n",
       "      <td>Delhi</td>\n",
       "      <td>Delhi</td>\n",
       "      <td>Active</td>\n",
       "    </tr>\n",
       "    <tr>\n",
       "      <th>41</th>\n",
       "      <td>DL025</td>\n",
       "      <td>North Campus, DU, Delhi - IMD</td>\n",
       "      <td>Delhi</td>\n",
       "      <td>Delhi</td>\n",
       "      <td>Active</td>\n",
       "    </tr>\n",
       "    <tr>\n",
       "      <th>42</th>\n",
       "      <td>DL026</td>\n",
       "      <td>Okhla Phase-2, Delhi - DPCC</td>\n",
       "      <td>Delhi</td>\n",
       "      <td>Delhi</td>\n",
       "      <td>Active</td>\n",
       "    </tr>\n",
       "    <tr>\n",
       "      <th>43</th>\n",
       "      <td>DL027</td>\n",
       "      <td>Patparganj, Delhi - DPCC</td>\n",
       "      <td>Delhi</td>\n",
       "      <td>Delhi</td>\n",
       "      <td>Active</td>\n",
       "    </tr>\n",
       "    <tr>\n",
       "      <th>44</th>\n",
       "      <td>DL028</td>\n",
       "      <td>Punjabi Bagh, Delhi - DPCC</td>\n",
       "      <td>Delhi</td>\n",
       "      <td>Delhi</td>\n",
       "      <td>Active</td>\n",
       "    </tr>\n",
       "    <tr>\n",
       "      <th>45</th>\n",
       "      <td>DL029</td>\n",
       "      <td>Pusa, Delhi - DPCC</td>\n",
       "      <td>Delhi</td>\n",
       "      <td>Delhi</td>\n",
       "      <td>Active</td>\n",
       "    </tr>\n",
       "    <tr>\n",
       "      <th>46</th>\n",
       "      <td>DL030</td>\n",
       "      <td>Pusa, Delhi - IMD</td>\n",
       "      <td>Delhi</td>\n",
       "      <td>Delhi</td>\n",
       "      <td>Active</td>\n",
       "    </tr>\n",
       "    <tr>\n",
       "      <th>47</th>\n",
       "      <td>DL031</td>\n",
       "      <td>R K Puram, Delhi - DPCC</td>\n",
       "      <td>Delhi</td>\n",
       "      <td>Delhi</td>\n",
       "      <td>Active</td>\n",
       "    </tr>\n",
       "    <tr>\n",
       "      <th>48</th>\n",
       "      <td>DL032</td>\n",
       "      <td>Rohini, Delhi - DPCC</td>\n",
       "      <td>Delhi</td>\n",
       "      <td>Delhi</td>\n",
       "      <td>Active</td>\n",
       "    </tr>\n",
       "    <tr>\n",
       "      <th>49</th>\n",
       "      <td>DL033</td>\n",
       "      <td>Shadipur, Delhi - CPCB</td>\n",
       "      <td>Delhi</td>\n",
       "      <td>Delhi</td>\n",
       "      <td>Active</td>\n",
       "    </tr>\n",
       "    <tr>\n",
       "      <th>50</th>\n",
       "      <td>DL034</td>\n",
       "      <td>Sirifort, Delhi - CPCB</td>\n",
       "      <td>Delhi</td>\n",
       "      <td>Delhi</td>\n",
       "      <td>Active</td>\n",
       "    </tr>\n",
       "    <tr>\n",
       "      <th>51</th>\n",
       "      <td>DL035</td>\n",
       "      <td>Sonia Vihar, Delhi - DPCC</td>\n",
       "      <td>Delhi</td>\n",
       "      <td>Delhi</td>\n",
       "      <td>Active</td>\n",
       "    </tr>\n",
       "    <tr>\n",
       "      <th>52</th>\n",
       "      <td>DL036</td>\n",
       "      <td>Sri Aurobindo Marg, Delhi - DPCC</td>\n",
       "      <td>Delhi</td>\n",
       "      <td>Delhi</td>\n",
       "      <td>Active</td>\n",
       "    </tr>\n",
       "    <tr>\n",
       "      <th>53</th>\n",
       "      <td>DL037</td>\n",
       "      <td>Vivek Vihar, Delhi - DPCC</td>\n",
       "      <td>Delhi</td>\n",
       "      <td>Delhi</td>\n",
       "      <td>Active</td>\n",
       "    </tr>\n",
       "    <tr>\n",
       "      <th>54</th>\n",
       "      <td>DL038</td>\n",
       "      <td>Wazirpur, Delhi - DPCC</td>\n",
       "      <td>Delhi</td>\n",
       "      <td>Delhi</td>\n",
       "      <td>Active</td>\n",
       "    </tr>\n",
       "  </tbody>\n",
       "</table>\n",
       "</div>"
      ],
      "text/plain": [
       "   StationId                                       StationName   City  State  \\\n",
       "17     DL001                              Alipur, Delhi - DPCC  Delhi  Delhi   \n",
       "18     DL002                         Anand Vihar, Delhi - DPCC  Delhi  Delhi   \n",
       "19     DL003                         Ashok Vihar, Delhi - DPCC  Delhi  Delhi   \n",
       "20     DL004                            Aya Nagar, Delhi - IMD  Delhi  Delhi   \n",
       "21     DL005                              Bawana, Delhi - DPCC  Delhi  Delhi   \n",
       "23     DL007                    CRRI Mathura Road, Delhi - IMD  Delhi  Delhi   \n",
       "24     DL008                                 DTU, Delhi - CPCB  Delhi  Delhi   \n",
       "25     DL009      Dr. Karni Singh Shooting Range, Delhi - DPCC  Delhi  Delhi   \n",
       "26     DL010                     Dwarka-Sector 8, Delhi - DPCC  Delhi  Delhi   \n",
       "27     DL011                    East Arjun Nagar, Delhi - CPCB  Delhi  Delhi   \n",
       "28     DL012                     IGI Airport (T3), Delhi - IMD  Delhi  Delhi   \n",
       "29     DL013               IHBAS, Dilshad Garden, Delhi - CPCB  Delhi  Delhi   \n",
       "30     DL014                                 ITO, Delhi - CPCB  Delhi  Delhi   \n",
       "31     DL015                        Jahangirpuri, Delhi - DPCC  Delhi  Delhi   \n",
       "32     DL016            Jawaharlal Nehru Stadium, Delhi - DPCC  Delhi  Delhi   \n",
       "33     DL017                           Lodhi Road, Delhi - IMD  Delhi  Delhi   \n",
       "34     DL018  Major Dhyan Chand National Stadium, Delhi - DPCC  Delhi  Delhi   \n",
       "35     DL019                         Mandir Marg, Delhi - DPCC  Delhi  Delhi   \n",
       "36     DL020                              Mundka, Delhi - DPCC  Delhi  Delhi   \n",
       "37     DL021                         NSIT Dwarka, Delhi - CPCB  Delhi  Delhi   \n",
       "38     DL022                           Najafgarh, Delhi - DPCC  Delhi  Delhi   \n",
       "39     DL023                              Narela, Delhi - DPCC  Delhi  Delhi   \n",
       "40     DL024                         Nehru Nagar, Delhi - DPCC  Delhi  Delhi   \n",
       "41     DL025                     North Campus, DU, Delhi - IMD  Delhi  Delhi   \n",
       "42     DL026                       Okhla Phase-2, Delhi - DPCC  Delhi  Delhi   \n",
       "43     DL027                          Patparganj, Delhi - DPCC  Delhi  Delhi   \n",
       "44     DL028                        Punjabi Bagh, Delhi - DPCC  Delhi  Delhi   \n",
       "45     DL029                                Pusa, Delhi - DPCC  Delhi  Delhi   \n",
       "46     DL030                                 Pusa, Delhi - IMD  Delhi  Delhi   \n",
       "47     DL031                           R K Puram, Delhi - DPCC  Delhi  Delhi   \n",
       "48     DL032                              Rohini, Delhi - DPCC  Delhi  Delhi   \n",
       "49     DL033                            Shadipur, Delhi - CPCB  Delhi  Delhi   \n",
       "50     DL034                            Sirifort, Delhi - CPCB  Delhi  Delhi   \n",
       "51     DL035                         Sonia Vihar, Delhi - DPCC  Delhi  Delhi   \n",
       "52     DL036                  Sri Aurobindo Marg, Delhi - DPCC  Delhi  Delhi   \n",
       "53     DL037                         Vivek Vihar, Delhi - DPCC  Delhi  Delhi   \n",
       "54     DL038                            Wazirpur, Delhi - DPCC  Delhi  Delhi   \n",
       "\n",
       "    Status  \n",
       "17  Active  \n",
       "18  Active  \n",
       "19  Active  \n",
       "20  Active  \n",
       "21  Active  \n",
       "23  Active  \n",
       "24  Active  \n",
       "25  Active  \n",
       "26  Active  \n",
       "27  Active  \n",
       "28  Active  \n",
       "29  Active  \n",
       "30  Active  \n",
       "31  Active  \n",
       "32  Active  \n",
       "33  Active  \n",
       "34  Active  \n",
       "35  Active  \n",
       "36  Active  \n",
       "37  Active  \n",
       "38  Active  \n",
       "39  Active  \n",
       "40  Active  \n",
       "41  Active  \n",
       "42  Active  \n",
       "43  Active  \n",
       "44  Active  \n",
       "45  Active  \n",
       "46  Active  \n",
       "47  Active  \n",
       "48  Active  \n",
       "49  Active  \n",
       "50  Active  \n",
       "51  Active  \n",
       "52  Active  \n",
       "53  Active  \n",
       "54  Active  "
      ]
     },
     "execution_count": 580,
     "metadata": {},
     "output_type": "execute_result"
    }
   ],
   "source": [
    "data_active[data_active['City']=='Delhi']"
   ]
  },
  {
   "cell_type": "code",
   "execution_count": 581,
   "id": "4b3835e5",
   "metadata": {},
   "outputs": [],
   "source": [
    "list_active_stations = data_active[data_active['City']=='Delhi']['StationId'].values"
   ]
  },
  {
   "cell_type": "code",
   "execution_count": 582,
   "id": "659682af",
   "metadata": {},
   "outputs": [
    {
     "data": {
      "text/plain": [
       "array(['DL001', 'DL002', 'DL003', 'DL004', 'DL005', 'DL007', 'DL008',\n",
       "       'DL009', 'DL010', 'DL011', 'DL012', 'DL013', 'DL014', 'DL015',\n",
       "       'DL016', 'DL017', 'DL018', 'DL019', 'DL020', 'DL021', 'DL022',\n",
       "       'DL023', 'DL024', 'DL025', 'DL026', 'DL027', 'DL028', 'DL029',\n",
       "       'DL030', 'DL031', 'DL032', 'DL033', 'DL034', 'DL035', 'DL036',\n",
       "       'DL037', 'DL038'], dtype=object)"
      ]
     },
     "execution_count": 582,
     "metadata": {},
     "output_type": "execute_result"
    }
   ],
   "source": [
    "list_active_stations"
   ]
  },
  {
   "cell_type": "markdown",
   "id": "87d3ce71",
   "metadata": {},
   "source": [
    "#### Loading the sixth dataset"
   ]
  },
  {
   "cell_type": "code",
   "execution_count": 583,
   "id": "ddaef0bd",
   "metadata": {},
   "outputs": [
    {
     "name": "stderr",
     "output_type": "stream",
     "text": [
      "C:\\Users\\ASUS\\AppData\\Local\\Temp\\ipykernel_8940\\1017332218.py:1: DtypeWarning: Columns (15) have mixed types. Specify dtype option on import or set low_memory=False.\n",
      "  df5 = pd.read_csv('station_hour.csv')\n"
     ]
    },
    {
     "data": {
      "text/html": [
       "<div>\n",
       "<style scoped>\n",
       "    .dataframe tbody tr th:only-of-type {\n",
       "        vertical-align: middle;\n",
       "    }\n",
       "\n",
       "    .dataframe tbody tr th {\n",
       "        vertical-align: top;\n",
       "    }\n",
       "\n",
       "    .dataframe thead th {\n",
       "        text-align: right;\n",
       "    }\n",
       "</style>\n",
       "<table border=\"1\" class=\"dataframe\">\n",
       "  <thead>\n",
       "    <tr style=\"text-align: right;\">\n",
       "      <th></th>\n",
       "      <th>StationId</th>\n",
       "      <th>Datetime</th>\n",
       "      <th>PM2.5</th>\n",
       "      <th>PM10</th>\n",
       "      <th>NO</th>\n",
       "      <th>NO2</th>\n",
       "      <th>NOx</th>\n",
       "      <th>NH3</th>\n",
       "      <th>CO</th>\n",
       "      <th>SO2</th>\n",
       "      <th>O3</th>\n",
       "      <th>Benzene</th>\n",
       "      <th>Toluene</th>\n",
       "      <th>Xylene</th>\n",
       "      <th>AQI</th>\n",
       "      <th>AQI_Bucket</th>\n",
       "    </tr>\n",
       "  </thead>\n",
       "  <tbody>\n",
       "    <tr>\n",
       "      <th>0</th>\n",
       "      <td>AP001</td>\n",
       "      <td>2017-11-24 17:00:00</td>\n",
       "      <td>60.50</td>\n",
       "      <td>98.00</td>\n",
       "      <td>2.35</td>\n",
       "      <td>30.80</td>\n",
       "      <td>18.25</td>\n",
       "      <td>8.50</td>\n",
       "      <td>0.1</td>\n",
       "      <td>11.85</td>\n",
       "      <td>126.40</td>\n",
       "      <td>0.1</td>\n",
       "      <td>6.10</td>\n",
       "      <td>0.10</td>\n",
       "      <td>NaN</td>\n",
       "      <td>NaN</td>\n",
       "    </tr>\n",
       "    <tr>\n",
       "      <th>1</th>\n",
       "      <td>AP001</td>\n",
       "      <td>2017-11-24 18:00:00</td>\n",
       "      <td>65.50</td>\n",
       "      <td>111.25</td>\n",
       "      <td>2.70</td>\n",
       "      <td>24.20</td>\n",
       "      <td>15.07</td>\n",
       "      <td>9.77</td>\n",
       "      <td>0.1</td>\n",
       "      <td>13.17</td>\n",
       "      <td>117.12</td>\n",
       "      <td>0.1</td>\n",
       "      <td>6.25</td>\n",
       "      <td>0.15</td>\n",
       "      <td>NaN</td>\n",
       "      <td>NaN</td>\n",
       "    </tr>\n",
       "    <tr>\n",
       "      <th>2</th>\n",
       "      <td>AP001</td>\n",
       "      <td>2017-11-24 19:00:00</td>\n",
       "      <td>80.00</td>\n",
       "      <td>132.00</td>\n",
       "      <td>2.10</td>\n",
       "      <td>25.18</td>\n",
       "      <td>15.15</td>\n",
       "      <td>12.02</td>\n",
       "      <td>0.1</td>\n",
       "      <td>12.08</td>\n",
       "      <td>98.98</td>\n",
       "      <td>0.2</td>\n",
       "      <td>5.98</td>\n",
       "      <td>0.18</td>\n",
       "      <td>NaN</td>\n",
       "      <td>NaN</td>\n",
       "    </tr>\n",
       "    <tr>\n",
       "      <th>3</th>\n",
       "      <td>AP001</td>\n",
       "      <td>2017-11-24 20:00:00</td>\n",
       "      <td>81.50</td>\n",
       "      <td>133.25</td>\n",
       "      <td>1.95</td>\n",
       "      <td>16.25</td>\n",
       "      <td>10.23</td>\n",
       "      <td>11.58</td>\n",
       "      <td>0.1</td>\n",
       "      <td>10.47</td>\n",
       "      <td>112.20</td>\n",
       "      <td>0.2</td>\n",
       "      <td>6.72</td>\n",
       "      <td>0.10</td>\n",
       "      <td>NaN</td>\n",
       "      <td>NaN</td>\n",
       "    </tr>\n",
       "    <tr>\n",
       "      <th>4</th>\n",
       "      <td>AP001</td>\n",
       "      <td>2017-11-24 21:00:00</td>\n",
       "      <td>75.25</td>\n",
       "      <td>116.00</td>\n",
       "      <td>1.43</td>\n",
       "      <td>17.48</td>\n",
       "      <td>10.43</td>\n",
       "      <td>12.03</td>\n",
       "      <td>0.1</td>\n",
       "      <td>9.12</td>\n",
       "      <td>106.35</td>\n",
       "      <td>0.2</td>\n",
       "      <td>5.75</td>\n",
       "      <td>0.08</td>\n",
       "      <td>NaN</td>\n",
       "      <td>NaN</td>\n",
       "    </tr>\n",
       "  </tbody>\n",
       "</table>\n",
       "</div>"
      ],
      "text/plain": [
       "  StationId             Datetime  PM2.5    PM10    NO    NO2    NOx    NH3  \\\n",
       "0     AP001  2017-11-24 17:00:00  60.50   98.00  2.35  30.80  18.25   8.50   \n",
       "1     AP001  2017-11-24 18:00:00  65.50  111.25  2.70  24.20  15.07   9.77   \n",
       "2     AP001  2017-11-24 19:00:00  80.00  132.00  2.10  25.18  15.15  12.02   \n",
       "3     AP001  2017-11-24 20:00:00  81.50  133.25  1.95  16.25  10.23  11.58   \n",
       "4     AP001  2017-11-24 21:00:00  75.25  116.00  1.43  17.48  10.43  12.03   \n",
       "\n",
       "    CO    SO2      O3  Benzene  Toluene  Xylene  AQI AQI_Bucket  \n",
       "0  0.1  11.85  126.40      0.1     6.10    0.10  NaN        NaN  \n",
       "1  0.1  13.17  117.12      0.1     6.25    0.15  NaN        NaN  \n",
       "2  0.1  12.08   98.98      0.2     5.98    0.18  NaN        NaN  \n",
       "3  0.1  10.47  112.20      0.2     6.72    0.10  NaN        NaN  \n",
       "4  0.1   9.12  106.35      0.2     5.75    0.08  NaN        NaN  "
      ]
     },
     "execution_count": 583,
     "metadata": {},
     "output_type": "execute_result"
    }
   ],
   "source": [
    "df5 = pd.read_csv('station_hour.csv')\n",
    "df5.head()"
   ]
  },
  {
   "cell_type": "code",
   "execution_count": 584,
   "id": "4d0f1f1d",
   "metadata": {},
   "outputs": [
    {
     "data": {
      "text/plain": [
       "992.0"
      ]
     },
     "execution_count": 584,
     "metadata": {},
     "output_type": "execute_result"
    }
   ],
   "source": [
    "df5[df5['StationId']=='DL001']['PM2.5'].max()"
   ]
  },
  {
   "cell_type": "code",
   "execution_count": 585,
   "id": "c84f94da",
   "metadata": {},
   "outputs": [
    {
     "data": {
      "text/plain": [
       "991.0"
      ]
     },
     "execution_count": 585,
     "metadata": {},
     "output_type": "execute_result"
    }
   ],
   "source": [
    "df5[df5['StationId']=='DL001']['PM10'].max()"
   ]
  },
  {
   "cell_type": "code",
   "execution_count": 586,
   "id": "35dcfc9c",
   "metadata": {},
   "outputs": [
    {
     "name": "stdout",
     "output_type": "stream",
     "text": [
      "DL001 - 992.0 - 991.0\n",
      "DL002 - 985.0 - 1000.0\n",
      "DL003 - 972.0 - 997.0\n",
      "DL004 - 954.0 - 983.01\n",
      "DL005 - 991.0 - 995.0\n",
      "DL007 - 973.79 - 1000.0\n",
      "DL008 - 1000.0 - 1000.0\n",
      "DL009 - 967.5 - 974.0\n",
      "DL010 - 958.25 - 998.0\n",
      "DL011 - nan - nan\n",
      "DL012 - 955.54 - 992.55\n",
      "DL013 - 994.07 - nan\n",
      "DL014 - 989.25 - 999.75\n",
      "DL015 - 1000.0 - 998.0\n",
      "DL016 - 929.0 - 991.0\n",
      "DL017 - 986.34 - 996.07\n",
      "DL018 - 985.75 - 998.0\n",
      "DL019 - 945.0 - 991.0\n",
      "DL020 - 988.5 - 994.0\n",
      "DL021 - 997.51 - nan\n",
      "DL022 - 907.0 - 998.0\n",
      "DL023 - 892.0 - 1000.0\n",
      "DL024 - 1000.0 - 1000.0\n",
      "DL025 - 987.43 - 999.96\n",
      "DL026 - 987.0 - 994.0\n",
      "DL027 - 983.0 - 997.0\n",
      "DL028 - 988.0 - 988.0\n",
      "DL029 - 978.0 - 998.0\n",
      "DL030 - 986.25 - 996.52\n",
      "DL031 - 985.0 - 998.17\n",
      "DL032 - 967.0 - 997.0\n",
      "DL033 - 997.23 - nan\n",
      "DL034 - 1000.0 - 1000.0\n",
      "DL035 - 984.0 - 1000.0\n",
      "DL036 - 992.75 - 935.0\n",
      "DL037 - 957.25 - 1000.0\n",
      "DL038 - 969.75 - 1000.0\n"
     ]
    }
   ],
   "source": [
    "for i in list_active_stations:\n",
    "    print(i , end = \" - \")\n",
    "    print(df5[df5['StationId']==i]['PM2.5'].max(), end = \" - \")\n",
    "    print(df5[df5['StationId']==i]['PM10'].max())"
   ]
  },
  {
   "cell_type": "markdown",
   "id": "6ad7588b",
   "metadata": {},
   "source": [
    "## Conclusion"
   ]
  },
  {
   "cell_type": "code",
   "execution_count": 587,
   "id": "08f9d271",
   "metadata": {},
   "outputs": [],
   "source": [
    "#  Most polluted city is Gurguram in terms of PM2.5 concentration= 949.99 in August month (monsoon season)\n",
    "# in January Month, we hve the max PM10 Concentration = 666.72 in Gurugram in Winter Season\n",
    "\n",
    "#  Least polluted city is Aizwal in terms of PM2.5 concentration\n",
    "\n",
    "# Lowest AQI was found in Odhisa State (Talcher) which is 13.\n",
    "\n",
    "# we have also seen the bucketing range for the AQI values i.e very poor, poor, moderate, good, satisfactory.\n",
    "\n",
    "# we checked the active station IDs and found maximum number of IDs from \"delhi region\" and then we calculated the max\n",
    "# and min of PM2.5 concentration."
   ]
  },
  {
   "cell_type": "markdown",
   "id": "b4b36c7b",
   "metadata": {},
   "source": [
    "## Finished!"
   ]
  },
  {
   "cell_type": "markdown",
   "id": "4373ed3d",
   "metadata": {},
   "source": [
    "***************************************************************************************************************************"
   ]
  }
 ],
 "metadata": {
  "kernelspec": {
   "display_name": "Python 3 (ipykernel)",
   "language": "python",
   "name": "python3"
  },
  "language_info": {
   "codemirror_mode": {
    "name": "ipython",
    "version": 3
   },
   "file_extension": ".py",
   "mimetype": "text/x-python",
   "name": "python",
   "nbconvert_exporter": "python",
   "pygments_lexer": "ipython3",
   "version": "3.9.13"
  }
 },
 "nbformat": 4,
 "nbformat_minor": 5
}
